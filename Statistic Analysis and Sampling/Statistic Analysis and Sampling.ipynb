{
 "cells": [
  {
   "cell_type": "markdown",
   "metadata": {},
   "source": [
    "##Python code to verify the simulation results by using statistic methods\n",
    "####Reference http://pubs.acs.org/doi/pdfplus/10.1021/ct500040r"
   ]
  },
  {
   "cell_type": "code",
   "execution_count": 3,
   "metadata": {
    "collapsed": true
   },
   "outputs": [],
   "source": [
    "import matplotlib.pyplot as plt \n",
    "import numpy as np\n",
    "from matplotlib.legend_handler import HandlerLine2D\n",
    "import matplotlib.lines as mlines\n",
    "from scipy.optimize import curve_fit\n",
    "from scipy.misc import factorial\n",
    "from scipy.stats import ks_2samp\n",
    "from scipy import stats"
   ]
  },
  {
   "cell_type": "code",
   "execution_count": 4,
   "metadata": {
    "collapsed": true
   },
   "outputs": [],
   "source": [
    "datain = np.genfromtxt('Unfolding rate data(100 trials).txt')\n",
    "data = datain[:, 1]*1e9\n",
    "min = np.min(data)\n",
    "max = np.max(data)\n",
    "bins = 10*np.size(data)\n",
    "\n",
    "time = np.logspace(np.log10(min), np.log10(max), num=bins)\n",
    "mu = np.mean(data)\n",
    "\n",
    "time_centers = np.r_[0.5 * (time[:-1] + time[1:])]\n"
   ]
  },
  {
   "cell_type": "markdown",
   "metadata": {},
   "source": [
    "###Poisson process, the cumulative distribution function (CDF)"
   ]
  },
  {
   "cell_type": "code",
   "execution_count": 5,
   "metadata": {
    "collapsed": true
   },
   "outputs": [],
   "source": [
    "def analyticalCDF(times,tau):\n",
    "    return 1-np.exp(-times/tau)\n"
   ]
  },
  {
   "cell_type": "code",
   "execution_count": 6,
   "metadata": {
    "collapsed": false
   },
   "outputs": [
    {
     "name": "stdout",
     "output_type": "stream",
     "text": [
      "376.902294078\n",
      "37.8801058206\n"
     ]
    }
   ],
   "source": [
    "print np.std(data)\n",
    "print stats.sem(data)\n"
   ]
  },
  {
   "cell_type": "markdown",
   "metadata": {},
   "source": [
    "###Empirical cumulative distribution function(ECDF)"
   ]
  },
  {
   "cell_type": "code",
   "execution_count": 7,
   "metadata": {
    "collapsed": true
   },
   "outputs": [],
   "source": [
    "hist, bins2 = np.histogram(data, bins=time, density=False)\n",
    "cdf = np.cumsum(hist)*1.0/data.size\n"
   ]
  },
  {
   "cell_type": "code",
   "execution_count": 8,
   "metadata": {
    "collapsed": false
   },
   "outputs": [
    {
     "name": "stdout",
     "output_type": "stream",
     "text": [
      "mu (ns)\t\t50.091603327\n",
      "taufit (ns)\t0.652246441386\n"
     ]
    },
    {
     "name": "stderr",
     "output_type": "stream",
     "text": [
      "/Users/michaeltung/anaconda/lib/python2.7/site-packages/IPython/kernel/__main__.py:2: RuntimeWarning: overflow encountered in exp\n",
      "  from IPython.kernel.zmq import kernelapp as app\n"
     ]
    }
   ],
   "source": [
    "# Fit the CDF\n",
    "taufit, pcov = curve_fit(analyticalCDF, time_centers, cdf, mu)\n",
    "print \"mu (ns)\\t\\t\", mu\n",
    "print \"taufit (ns)\\t\", taufit[0]\n"
   ]
  },
  {
   "cell_type": "markdown",
   "metadata": {},
   "source": [
    "###Make some plots"
   ]
  },
  {
   "cell_type": "code",
   "execution_count": 9,
   "metadata": {
    "collapsed": false
   },
   "outputs": [
    {
     "data": {
      "image/png": "[encoded data removed]",
      "text/plain": [
       "<matplotlib.figure.Figure at 0x107750650>"
      ]
     },
     "metadata": {},
     "output_type": "display_data"
    }
   ],
   "source": [
    "# lets make some plots\n",
    "%matplotlib inline\n",
    "fig = plt.figure(figsize=(6, 6))\n",
    "fig.subplots_adjust(left=None, bottom=None, right=None, top=None, wspace=None, hspace=0.2)\n",
    "\n",
    "axes = fig.add_subplot(111)\n",
    "axes.plot(bins2[1:bins], cdf, label='$CDF$')\n",
    "axes.set_xscale('log')\n",
    "axes.plot(time_centers, analyticalCDF(time_centers, taufit), label='$analytical\\ CDF$')\n",
    "first_legend = plt.legend(loc=0)\n",
    "axes.set_xlabel('$log\\ time\\ (ns)$')\n",
    "axes.set_ylabel('$P_{n\\geq1}$')\n",
    "plt.show()\n"
   ]
  },
  {
   "cell_type": "code",
   "execution_count": 10,
   "metadata": {
    "collapsed": true
   },
   "outputs": [],
   "source": [
    "points = 1e5\n",
    "randdata = np.random.gamma(1, taufit, np.size(data)*points)\n",
    "\n",
    "# perfrom the KS test to see if the data points from MetaD are statistically\n",
    "# the same as the data points from the analytical fit\n",
    "stat, p = ks_2samp(data, randdata)\n"
   ]
  },
  {
   "cell_type": "markdown",
   "metadata": {},
   "source": [
    "###Statistic Results"
   ]
  },
  {
   "cell_type": "code",
   "execution_count": 11,
   "metadata": {
    "collapsed": false
   },
   "outputs": [
    {
     "name": "stdout",
     "output_type": "stream",
     "text": [
      "mu: 50.091603327\n",
      "mu_sem: 37.8801058206\n",
      "sigma: 378.801058206\n",
      "t_m: 0.3737165\n",
      "tau: [ 0.65224644]\n",
      "mu_sigma_ratio: 0.132237231766\n",
      "log2mu_median_ratio: 92.9069324363\n",
      "tau_mu_ratio: [ 0.01302107]\n",
      "p-value: 0.248116638054\n",
      "ks-stat: 0.1007851\n",
      "events recorded: 100\n"
     ]
    }
   ],
   "source": [
    "# data table:\n",
    "print \"mu:\", np.mean(data)\n",
    "print \"mu_sem:\", stats.sem(data)\n",
    "print \"sigma:\", np.std(data, ddof=1)\n",
    "print \"t_m:\", np.median(data)\n",
    "print \"tau:\", taufit\n",
    "print \"mu_sigma_ratio:\", np.mean(data)/np.std(data, ddof=1)\n",
    "print \"log2mu_median_ratio:\", np.log(2)*np.mean(data)/np.median(data)\n",
    "print \"tau_mu_ratio:\", taufit/np.mean(data)\n",
    "print \"p-value:\", p\n",
    "print \"ks-stat:\", stat\n",
    "print \"events recorded:\",  np.size(data)\n"
   ]
  },
  {
   "cell_type": "markdown",
   "metadata": {},
   "source": [
    "### Automation to perform thousands of simulations and systematically analyze results"
   ]
  },
  {
   "cell_type": "code",
   "execution_count": 12,
   "metadata": {
    "collapsed": true
   },
   "outputs": [],
   "source": [
    "# random sampling on data set\n",
    "def sampling(data, num_iters, sampsize):\n",
    "\n",
    "    means = np.array([0.0])\n",
    "    pvals = np.array([0.0])\n",
    "    points = 1e4   # number of sampling points for p-val\n",
    "    alpha = 0.05\n",
    "    reject = 0.0\n",
    "\n",
    "    while np.size(means) <= num_iters:\n",
    "        smalldata = np.random.choice(data, sampsize, replace=True)\n",
    "        # hist / CDF fit / etc\n",
    "        min = np.min(smalldata)\n",
    "        max = np.max(smalldata)\n",
    "        bins = 10*np.size(smalldata)\n",
    "        time = np.logspace(np.log10(min), np.log10(max), num=bins)\n",
    "        mu = np.mean(smalldata)\n",
    "        time_centers = np.r_[0.5 * (time[:-1] + time[1:])]\n",
    "        hist, bins2 = np.histogram(smalldata, bins=time, density=False)\n",
    "        cdf = np.cumsum(hist)*1.0/smalldata.size\n",
    "        taufit, pcov = curve_fit(analyticalCDF, time_centers, cdf, mu)\n",
    "        # analysis\n",
    "        randdata = np.random.gamma(1, taufit, np.size(smalldata)*points)\n",
    "        stat, p = ks_2samp(smalldata, randdata)\n",
    "        if p > alpha:\n",
    "            means[means.size-1] = mu\n",
    "            pvals[pvals.size-1] = p\n",
    "            # debugprint p, mu\n",
    "            means.resize(means.size+1)\n",
    "            pvals.resize(pvals.size+1)\n",
    "        if p < alpha:\n",
    "            reject = reject+1\n",
    "    # this is just book keeping to remove the last 0 element\n",
    "    means = means[:(means.size-1)]\n",
    "    pvals = pvals[:(pvals.size-1)]\n",
    "    return means, pvals, reject\n"
   ]
  },
  {
   "cell_type": "code",
   "execution_count": 13,
   "metadata": {
    "collapsed": false
   },
   "outputs": [
    {
     "name": "stderr",
     "output_type": "stream",
     "text": [
      "/Users/michaeltung/anaconda/lib/python2.7/site-packages/IPython/kernel/__main__.py:2: RuntimeWarning: overflow encountered in exp\n",
      "  from IPython.kernel.zmq import kernelapp as app\n"
     ]
    },
    {
     "data": {
      "text/plain": [
       "(array([  73.97309314,  145.86657409,   25.10145232,  120.33203345,\n",
       "         147.71244381,    3.28796262,   97.67303723,    4.01530034,\n",
       "           1.84473213,    0.99732351]),\n",
       " array([ 0.09035161,  0.42853454,  0.4120662 ,  0.81207224,  0.43999325,\n",
       "         0.15544654,  0.08548227,  0.12052136,  0.24702154,  0.3806016 ]),\n",
       " 0.0)"
      ]
     },
     "execution_count": 13,
     "metadata": {},
     "output_type": "execute_result"
    }
   ],
   "source": [
    "sampling(data, 10, 50)\n"
   ]
  },
  {
   "cell_type": "code",
   "execution_count": null,
   "metadata": {
    "collapsed": true
   },
   "outputs": [],
   "source": []
  }
 ],
 "metadata": {
  "kernelspec": {
   "display_name": "Python 2",
   "language": "python",
   "name": "python2"
  },
  "language_info": {
   "codemirror_mode": {
    "name": "ipython",
    "version": 2
   },
   "file_extension": ".py",
   "mimetype": "text/x-python",
   "name": "python",
   "nbconvert_exporter": "python",
   "pygments_lexer": "ipython2",
   "version": "2.7.8"
  }
 },
 "nbformat": 4,
 "nbformat_minor": 0
}
