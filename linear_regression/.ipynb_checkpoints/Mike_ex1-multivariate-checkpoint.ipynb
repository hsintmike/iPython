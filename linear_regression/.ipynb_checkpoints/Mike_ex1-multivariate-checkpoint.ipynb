{
 "cells": [
  {
   "cell_type": "code",
   "execution_count": 2,
   "metadata": {
    "collapsed": true
   },
   "outputs": [],
   "source": [
    "import pandas as pd\n",
    "import numpy as np\n",
    "import matplotlib.pyplot as plt\n",
    "%matplotlib inline"
   ]
  },
  {
   "cell_type": "markdown",
   "metadata": {},
   "source": [
    "Load and explore data:"
   ]
  },
  {
   "cell_type": "code",
   "execution_count": 3,
   "metadata": {
    "collapsed": false
   },
   "outputs": [],
   "source": [
    "data = pd.read_csv('ex1data2.txt', header=None, names=['x1', 'x2', 'y'])\n"
   ]
  },
  {
   "cell_type": "code",
   "execution_count": 4,
   "metadata": {
    "collapsed": false
   },
   "outputs": [
    {
     "data": {
      "text/html": [
       "<div style=\"max-height:1000px;max-width:1500px;overflow:auto;\">\n",
       "<table border=\"1\" class=\"dataframe\">\n",
       "  <thead>\n",
       "    <tr style=\"text-align: right;\">\n",
       "      <th></th>\n",
       "      <th>x1</th>\n",
       "      <th>x2</th>\n",
       "      <th>y</th>\n",
       "    </tr>\n",
       "  </thead>\n",
       "  <tbody>\n",
       "    <tr>\n",
       "      <th>0</th>\n",
       "      <td> 2104</td>\n",
       "      <td> 3</td>\n",
       "      <td> 399900</td>\n",
       "    </tr>\n",
       "    <tr>\n",
       "      <th>1</th>\n",
       "      <td> 1600</td>\n",
       "      <td> 3</td>\n",
       "      <td> 329900</td>\n",
       "    </tr>\n",
       "    <tr>\n",
       "      <th>2</th>\n",
       "      <td> 2400</td>\n",
       "      <td> 3</td>\n",
       "      <td> 369000</td>\n",
       "    </tr>\n",
       "    <tr>\n",
       "      <th>3</th>\n",
       "      <td> 1416</td>\n",
       "      <td> 2</td>\n",
       "      <td> 232000</td>\n",
       "    </tr>\n",
       "    <tr>\n",
       "      <th>4</th>\n",
       "      <td> 3000</td>\n",
       "      <td> 4</td>\n",
       "      <td> 539900</td>\n",
       "    </tr>\n",
       "  </tbody>\n",
       "</table>\n",
       "</div>"
      ],
      "text/plain": [
       "     x1  x2       y\n",
       "0  2104   3  399900\n",
       "1  1600   3  329900\n",
       "2  2400   3  369000\n",
       "3  1416   2  232000\n",
       "4  3000   4  539900"
      ]
     },
     "execution_count": 4,
     "metadata": {},
     "output_type": "execute_result"
    }
   ],
   "source": [
    "data.head()\n"
   ]
  },
  {
   "cell_type": "code",
   "execution_count": 5,
   "metadata": {
    "collapsed": false
   },
   "outputs": [
    {
     "data": {
      "text/plain": [
       "(47, 3)"
      ]
     },
     "execution_count": 5,
     "metadata": {},
     "output_type": "execute_result"
    }
   ],
   "source": [
    "data.shape\n"
   ]
  },
  {
   "cell_type": "code",
   "execution_count": 7,
   "metadata": {
    "collapsed": true
   },
   "outputs": [],
   "source": [
    "X = data[['x1', 'x2']].values\n",
    "Y = data['y'].values\n",
    "m = len(data)\n"
   ]
  },
  {
   "cell_type": "markdown",
   "metadata": {},
   "source": [
    "##Part 1 :Feature Normalization"
   ]
  },
  {
   "cell_type": "code",
   "execution_count": 8,
   "metadata": {
    "collapsed": false
   },
   "outputs": [
    {
     "data": {
      "text/html": [
       "<div style=\"max-height:1000px;max-width:1500px;overflow:auto;\">\n",
       "<table border=\"1\" class=\"dataframe\">\n",
       "  <thead>\n",
       "    <tr style=\"text-align: right;\">\n",
       "      <th></th>\n",
       "      <th>x1</th>\n",
       "      <th>x2</th>\n",
       "      <th>y</th>\n",
       "      <th>x1_norm</th>\n",
       "      <th>x2_norm</th>\n",
       "    </tr>\n",
       "  </thead>\n",
       "  <tbody>\n",
       "    <tr>\n",
       "      <th>0</th>\n",
       "      <td> 2104</td>\n",
       "      <td> 3</td>\n",
       "      <td> 399900</td>\n",
       "      <td> 0.131415</td>\n",
       "      <td>-0.226093</td>\n",
       "    </tr>\n",
       "    <tr>\n",
       "      <th>1</th>\n",
       "      <td> 1600</td>\n",
       "      <td> 3</td>\n",
       "      <td> 329900</td>\n",
       "      <td>-0.509641</td>\n",
       "      <td>-0.226093</td>\n",
       "    </tr>\n",
       "    <tr>\n",
       "      <th>2</th>\n",
       "      <td> 2400</td>\n",
       "      <td> 3</td>\n",
       "      <td> 369000</td>\n",
       "      <td> 0.507909</td>\n",
       "      <td>-0.226093</td>\n",
       "    </tr>\n",
       "    <tr>\n",
       "      <th>3</th>\n",
       "      <td> 1416</td>\n",
       "      <td> 2</td>\n",
       "      <td> 232000</td>\n",
       "      <td>-0.743677</td>\n",
       "      <td>-1.554392</td>\n",
       "    </tr>\n",
       "    <tr>\n",
       "      <th>4</th>\n",
       "      <td> 3000</td>\n",
       "      <td> 4</td>\n",
       "      <td> 539900</td>\n",
       "      <td> 1.271071</td>\n",
       "      <td> 1.102205</td>\n",
       "    </tr>\n",
       "  </tbody>\n",
       "</table>\n",
       "</div>"
      ],
      "text/plain": [
       "     x1  x2       y   x1_norm   x2_norm\n",
       "0  2104   3  399900  0.131415 -0.226093\n",
       "1  1600   3  329900 -0.509641 -0.226093\n",
       "2  2400   3  369000  0.507909 -0.226093\n",
       "3  1416   2  232000 -0.743677 -1.554392\n",
       "4  3000   4  539900  1.271071  1.102205"
      ]
     },
     "execution_count": 8,
     "metadata": {},
     "output_type": "execute_result"
    }
   ],
   "source": [
    "mu = data.mean().values[:2]\n",
    "sigma = np.std(X, axis=0)\n",
    "# data.std().values[:2]\n",
    "\n",
    "data['x1_norm'] = (data['x1'] - mu[0])/sigma[0]\n",
    "data['x2_norm'] = (data['x2'] - mu[1])/sigma[1]\n",
    "\n",
    "X_norm = data[['x1_norm', 'x2_norm']].values\n",
    "\n",
    "data.head()\n"
   ]
  },
  {
   "cell_type": "markdown",
   "metadata": {},
   "source": [
    "Add intercept term to X:"
   ]
  },
  {
   "cell_type": "code",
   "execution_count": 9,
   "metadata": {
    "collapsed": false
   },
   "outputs": [
    {
     "data": {
      "text/plain": [
       "array([[ 1.        ,  0.13141542, -0.22609337],\n",
       "       [ 1.        , -0.5096407 , -0.22609337]])"
      ]
     },
     "execution_count": 9,
     "metadata": {},
     "output_type": "execute_result"
    }
   ],
   "source": [
    "X_norm = np.insert(X_norm, 0, 1, 1)\n",
    "X_norm[:2]\n"
   ]
  },
  {
   "cell_type": "code",
   "execution_count": 10,
   "metadata": {
    "collapsed": true
   },
   "outputs": [],
   "source": [
    "# choose some alpha value\n",
    "alpha = 0.01\n",
    "# Init Theta\n",
    "theta = np.zeros(3)\n",
    "iterations = 400\n"
   ]
  },
  {
   "cell_type": "markdown",
   "metadata": {},
   "source": [
    "##Part 2: Gradient Descent\n",
    "\n",
    "Make sure your implementations of compute_cost and gradient_descent work when X has more than 2 columns"
   ]
  },
  {
   "cell_type": "code",
   "execution_count": 13,
   "metadata": {
    "collapsed": true
   },
   "outputs": [],
   "source": [
    "def compute_cost_multi(X, Y, theta):\n",
    "    # COMPUTECOST Compute cost for linear regression\n",
    "    # J=compute_cost(X,Y,theta) computes the cost of using theta as the\n",
    "    # parameter for linear regression to fit the data points in X and Y\n",
    "\n",
    "    m = float(len(X))\n",
    "\n",
    "    # Instructions:Compute the cost of a particular choice of theta\n",
    "    J = 0  # initialize J\n",
    "\n",
    "    for i, row in enumerate(X):\n",
    "        J += (np.dot(theta.transpose(), X[i])-Y[i])**2\n",
    "\n",
    "    J /= (2*m)\n",
    "    return J\n"
   ]
  },
  {
   "cell_type": "markdown",
   "metadata": {},
   "source": [
    "Cost at initial theta:"
   ]
  },
  {
   "cell_type": "code",
   "execution_count": 14,
   "metadata": {
    "collapsed": false
   },
   "outputs": [
    {
     "data": {
      "text/plain": [
       "65591548106.457443"
      ]
     },
     "execution_count": 14,
     "metadata": {},
     "output_type": "execute_result"
    }
   ],
   "source": [
    "compute_cost_multi(X_norm, Y, theta)\n"
   ]
  },
  {
   "cell_type": "markdown",
   "metadata": {},
   "source": [
    "Run gradient descent:"
   ]
  },
  {
   "cell_type": "code",
   "execution_count": 15,
   "metadata": {
    "collapsed": true
   },
   "outputs": [],
   "source": [
    "def gradient_descent_multi(X, y, theta, alpha, num_iters):\n",
    "    # GRADIENTDESCENT Performs gradient descent to learn theta\n",
    "    # theta = GRADIENTDESCENT(X, y, theta, alpha, num_iters) updates theta by\n",
    "    # taking num_iters gradient steps with learning rate alpha\n",
    "\n",
    "    m = float(len(X))\n",
    "\n",
    "    def sumterm(X, y, theta, j):\n",
    "        dJ = 0\n",
    "        for i, row in enumerate(X):\n",
    "            dJ += (np.dot(theta.transpose(), X[i])-Y[i])*X[i, j]\n",
    "        dJ /= m\n",
    "        return dJ\n",
    "\n",
    "    # Initialize\n",
    "    J_history = np.zeros((num_iters,))\n",
    "    T_history = np.zeros((num_iters, len(theta)))\n",
    "\n",
    "    for i in range(num_iters):\n",
    "        T_history[i] = theta\n",
    "\n",
    "        updated_params = theta.copy()\n",
    "        for j in range(len(theta)):\n",
    "            updated_params[j] = theta[j] - alpha * sumterm(X, y, theta, j)\n",
    "        theta = updated_params\n",
    "#       theta = theta - (alpha/m) *\n",
    "#       np.transpose(X*np.mat(theta).transpose()-np.mat(y).transpose()) * X\n",
    "\n",
    "        J_history[i] = compute_cost_multi(X, y, theta)\n",
    "\n",
    "    return theta, J_history, T_history\n"
   ]
  },
  {
   "cell_type": "code",
   "execution_count": 16,
   "metadata": {
    "collapsed": false
   },
   "outputs": [
    {
     "data": {
      "text/plain": [
       "array([ 334302.06399328,   99411.44947359,    3267.01285407])"
      ]
     },
     "execution_count": 16,
     "metadata": {},
     "output_type": "execute_result"
    }
   ],
   "source": [
    "theta = np.zeros(3)\n",
    "theta, J_history, T_history = gradient_descent_multi(X_norm, Y,\n",
    "                                                     theta, alpha, iterations)\n",
    "theta\n"
   ]
  },
  {
   "cell_type": "markdown",
   "metadata": {},
   "source": [
    "Convergence graph:"
   ]
  },
  {
   "cell_type": "code",
   "execution_count": 17,
   "metadata": {
    "collapsed": false
   },
   "outputs": [
    {
     "data": {
      "text/plain": [
       "<matplotlib.axes._subplots.AxesSubplot at 0x1083f1790>"
      ]
     },
     "execution_count": 17,
     "metadata": {},
     "output_type": "execute_result"
    },
    {
     "data": {
      "image/png": "[encoded data removed]",
      "text/plain": [
       "<matplotlib.figure.Figure at 0x1083f1450>"
      ]
     },
     "metadata": {},
     "output_type": "display_data"
    }
   ],
   "source": [
    "pd.Series(J_history).plot()\n"
   ]
  },
  {
   "cell_type": "code",
   "execution_count": 59,
   "metadata": {
    "collapsed": false
   },
   "outputs": [
    {
     "name": "stdout",
     "output_type": "stream",
     "text": [
      "[ 340412.65345227  109398.90129361   -6529.45967813]\n"
     ]
    },
    {
     "data": {
      "text/plain": [
       "<matplotlib.axes._subplots.AxesSubplot at 0x10844abd0>"
      ]
     },
     "execution_count": 59,
     "metadata": {},
     "output_type": "execute_result"
    },
    {
     "data": {
      "image/png": "[encoded data removed]",
      "text/plain": [
       "<matplotlib.figure.Figure at 0x10852aa90>"
      ]
     },
     "metadata": {},
     "output_type": "display_data"
    }
   ],
   "source": [
    "theta = np.zeros(3)\n",
    "theta, J_history, T_history = gradient_descent_multi(X_norm, Y, theta, 0.3, 50)\n",
    "print theta\n",
    "pd.Series(J_history).plot()\n"
   ]
  },
  {
   "cell_type": "markdown",
   "metadata": {},
   "source": [
    "Estimate the price of a 1650sqft, 3 bedroom house:"
   ]
  },
  {
   "cell_type": "code",
   "execution_count": 18,
   "metadata": {
    "collapsed": false
   },
   "outputs": [
    {
     "data": {
      "text/plain": [
       "289221.5473712181"
      ]
     },
     "execution_count": 18,
     "metadata": {},
     "output_type": "execute_result"
    }
   ],
   "source": [
    "price = np.array([1, (1650 - mu[0])/sigma[0], (3 - mu[1])/sigma[1]]).dot(theta)\n",
    "price\n"
   ]
  },
  {
   "cell_type": "markdown",
   "metadata": {},
   "source": [
    "###Part 3:Normal Equations\n",
    "The following code computes the closed form solution for linear regression using normal equations. You should complete the code in normal_eqn().\n",
    "After doing so, you should complete this code to predict the price of 1650 sq-ft, 3br house."
   ]
  },
  {
   "cell_type": "code",
   "execution_count": 19,
   "metadata": {
    "collapsed": true
   },
   "outputs": [],
   "source": [
    "data = pd.read_csv('ex1data2.txt', header=None, names=['x1', 'x2', 'y'])\n",
    "X = data[['x1', 'x2']].values\n",
    "Y = data['y'].values\n",
    "X = np.insert(X, 0, 1, 1)\n"
   ]
  },
  {
   "cell_type": "code",
   "execution_count": 20,
   "metadata": {
    "collapsed": true
   },
   "outputs": [],
   "source": [
    "def normal_eqn(X, y):\n",
    "    # NORMALEQN Computes the closed-form solution to linear regression\n",
    "\n",
    "    theta = np.linalg.inv(X.transpose().dot(X)).dot(X.transpose()).dot(y)\n",
    "\n",
    "    return theta\n",
    "    "
   ]
  },
  {
   "cell_type": "code",
   "execution_count": 21,
   "metadata": {
    "collapsed": false
   },
   "outputs": [],
   "source": [
    "theta = normal_eqn(X, Y)\n"
   ]
  },
  {
   "cell_type": "markdown",
   "metadata": {},
   "source": [
    "Theta found using the normal equations:"
   ]
  },
  {
   "cell_type": "code",
   "execution_count": 22,
   "metadata": {
    "collapsed": false
   },
   "outputs": [
    {
     "data": {
      "text/plain": [
       "array([ 89597.9095428 ,    139.21067402,  -8738.01911233])"
      ]
     },
     "execution_count": 22,
     "metadata": {},
     "output_type": "execute_result"
    }
   ],
   "source": [
    "theta\n"
   ]
  },
  {
   "cell_type": "markdown",
   "metadata": {},
   "source": [
    "Price estimation of a 1650sqft house with 3 bedrooms, using theta from the normal equations:"
   ]
  },
  {
   "cell_type": "code",
   "execution_count": 23,
   "metadata": {
    "collapsed": false
   },
   "outputs": [
    {
     "data": {
      "text/plain": [
       "293081.46433489589"
      ]
     },
     "execution_count": 23,
     "metadata": {},
     "output_type": "execute_result"
    }
   ],
   "source": [
    "price = np.array([1, 1650, 3]).dot(theta)\n",
    "price\n"
   ]
  },
  {
   "cell_type": "markdown",
   "metadata": {
    "collapsed": true
   },
   "source": [
    "###Use scipy.optimize import fmin"
   ]
  },
  {
   "cell_type": "code",
   "execution_count": 27,
   "metadata": {
    "collapsed": true
   },
   "outputs": [],
   "source": [
    "from scipy.optimize import fmin"
   ]
  },
  {
   "cell_type": "code",
   "execution_count": 24,
   "metadata": {
    "collapsed": false
   },
   "outputs": [],
   "source": [
    "x_new = data[['x1', 'x2']].values\n",
    "x_new = np.insert(x_new, 0, 1, 1)\n",
    "y_new = data['y'].values\n"
   ]
  },
  {
   "cell_type": "code",
   "execution_count": 25,
   "metadata": {
    "collapsed": false
   },
   "outputs": [],
   "source": [
    "def ss(theta, x, y):\n",
    "    J = 0\n",
    "    for i in range(len(x)):\n",
    "        J += (np.dot(theta.transpose(), X[i])-Y[i])**2\n",
    "    return J\n"
   ]
  },
  {
   "cell_type": "code",
   "execution_count": 28,
   "metadata": {
    "collapsed": false
   },
   "outputs": [
    {
     "name": "stdout",
     "output_type": "stream",
     "text": [
      "Warning: Maximum number of function evaluations has been exceeded.\n"
     ]
    }
   ],
   "source": [
    "theta = np.array([0, 0, 1])\n",
    "theta = fmin(ss, theta, args=(x_new, y_new))\n"
   ]
  },
  {
   "cell_type": "code",
   "execution_count": 29,
   "metadata": {
    "collapsed": false
   },
   "outputs": [
    {
     "data": {
      "text/plain": [
       "array([ 92165.21469922,    139.61551565, -10138.41829638])"
      ]
     },
     "execution_count": 29,
     "metadata": {},
     "output_type": "execute_result"
    }
   ],
   "source": [
    "theta\n"
   ]
  },
  {
   "cell_type": "code",
   "execution_count": 30,
   "metadata": {
    "collapsed": false
   },
   "outputs": [
    {
     "data": {
      "text/plain": [
       "292115.56062457617"
      ]
     },
     "execution_count": 30,
     "metadata": {},
     "output_type": "execute_result"
    }
   ],
   "source": [
    "price = np.array([1, 1650, 3]).dot(theta)\n",
    "price\n"
   ]
  },
  {
   "cell_type": "markdown",
   "metadata": {},
   "source": [
    "###Compare 3 different methods"
   ]
  },
  {
   "cell_type": "markdown",
   "metadata": {},
   "source": [
    "| Methods           |Theta               | x1  | x2  |Prediction|\n",
    "|-------------------|--------------------|-----|-----|----------|\n",
    "|Gradient Descent   |        X           |1650 | 3   |293092.212|\n",
    "|Normal Equation    |(89597, 139,  -8738)|1650 | 3   |293081.464|\n",
    "|Scipy.optmize fmin |(92165, 139, -10138)|1650 | 3   |292115.560|"
   ]
  },
  {
   "cell_type": "code",
   "execution_count": null,
   "metadata": {
    "collapsed": true
   },
   "outputs": [],
   "source": []
  },
  {
   "cell_type": "code",
   "execution_count": null,
   "metadata": {
    "collapsed": true
   },
   "outputs": [],
   "source": []
  }
 ],
 "metadata": {
  "kernelspec": {
   "display_name": "Python 2",
   "language": "python",
   "name": "python2"
  },
  "language_info": {
   "codemirror_mode": {
    "name": "ipython",
    "version": 2
   },
   "file_extension": ".py",
   "mimetype": "text/x-python",
   "name": "python",
   "nbconvert_exporter": "python",
   "pygments_lexer": "ipython2",
   "version": "2.7.9"
  }
 },
 "nbformat": 4,
 "nbformat_minor": 0
}
