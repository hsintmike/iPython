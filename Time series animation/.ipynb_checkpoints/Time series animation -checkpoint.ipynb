{
 "cells": [
  {
   "cell_type": "code",
   "execution_count": 1,
   "metadata": {
    "collapsed": true
   },
   "outputs": [],
   "source": [
    "import numpy as np\n",
    "import matplotlib.pyplot as plt\n",
    "import matplotlib.animation as animation\n",
    "\n",
    "\n",
    "with open(\"COLVAR_w350\") as f:\n",
    "    data=f.read()\n",
    "data = data.split(\"\\n\")\n",
    "data= data[1:-1]\n",
    "x=[row.strip().split()[3] for row in data]\n",
    "y=[row.strip().split()[4] for row in data]\n",
    "x_1 = float(x[0])\n",
    "y_1 = float(y[0])\n",
    "\n",
    "\n",
    "fesdata = np.genfromtxt('fes.water.dat')\n",
    "dim = int(np.sqrt(np.size(fesdata)/3))\n",
    "X=np.reshape(fesdata[:,0],[dim,dim], order = 'F')\n",
    "Y=np.reshape(fesdata[:,1],[dim,dim], order = 'F')\n",
    "Z=np.reshape((fesdata[:,2]-np.min(fesdata[:,2]))/4.184,[dim,dim],order=\"F\")\n",
    "\n",
    "spacer=1\n",
    "lines=20\n",
    "levels=np.linspace(0,lines*spacer,num=(lines+1),endpoint=True)\n",
    "\n",
    "\n",
    "fig=plt.figure(figsize=(10,8)) \n",
    "axes = fig.add_subplot(111)\n",
    "\n",
    "line, = axes.plot(y_1, x_1, marker=\"o\",markersize=8, linestyle='None')\n",
    "#axes.set_ylim(0,20)\n",
    "#axes.set_xlim(15,45)\n",
    "\n",
    "plt.contourf(X, Y, Z, levels, cmap=plt.cm.bone)\n",
    "plt.colorbar()\n",
    "\n",
    "def update(data):\n",
    "    line.set_data(data) \n",
    "    return line,\n",
    "\n",
    "def data_gen():\n",
    "    while True: \n",
    "        for i in range(1,len(x)):\n",
    "            yield (float(y[i]), float(x[i]))\n",
    "        \n",
    "\n",
    "        \n",
    "ani = animation.FuncAnimation(fig, update, data_gen, interval=100)\n",
    "\n",
    "\n",
    "#ani.save('animation2.mp4', fps=10,bitrate=1800,extra_args=['-vcodec', 'libx264'])\n",
    "plt.show()"
   ]
  },
  {
   "cell_type": "code",
   "execution_count": null,
   "metadata": {
    "collapsed": true
   },
   "outputs": [],
   "source": []
  }
 ],
 "metadata": {
  "kernelspec": {
   "display_name": "Python 2",
   "language": "python",
   "name": "python2"
  },
  "language_info": {
   "codemirror_mode": {
    "name": "ipython",
    "version": 2
   },
   "file_extension": ".py",
   "mimetype": "text/x-python",
   "name": "python",
   "nbconvert_exporter": "python",
   "pygments_lexer": "ipython2",
   "version": "2.7.8"
  }
 },
 "nbformat": 4,
 "nbformat_minor": 0
}
