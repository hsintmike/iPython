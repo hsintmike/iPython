{
 "cells": [
  {
   "cell_type": "markdown",
   "metadata": {},
   "source": [
    "###Questions\n",
    "(1) How many records are in the file?  \n",
    "(2) What are the lengths of the sequences in the file?  \n",
    "(3) What is the longest sequence and what is the shortest sequence?  \n",
    "(4) Is there more than one longest or shortest sequence? What are their identifiers?  \n",
    "(5) What is the length of the longest open reading frame(ORF) in the file?  \n",
    "(6) For a given sequence identifier, what is the longest ORF contained in the sequence represented by that idenitfier?  \n",
    "(7) What is the starting position of the longest ORF in the sequence that contains it?  \n",
    "(8) Given a length n, identify all repeats of length n in all sequences in the FASTA file  \n",
    "(9) Determine how many times each repeat occurs in the file, and which is the most frequent repeat of a given length"
   ]
  },
  {
   "cell_type": "markdown",
   "metadata": {},
   "source": [
    "#### (1) How many records are in the file? "
   ]
  },
  {
   "cell_type": "markdown",
   "metadata": {},
   "source": [
    "A record in a FASTA file is defined as a single-line header, followed by lines of sequence data. The header line is distinguished from the sequence data by a greater-than (\">\") symbol in the first column. The word following the \">\" symbol is the identifier of the sequence, and the rest of the line is an optional description of the entry."
   ]
  },
  {
   "cell_type": "code",
   "execution_count": 1,
   "metadata": {
    "collapsed": true
   },
   "outputs": [],
   "source": [
    "try:\n",
    "    with open(\"dna.example.fasta\") as f:\n",
    "        data = f.read()\n",
    "        data = data.split('\\n')\n",
    "except IOError:\n",
    "    print(\"File does not exist!\")\n"
   ]
  },
  {
   "cell_type": "code",
   "execution_count": 2,
   "metadata": {
    "collapsed": false
   },
   "outputs": [],
   "source": [
    "seqs = {}\n",
    "for line in data[:-1]:\n",
    "    line = line.rstrip()\n",
    "    # distinguish header from sequence\n",
    "    if line[0] == '>':    # or line.startswith('>')\n",
    "        words = line.split()\n",
    "        name = words[0][1:]  # We don't want to have \">\" sign\n",
    "        seqs[name] = \"\"\n",
    "    else:\n",
    "        seqs[name] = seqs[name] + line\n",
    "    "
   ]
  },
  {
   "cell_type": "code",
   "execution_count": 3,
   "metadata": {
    "collapsed": false
   },
   "outputs": [
    {
     "data": {
      "text/plain": [
       "25"
      ]
     },
     "execution_count": 3,
     "metadata": {},
     "output_type": "execute_result"
    }
   ],
   "source": [
    "len(seqs)"
   ]
  },
  {
   "cell_type": "markdown",
   "metadata": {
    "collapsed": true
   },
   "source": [
    "#### (2) What are the lengths of the sequences in the file?"
   ]
  },
  {
   "cell_type": "code",
   "execution_count": 4,
   "metadata": {
    "collapsed": false
   },
   "outputs": [
    {
     "name": "stdout",
     "output_type": "stream",
     "text": [
      "gi|142022655|gb|EQ086233.1|59 4745\n",
      "gi|142022655|gb|EQ086233.1|422 1801\n",
      "gi|142022655|gb|EQ086233.1|245 1325\n",
      "gi|142022655|gb|EQ086233.1|507 2124\n",
      "gi|142022655|gb|EQ086233.1|221 2863\n",
      "gi|142022655|gb|EQ086233.1|564 1663\n",
      "gi|142022655|gb|EQ086233.1|378 555\n",
      "gi|142022655|gb|EQ086233.1|229 3072\n",
      "gi|142022655|gb|EQ086233.1|294 3832\n",
      "gi|142022655|gb|EQ086233.1|160 724\n",
      "gi|142022655|gb|EQ086233.1|279 1189\n",
      "gi|142022655|gb|EQ086233.1|323 4805\n",
      "gi|142022655|gb|EQ086233.1|43 990\n",
      "gi|142022655|gb|EQ086233.1|41 3080\n",
      "gi|142022655|gb|EQ086233.1|101 2449\n",
      "gi|142022655|gb|EQ086233.1|384 3603\n",
      "gi|142022655|gb|EQ086233.1|438 3424\n",
      "gi|142022655|gb|EQ086233.1|455 691\n",
      "gi|142022655|gb|EQ086233.1|210 1451\n",
      "gi|142022655|gb|EQ086233.1|237 3276\n",
      "gi|142022655|gb|EQ086233.1|158 1608\n",
      "gi|142022655|gb|EQ086233.1|280 2478\n",
      "gi|142022655|gb|EQ086233.1|319 1810\n",
      "gi|142022655|gb|EQ086233.1|521 512\n",
      "gi|142022655|gb|EQ086233.1|350 1712\n"
     ]
    }
   ],
   "source": [
    "seqsvalue = list(seqs.values())\n",
    "seqskey = list(seqs.keys())\n",
    "for n, i in enumerate(seqsvalue):\n",
    "    print seqskey[n], len(i)\n"
   ]
  },
  {
   "cell_type": "markdown",
   "metadata": {},
   "source": [
    "####(3) What is the longest sequence and what is the shortest sequence?"
   ]
  },
  {
   "cell_type": "code",
   "execution_count": 5,
   "metadata": {
    "collapsed": false
   },
   "outputs": [
    {
     "name": "stdout",
     "output_type": "stream",
     "text": [
      "4805\n",
      "512\n"
     ]
    }
   ],
   "source": [
    "lengthlist = [len(i) for i in seqsvalue]\n",
    "print max(lengthlist)\n",
    "print min(lengthlist)\n"
   ]
  },
  {
   "cell_type": "markdown",
   "metadata": {},
   "source": [
    "####(4) Is there more than one longest or shortest sequence? What are their identifiers? "
   ]
  },
  {
   "cell_type": "code",
   "execution_count": 6,
   "metadata": {
    "collapsed": false
   },
   "outputs": [
    {
     "name": "stdout",
     "output_type": "stream",
     "text": [
      "1\n",
      "1\n"
     ]
    }
   ],
   "source": [
    "print lengthlist.count(4805)\n",
    "print lengthlist.count(512)\n"
   ]
  },
  {
   "cell_type": "code",
   "execution_count": 7,
   "metadata": {
    "collapsed": false
   },
   "outputs": [
    {
     "name": "stdout",
     "output_type": "stream",
     "text": [
      "gi|142022655|gb|EQ086233.1|323\n",
      "gi|142022655|gb|EQ086233.1|521\n"
     ]
    }
   ],
   "source": [
    "for n, i in enumerate(seqsvalue):\n",
    "    if len(i) == 4805:\n",
    "        print seqskey[n]\n",
    "    elif len(i) == 512:\n",
    "        print seqskey[n]\n",
    "    else:\n",
    "        continue\n"
   ]
  },
  {
   "cell_type": "markdown",
   "metadata": {},
   "source": [
    "####(5) What is the length of the longest open reading frame(ORF) in the file? \n",
    "In molecular biology, a reading frame is a way of dividing the DNA sequence of nucleotides into a set of consecutive, non-overlapping triplets (or codons). Depending on where we start, there are six possible reading frames: three in the forward (5' to 3') direction and three in the reverse (3' to 5'). For instance, the three possible forward reading frames for the sequence AGGTGACACCGCAAGCCTTATATTAGC are: \n",
    "\n",
    "\n",
    "AGG TGA CAC CGC AAG CCT TAT ATT AGC\n",
    "\n",
    "A GGT GAC ACC GCA AGC CTT ATA TTA GC\n",
    "\n",
    "AG GTG ACA CCG CAA GCC TTA TAT TAG C \n",
    "\n",
    "\n",
    "These are called reading frames 1, 2, and 3 respectively"
   ]
  },
  {
   "cell_type": "markdown",
   "metadata": {},
   "source": [
    "An open reading frame (ORF) is the part of a reading frame that has the potential to encode a protein. It starts with a start codon (ATG), and ends with a stop codon (TAA, TAG or TGA). For instance, ATGAAATAG is an ORF of length 9."
   ]
  },
  {
   "cell_type": "code",
   "execution_count": 8,
   "metadata": {
    "collapsed": true
   },
   "outputs": [],
   "source": [
    "def is_ORF(dna, frame):\n",
    "    start_codon_found = False\n",
    "    stop_codon_found = False\n",
    "    start_codon = ['ATG']\n",
    "    stop_codon = ['TAA', 'TAG', 'TGA']\n",
    "\n",
    "    # Assume only consider forward strand\n",
    "    start = []\n",
    "    end = []\n",
    "    for i in range(frame-1, len(dna), 3):\n",
    "        codon = dna[i:i+3].upper()\n",
    "        if codon in start_codon:\n",
    "            start_codon_found = True\n",
    "            start.append(i)\n",
    "        elif codon in stop_codon:\n",
    "            stop_codon_found = True\n",
    "            end.append(i)\n",
    "        else:\n",
    "            pass\n",
    "\n",
    "    # Find all possible start and end position and length of ORF\n",
    "    total = start+end\n",
    "    newline = sorted(total)\n",
    "    possi_position = []\n",
    "\n",
    "    for n, i in enumerate(newline):\n",
    "        for x in newline[n:]:\n",
    "            if i in start and x in end:\n",
    "                possi_position.append([i, x, (abs(i-x)+3)])\n",
    "                break\n",
    "\n",
    "    # Assign 0 to empty list. No start and stop codon.\n",
    "    if possi_position == []:\n",
    "        possi_position.append([0, 0, 0])\n",
    "\n",
    "    return (start_codon_found and stop_codon_found), possi_position\n"
   ]
  },
  {
   "cell_type": "code",
   "execution_count": 9,
   "metadata": {
    "collapsed": false
   },
   "outputs": [
    {
     "name": "stdout",
     "output_type": "stream",
     "text": [
      "(True, [[0, 6, 9]])\n"
     ]
    }
   ],
   "source": [
    "print is_ORF('ATGAAATAG', 1)"
   ]
  },
  {
   "cell_type": "code",
   "execution_count": 10,
   "metadata": {
    "collapsed": false
   },
   "outputs": [],
   "source": [
    "def max_min_len(lst):\n",
    "    \"\"\" This function will return [start, stop, maxlength],\n",
    "        [start, stop, minlength], maxlength, minlength\n",
    "    \"\"\"\n",
    "    alllength = []\n",
    "    for i in lst:\n",
    "        alllength.append(i[2])\n",
    "    max_ = max(alllength)\n",
    "    min_ = min(alllength)\n",
    "\n",
    "    allmax = []\n",
    "    allmin = []\n",
    "    for n, i in enumerate(lst):\n",
    "        if i[2] == max_:\n",
    "            allmax.append(lst[n])\n",
    "        if i[2] == min_:\n",
    "            allmin.append(lst[n])\n",
    "\n",
    "    return allmax, allmin, max_, min_\n"
   ]
  },
  {
   "cell_type": "code",
   "execution_count": 11,
   "metadata": {
    "collapsed": false
   },
   "outputs": [
    {
     "name": "stdout",
     "output_type": "stream",
     "text": [
      "For sequence, gi|142022655|gb|EQ086233.1|59\n",
      "The longest ORF has 1107, nt.\n",
      "For sequence, gi|142022655|gb|EQ086233.1|422\n",
      "The longest ORF has 639, nt.\n",
      "For sequence, gi|142022655|gb|EQ086233.1|245\n",
      "The longest ORF has 636, nt.\n",
      "For sequence, gi|142022655|gb|EQ086233.1|507\n",
      "The longest ORF has 741, nt.\n",
      "For sequence, gi|142022655|gb|EQ086233.1|221\n",
      "The longest ORF has 594, nt.\n",
      "For sequence, gi|142022655|gb|EQ086233.1|564\n",
      "The longest ORF has 507, nt.\n",
      "For sequence, gi|142022655|gb|EQ086233.1|378\n",
      "The longest ORF has 534, nt.\n",
      "For sequence, gi|142022655|gb|EQ086233.1|229\n",
      "The longest ORF has 1311, nt.\n",
      "For sequence, gi|142022655|gb|EQ086233.1|294\n",
      "The longest ORF has 1608, nt.\n",
      "For sequence, gi|142022655|gb|EQ086233.1|160\n",
      "The longest ORF has 363, nt.\n",
      "For sequence, gi|142022655|gb|EQ086233.1|279\n",
      "The longest ORF has 153, nt.\n",
      "For sequence, gi|142022655|gb|EQ086233.1|323\n",
      "The longest ORF has 1686, nt.\n",
      "For sequence, gi|142022655|gb|EQ086233.1|43\n",
      "The longest ORF has 213, nt.\n",
      "For sequence, gi|142022655|gb|EQ086233.1|41\n",
      "The longest ORF has 918, nt.\n",
      "For sequence, gi|142022655|gb|EQ086233.1|101\n",
      "The longest ORF has 639, nt.\n",
      "For sequence, gi|142022655|gb|EQ086233.1|384\n",
      "The longest ORF has 720, nt.\n",
      "For sequence, gi|142022655|gb|EQ086233.1|438\n",
      "The longest ORF has 477, nt.\n",
      "For sequence, gi|142022655|gb|EQ086233.1|455\n",
      "The longest ORF has 552, nt.\n",
      "For sequence, gi|142022655|gb|EQ086233.1|210\n",
      "The longest ORF has 564, nt.\n",
      "For sequence, gi|142022655|gb|EQ086233.1|237\n",
      "The longest ORF has 219, nt.\n",
      "For sequence, gi|142022655|gb|EQ086233.1|158\n",
      "The longest ORF has 1218, nt.\n",
      "For sequence, gi|142022655|gb|EQ086233.1|280\n",
      "The longest ORF has 291, nt.\n",
      "For sequence, gi|142022655|gb|EQ086233.1|319\n",
      "The longest ORF has 537, nt.\n",
      "For sequence, gi|142022655|gb|EQ086233.1|521\n",
      "The longest ORF has 159, nt.\n",
      "For sequence, gi|142022655|gb|EQ086233.1|350\n",
      "The longest ORF has 678, nt.\n"
     ]
    }
   ],
   "source": [
    "# Longest ORF in each sequences\n",
    "\n",
    "n = -1\n",
    "for dna in seqsvalue:\n",
    "    n += 1\n",
    "    longest = []\n",
    "    for i in range(1, 4):\n",
    "        lst = is_ORF(dna, i)[1]\n",
    "        longest.append(max_min_len(lst)[2])\n",
    "    print ('For sequence, %s' % ((seqskey[n])))\n",
    "    print ('The longest ORF has %s, nt.' % (max(longest)))\n"
   ]
  },
  {
   "cell_type": "code",
   "execution_count": 12,
   "metadata": {
    "collapsed": false
   },
   "outputs": [
    {
     "name": "stdout",
     "output_type": "stream",
     "text": [
      "1686\n"
     ]
    }
   ],
   "source": [
    "# Find longest ORF length of all sequences in festa file\n",
    "find_longest = []\n",
    "for dna in seqsvalue:\n",
    "    for i in range(1, 4):\n",
    "        lst = is_ORF(dna, i)[1]\n",
    "        find_longest.append(max_min_len(lst)[2])\n",
    "print max(find_longest)\n"
   ]
  },
  {
   "cell_type": "markdown",
   "metadata": {},
   "source": [
    "####(6) For a given sequence identifier, what is the longest ORF contained in the sequence represented by that identifier?                            \n",
    "####(7) What is the starting position of the longest ORF in the sequence that contains it? "
   ]
  },
  {
   "cell_type": "code",
   "execution_count": 13,
   "metadata": {
    "collapsed": false
   },
   "outputs": [
    {
     "name": "stdout",
     "output_type": "stream",
     "text": [
      "[159, [[125, 281, 159]]]\n"
     ]
    }
   ],
   "source": [
    "key = 'gi|142022655|gb|EQ086233.1|521'\n",
    "dna = seqs[key]\n",
    "\n",
    "find_longest = []\n",
    "for i in range(1, 4):\n",
    "    lst = is_ORF(dna, i)[1]\n",
    "    find_longest.append([max_min_len(lst)[2], max_min_len(lst)[0]])\n",
    "\n",
    "print max(find_longest)\n"
   ]
  },
  {
   "cell_type": "markdown",
   "metadata": {},
   "source": [
    "start at codon (125/3)+1 =42 ; end at codon (281/3)+1 = 94"
   ]
  },
  {
   "cell_type": "markdown",
   "metadata": {},
   "source": [
    "#### (8) Given a length n, identify all repeats of length n in all sequences in the FASTA file \n",
    "#### (9) Determine how many times each repeat occurs in the file, and which is the most frequent repeat of a given length\n",
    "A repeat is a substring of a DNA sequence that occurs in multiple copies (more than one) somewhere in the sequence. Although repeats can occur on both the forward and reverse strands of the DNA sequence, we will only consider repeats on the forward strand here. Also we will allow repeats to overlap themselves. For example, the sequence ACACA contains two copies of the sequence ACA - once at position 1 (index 0 in Python), and once at position 3. "
   ]
  },
  {
   "cell_type": "code",
   "execution_count": 14,
   "metadata": {
    "collapsed": true
   },
   "outputs": [],
   "source": [
    "# Find possible seqs in that given length n\n",
    "def find_motif(seq, n):\n",
    "    motif = []\n",
    "    for i in range(0, len(seq)-n+1):\n",
    "        value = seq[i:i+n]\n",
    "        motif.append(value)\n",
    "\n",
    "    sett = set(motif)\n",
    "\n",
    "    return sett\n"
   ]
  },
  {
   "cell_type": "code",
   "execution_count": 21,
   "metadata": {
    "collapsed": false
   },
   "outputs": [
    {
     "name": "stdout",
     "output_type": "stream",
     "text": [
      "{'GAACGT': 12, 'CTTCTT': 7, 'CACCCT': 8, 'GAACGG': 47, 'GAACGC': 40, 'GAACGA': 21, 'CACCCA': 11, 'CTTCTA': 4, 'CTTCTC': 5, 'CACCCG': 19, 'CTTCTG': 8, 'CGTGTG': 12, 'CGTGTC': 18, 'TGAGTG': 4, 'CGTGTA': 9, 'GTTGTG': 2, 'AGGCAA': 8, 'GGAAAT': 12, 'CGTGTT': 14, 'TCACTG': 7, 'GTCAAA': 2, 'GTCAAC': 12, 'GTCAAG': 10, 'CTGTCC': 12, 'TCAGAG': 2, 'CTGTCA': 7, 'CTGTCG': 24, 'TCAGAC': 9, 'TCAGAA': 3, 'GTCAAT': 6, 'TCAGAT': 9, 'GTATCG': 20, 'CTGTCT': 4, 'GGTGTC': 14, 'GGTGTA': 3, 'GGTGTG': 11, 'CCGGGG': 19, 'TTCTGT': 6, 'GTATTG': 5, 'CCGGGC': 45, 'CCGGGA': 11, 'TATCCA': 2, 'TATCCC': 4, 'GTTCTG': 12, 'TATCCG': 11, 'GGTGTT': 17, 'ATTCCG': 17, 'TTCTGG': 16, 'CCGGGT': 30, 'ATTCCC': 10, 'TTCTGC': 8, 'ATTCCA': 8, 'TTCTGA': 6, 'TGCACT': 5, 'TATCTT': 6, 'CGCGGT': 47, 'CGCGGG': 43, 'CGCGGC': 134, 'CGCGGA': 46, 'ACCTGT': 8, 'TCATGT': 11, 'CCCGCC': 28, 'CTCCGC': 3, 'TTACAC': 3, 'CTCCGG': 12, 'TCATGC': 9, 'ACCTGG': 11, 'TCATGA': 16, 'TCATGG': 12, 'ACCTGC': 29, 'ACCTGA': 5, 'GTATTT': 8, 'CTCGAT': 39, 'CTCCGT': 8, 'GCCTGA': 18, 'GCCTGC': 52, 'GCCTGG': 20, 'CAAATT': 6, 'AAGGTC': 15, 'GCCTGT': 18, 'CGTCAA': 18, 'TAAAGT': 2, 'CAAATA': 4, 'CAAATC': 7, 'CAAATG': 5, 'TATCTC': 5, 'GGCATG': 29, 'GGCATA': 5, 'GGCATC': 44, 'AATACG': 10, 'AATACA': 5, 'ATATTG': 3, 'AATACC': 4, 'GGCATT': 22, 'TCCCCA': 7, 'TGCACA': 7, 'GAGCAC': 26, 'ACTGAT': 5, 'CATATC': 8, 'GAGCAG': 49, 'AGTAGT': 2, 'TCTCGC': 22, 'TCTCGA': 28, 'TCTCGG': 14, 'AGTAGC': 16, 'ATACAA': 2, 'AGTAGG': 3, 'GAGCAT': 21, 'AGCCCG': 32, 'ATACAG': 7, 'GTGTCG': 32, 'TCGAAC': 29, 'TCGAAA': 18, 'GTGTCC': 6, 'TCGAAG': 25, 'GTGTCA': 5, 'CTTGCT': 10, 'AGACAC': 4, 'TCGGTC': 25, 'GTGTCT': 4, 'AGCCCC': 10, 'TCGAAT': 23, 'CTTGCG': 28, 'CTTGCA': 6, 'CTTGCC': 21, 'CGAAAG': 17, 'CGAAAA': 13, 'CGAAAC': 18, 'AATCAT': 5, 'AAATGC': 13, 'CACGGC': 48, 'AAATGA': 8, 'ACAGTC': 4, 'CACGGG': 17, 'CGAAAT': 17, 'ACAGTT': 4, 'AATCAG': 2, 'CACGGT': 18, 'AAATGT': 9, 'AATCAC': 5, 'TTTGTA': 2, 'GCTCAA': 14, 'TTGCCG': 55, 'TTGCCA': 8, 'TTGCCC': 9, 'ATACGA': 13, 'ATACGC': 16, 'GGGTAG': 5, 'TCTAGC': 3, 'ATACGG': 9, 'AGATGT': 7, 'TCGCCC': 24, 'TCGCCA': 36, 'TCGCCG': 108, 'GGTAAT': 7, 'ACCCAT': 3, 'ACCCAC': 6, 'GGTAAC': 6, 'ACCCAA': 2, 'AGATGG': 13, 'ACCCAG': 9, 'GGTAAG': 4, 'TCGCCT': 15, 'AGATGC': 16, 'CCCCAT': 10, 'TTGGGT': 5, 'CACTAC': 2, 'CCCCAC': 10, 'CCCCAG': 3, 'CACTAT': 3, 'TTGGGG': 3, 'TCGGTT': 11, 'TTGGGA': 4, 'TTGGGC': 10, 'TGCCTG': 13, 'TGCAGA': 9, 'TTTCTG': 5, 'TGCAGC': 45, 'TTTCTA': 3, 'TTTCTC': 11, 'TGCAGG': 27, 'ACGCCT': 17, 'GTATCT': 6, 'TTTCTT': 8, 'TGCCTT': 7, 'TGCAGT': 8, 'AAGGAA': 7, 'AAGGAC': 13, 'AAGGAG': 9, 'ATATGC': 8, 'CTCATT': 3, 'ATATGA': 2, 'TACGAA': 4, 'ATATGG': 9, 'GATGGA': 6, 'AAGGAT': 5, 'AGGGCC': 3, 'TGACTT': 4, 'GGTCCC': 2, 'TCCGGT': 17, 'GGTCCA': 6, 'GCCCAA': 7, 'GGTCCG': 10, 'GCCCAC': 18, 'TGTGTC': 3, 'CTTCGG': 13, 'AGACCG': 12, 'CTTCGC': 40, 'GCCCAT': 22, 'AGGTCA': 12, 'TCCGGC': 51, 'GGTCCT': 6, 'TCCGGA': 22, 'CTTAGC': 2, 'CTTCGT': 16, 'TCTTGC': 14, 'ATTGTC': 3, 'TCTTGG': 5, 'CGCTAC': 15, 'ATTTTG': 4, 'TCCAGG': 16, 'GAGGTA': 4, 'ATTTTC': 19, 'TCCAGC': 25, 'TAGCAG': 3, 'GATACT': 7, 'TAGCAC': 5, 'TAGCAA': 5, 'GAGGTT': 10, 'GCCTTG': 13, 'GTGGGG': 8, 'GCCTTA': 3, 'TTGACA': 4, 'GCCTTC': 29, 'GATACG': 19, 'GATACC': 9, 'GATTTC': 20, 'TGAGCT': 5, 'ACGGAC': 17, 'GATCAT': 18, 'TGGCAC': 9, 'AAGACA': 6, 'AAGACC': 3, 'ACAATG': 4, 'AAGACG': 9, 'GATCAG': 39, 'TGAGCG': 22, 'GATCAC': 30, 'TGAGCC': 11, 'GAAGGG': 9, 'GCGGTC': 32, 'GCGGTA': 20, 'GCGGTG': 43, 'CGGTGT': 19, 'TCGTTC': 26, 'ATGTGG': 7, 'TCGTTG': 14, 'TTGGAG': 4, 'GAGTTT': 5, 'TGTGTG': 4, 'GCGGTT': 22, 'ACTTGC': 4, 'ACCACC': 9, 'ACTTGA': 9, 'CGGTGG': 22, 'ACTTGG': 5, 'CGGTGA': 22, 'CGGTGC': 68, 'TTCCTC': 13, 'ACTGAC': 4, 'ATGTGC': 13, 'TGGGTT': 3, 'TTCCTG': 12, 'TCCTTT': 4, 'CAGTTG': 14, 'TAGACG': 4, 'GTATCC': 10, 'TAGACC': 5, 'TCCTTG': 9, 'TCCTTC': 10, 'TCGTTT': 11, 'ACCGTT': 9, 'TGGCGC': 41, 'TGGCGA': 30, 'TGGCGG': 36, 'ATCTCG': 36, 'ATCTCA': 2, 'ATCTCC': 6, 'GGCCAA': 10, 'ACGGAG': 11, 'GGCCAC': 26, 'ACCGTG': 21, 'ACCGTA': 6, 'GGCCAG': 36, 'ACCGTC': 22, 'ACTGAA': 6, 'GGCAGT': 11, 'CCATAA': 2, 'CAAAGG': 7, 'CCATAC': 7, 'ACGCTC': 21, 'AGATTC': 12, 'CAAAGC': 7, 'CAACGT': 12, 'GGCAGA': 10, 'GGCAGC': 49, 'AACGTA': 5, 'GGCAGG': 27, 'CAACGC': 31, 'CAACGA': 19, 'GCACTC': 7, 'CAACGG': 21, 'GCACTG': 20, 'ACCATA': 3, 'GGGGGT': 6, 'TACGCT': 6, 'AGATTG': 14, 'CGATCT': 38, 'CTCTAA': 3, 'CTCTAC': 4, 'GGGGGG': 5, 'CGATCC': 54, 'CGATCA': 58, 'GGGGGC': 17, 'CGATCG': 100, 'GGGGGA': 6, 'TACGCG': 21, 'CTCTAT': 3, 'ACCGAA': 15, 'CAGACC': 6, 'CAGACA': 5, 'CAGACG': 20, 'TAGTTG': 4, 'GCTAAT': 2, 'TAGTTC': 2, 'CAGACT': 5, 'TGCTGA': 13, 'GCTAAC': 3, 'TGCATT': 8, 'TGCTGC': 33, 'AACCCC': 3, 'GGAGAG': 5, 'TGCATG': 20, 'TGCATA': 6, 'TGCATC': 27, 'ACGTAA': 3, 'AACTGG': 9, 'AACTGA': 4, 'AACTGC': 17, 'CCCAGA': 6, 'CCCAGC': 18, 'CCCAGG': 8, 'AACTGT': 6, 'AGTTTT': 6, 'ACGTAT': 5, 'AGTCAA': 4, 'CAATTT': 6, 'CCCAGT': 7, 'CTCCAA': 3, 'CGCATA': 14, 'ATACTG': 4, 'CGCATC': 52, 'CTTGAA': 14, 'ATACTC': 2, 'CGCATG': 35, 'AGGCCA': 11, 'ATACTT': 5, 'CGCATT': 26, 'AGGCCC': 11, 'GCTCCG': 10, 'TATTGT': 2, 'GCTCCC': 11, 'GCTCCA': 12, 'CCTACT': 2, 'TGTACT': 3, 'TATTGG': 2, 'GCTCCT': 13, 'AGGCCG': 33, 'TATTGA': 4, 'TGTACG': 12, 'CCTACA': 4, 'TGTACC': 6, 'CCTACC': 2, 'TTCGCG': 57, 'TTCGCA': 14, 'TTCGCC': 42, 'AGTATC': 5, 'GACTAC': 4, 'AGTATG': 2, 'TTTGGA': 5, 'TTTGGC': 6, 'TTCGCT': 21, 'AATTCA': 4, 'TTTGGT': 2, 'GACTAT': 3, 'ACCACA': 5, 'ACCTTG': 9, 'ACCTTC': 9, 'TTACTT': 2, 'ACCTTT': 4, 'ACAGGG': 3, 'CTGGGA': 7, 'CTGGGC': 13, 'ACAGGC': 16, 'ACAGGA': 4, 'CTGGGG': 4, 'CAGGAC': 15, 'GCAGCT': 22, 'CAGGAA': 14, 'TCGCTT': 9, 'CAGGAG': 7, 'AGGACA': 11, 'AGGCCT': 7, 'ACAGGT': 8, 'CTGGGT': 4, 'CTCCGA': 7, 'TCGCTG': 30, 'GAGTTG': 8, 'GCAGCG': 79, 'GCAGCA': 39, 'GCAGCC': 50, 'CAGGAT': 11, 'CCTCAG': 2, 'CCTCAA': 3, 'CCTCAC': 14, 'TATGTT': 2, 'ATGGGC': 18, 'TCTTTG': 6, 'ATGGGA': 5, 'TCTTTA': 2, 'ATGGGG': 11, 'TCTTTC': 5, 'CCTCAT': 5, 'GGGTTA': 2, 'ATGGGT': 6, 'TATGTC': 3, 'GAAAGA': 8, 'ATCAAG': 8, 'GAAAGC': 24, 'ATCAAC': 11, 'GAAAGG': 12, 'TCAAAA': 6, 'GGAACT': 7, 'CGCTAG': 4, 'CATGAG': 6, 'ATCAAT': 8, 'GTCCAA': 5, 'CATGAC': 21, 'CATGAA': 19, 'GTAGCG': 21, 'CAAGTT': 5, 'GCTTTG': 9, 'GTAGCC': 19, 'GCTTTC': 13, 'GCGGCG': 130, 'CAAGTG': 7, 'GTAGCT': 5, 'GCGGCC': 108, 'CAAGTC': 6, 'GCGGCA': 75, 'CAAGTA': 3, 'AACGGT': 10, 'ACCCTC': 2, 'GGGGAA': 4, 'TAATCG': 5, 'GGTCTT': 4, 'TAATCC': 4, 'GGGTTT': 6, 'CGGCCC': 41, 'AAAATT': 5, 'CGGCCG': 115, 'CTTGTA': 5, 'GGTCTG': 6, 'GAGTTC': 11, 'TTCAAC': 12, 'GGTCTA': 3, 'CAGTCA': 6, 'AAAATG': 11, 'AAAATC': 7, 'CGGCCT': 37, 'TCGTCA': 36, 'ATCCCT': 4, 'TTCAGG': 10, 'GAACAT': 10, 'TCGTCG': 74, 'TGTTTT': 7, 'GAACAA': 10, 'ATCCCG': 23, 'GAACAC': 20, 'TCGTCT': 10, 'GAACAG': 28, 'ATCCCA': 4, 'ATTGCA': 12, 'CACCAC': 15, 'CACCAA': 5, 'CACCAG': 21, 'TCCGTG': 7, 'AACGGG': 18, 'TCCGTC': 14, 'TCCGTA': 8, 'CGGCGT': 64, 'CACCAT': 22, 'ATCAGA': 5, 'TCCGTT': 13, 'AACATA': 2, 'AACATC': 16, 'TCAGCA': 22, 'GCACGG': 41, 'GTCAGA': 6, 'GCACGA': 48, 'GTCAGG': 17, 'GCACGC': 67, 'TCAGCG': 31, 'AACAAC': 8, 'GCAAGC': 36, 'GCACGT': 32, 'CAGTCT': 5, 'TAAAGC': 2, 'TCAGCT': 13, 'GTCAGT': 12, 'GTATAC': 3, 'TTCCGT': 15, 'GTATAG': 4, 'CCGGAA': 19, 'CCGGAC': 20, 'CCGGAG': 15, 'CGTCTT': 14, 'TGACGT': 16, 'TTCCGG': 28, 'TTCCGA': 10, 'TTCCGC': 23, 'CGTCTC': 11, 'TATCAA': 2, 'CGTCTG': 14, 'CCGGAT': 39, 'CTCTTC': 10, 'AGGGCT': 3, 'TACGTC': 13, 'TCTGGT': 4, 'AACAAA': 2, 'CGCGAT': 82, 'TACGTG': 8, 'GGTTTC': 9, 'CTCGTG': 24, 'CTCTTT': 2, 'CGCGAA': 59, 'CGCGAC': 84, 'GATATT': 5, 'TCTGGC': 19, 'TACGTT': 7, 'CGCGAG': 79, 'AGTCGT': 10, 'TTACCT': 4, 'CTCCAT': 7, 'TTACCG': 5, 'CTCCAC': 6, 'AGTCGG': 13, 'TTACCC': 2, 'AGTCGA': 21, 'AGTCGC': 17, 'CCGACT': 12, 'GCCTAC': 2, 'GCCTAA': 3, 'CCGACA': 23, 'CCCTGT': 2, 'CCGACC': 28, 'CCGACG': 64, 'GCCTAT': 6, 'AAGCTA': 2, 'AGGGCG': 10, 'TGACGA': 38, 'GCTGTC': 21, 'CGCACA': 15, 'ATACAC': 8, 'CGCACC': 46, 'GGGTCG': 34, 'ACTGCT': 12, 'GGGTCA': 6, 'CGCACG': 52, 'GGGTCC': 4, 'CTCACT': 4, 'GGGTCT': 2, 'ACTGCA': 14, 'TTTGTC': 3, 'ACTGCC': 13, 'CGCACT': 15, 'ATACAT': 2, 'ACTGCG': 18, 'CTCACC': 5, 'CTCACG': 25, 'GTGGGT': 6, 'GTGAGG': 10, 'GATTTT': 7, 'TAGTGC': 3, 'GTGAGC': 11, 'TAGTGA': 3, 'GTGAGA': 4, 'TCGACG': 108, 'TCGACA': 48, 'TCGACC': 37, 'GATTTG': 12, 'GTGAGT': 5, 'ACAATC': 3, 'GTGGGA': 4, 'GTGGGC': 19, 'TCGACT': 13, 'GTACAC': 5, 'CTGGTT': 3, 'TGCAAA': 10, 'CGAACG': 50, 'CGAACC': 29, 'CGAACA': 39, 'CTGGTG': 15, 'CTGGTA': 12, 'CTGGTC': 20, 'CGAACT': 17, 'TTGCAT': 11, 'TTGCAG': 10, 'TCCATA': 4, 'TTGCAC': 9, 'TTGCAA': 8, 'ACGTAC': 9, 'TCCATC': 16, 'TCGCAT': 23, 'GTCGTG': 35, 'GTCGTA': 18, 'GTCGTC': 37, 'CCGTTT': 7, 'GAGCAA': 19, 'GTCGTT': 14, 'TCGCAG': 22, 'TCGCAA': 15, 'TCGCAC': 21, 'CAGCTA': 3, 'CCGTTG': 17, 'CCGTTA': 3, 'CCGTTC': 34, 'AATGCT': 13, 'GGTACG': 16, 'GGTACA': 8, 'GGTACC': 5, 'TATTTG': 2, 'CCAGTT': 10, 'TTCAGC': 29, 'TATTTC': 11, 'CCCCCT': 2, 'GGTACT': 4, 'AATGCG': 19, 'AATCTT': 8, 'AATGCC': 14, 'AATGCA': 13, 'CCCCCC': 2, 'CCCCCA': 4, 'TATTTT': 8, 'CCCCCG': 15, 'CTTGAG': 10, 'ATGATG': 9, 'CTTGAC': 17, 'GCGTTA': 6, 'ATGATC': 21, 'TGCAAC': 16, 'TTGAGT': 4, 'TGCAAG': 10, 'GCCGTC': 59, 'ATGATT': 5, 'CTTGAT': 8, 'ACGGGA': 15, 'GTGCTT': 11, 'TTGAGG': 4, 'AATCTC': 8, 'CAATGT': 5, 'TTGAGC': 14, 'TGCAAT': 18, 'GAGAAT': 11, 'TGTCTT': 5, 'CGAATA': 16, 'TTCAGA': 9, 'ACTGAG': 4, 'AAGGCC': 12, 'ATAACC': 2, 'AAGGCA': 11, 'ATAACA': 2, 'AAGGCG': 18, 'ATAACG': 5, 'TGTGGT': 5, 'TGTCTG': 3, 'GAGAAG': 13, 'AGTAGA': 2, 'GAGAAA': 9, 'TGTCTC': 6, 'GAGAAC': 10, 'TGTGGC': 6, 'TGTGGA': 4, 'TGTGGG': 6, 'ATAACT': 2, 'AAGGCT': 10, 'GGTATT': 9, 'GCCCCG': 30, 'ACCAAG': 4, 'GGTCAG': 18, 'GCCCCC': 9, 'GGTCAA': 6, 'CGTGCT': 36, 'GGTCAC': 9, 'GGTCAT': 16, 'CGTGCC': 45, 'AGGTAG': 6, 'CGTGCG': 68, 'GATAGG': 5, 'TTTTGC': 14, 'AATTGG': 7, 'AATTGA': 3, 'AAGCAC': 14, 'AATTGC': 12, 'TAGCCA': 3, 'TGGGGT': 3, 'CGCTCG': 95, 'GATAAT': 3, 'CGCTCA': 17, 'CGCTCC': 14, 'GCCATC': 38, 'CGCTCT': 12, 'TGGGGG': 8, 'GATAAC': 4, 'TGGGGC': 10, 'GATAAG': 2, 'GATCCT': 15, 'AAGAAT': 3, 'GTTATC': 2, 'AAGAAC': 10, 'GATCCA': 15, 'AAGAAA': 4, 'GATCCC': 19, 'AAGAAG': 10, 'GATCCG': 45, 'TATTAA': 2, 'CAAGGG': 5, 'CAAGGC': 17, 'GGTTCT': 3, 'CAAGGA': 17, 'GGTTCA': 18, 'GGTTCC': 10, 'CAAGGT': 10, 'GGTTCG': 29, 'TAGTGG': 3, 'CAAACG': 6, 'ATTATG': 3, 'TAGGCC': 2, 'AGTCTT': 3, 'TAGAAC': 3, 'TAGAAG': 8, 'AGTCTA': 2, 'AGTCTC': 3, 'ATCTAT': 2, 'TAACTT': 3, 'ACCTCA': 6, 'ATCTAC': 3, 'CCATGT': 16, 'ACCAAA': 3, 'TGGAGG': 4, 'TGGAGA': 7, 'TGGAGC': 12, 'CCATGC': 26, 'CCATGA': 11, 'GCCCCA': 11, 'TCAGTC': 10, 'ACTATT': 2, 'GGGGAT': 5, 'TCAGTG': 11, 'CGATAT': 16, 'CTCTCG': 5, 'GGGGAC': 3, 'CTCTCC': 10, 'TCAGTT': 7, 'GGGGAG': 12, 'CGATAG': 4, 'CGATAA': 3, 'CGATAC': 23, 'CTAAGG': 2, 'GTGTTT': 6, 'GTGGTT': 5, 'GTGTTC': 19, 'ATTCCT': 5, 'GTGTTG': 9, 'GTGGTA': 5, 'GCTACA': 3, 'GTGGTC': 17, 'GCTACC': 13, 'GTGGTG': 20, 'GCTACG': 16, 'CGTGCA': 40, 'TTTCGT': 13, 'TGCCCT': 6, 'AGCGTT': 11, 'AGGTAA': 3, 'TTTCGA': 15, 'TTTCGC': 17, 'TGCCCG': 39, 'ACAGTG': 5, 'AGCGTA': 12, 'AGCGTC': 27, 'ACAACA': 4, 'AGCGTG': 30, 'GGCCCC': 20, 'GGCCCA': 15, 'CACGTG': 24, 'GGCCCG': 38, 'CACGTA': 14, 'CACGTC': 35, 'ACGTGC': 30, 'CTACGA': 4, 'CTACGG': 6, 'AAATGG': 8, 'CACGTT': 15, 'CTAAGT': 2, 'GGCCCT': 5, 'GGGACA': 5, 'TTTTGG': 7, 'GTCTCA': 3, 'GGGACG': 13, 'CTATAT': 3, 'AGAGAG': 2, 'AGAGAA': 2, 'AGAGAC': 2, 'TCGTGA': 27, 'GTCTTT': 3, 'TCTATC': 7, 'TCTATG': 2, 'AGAGAT': 5, 'TTCACA': 6, 'GTCTTG': 9, 'TCTATT': 4, 'GTCTTC': 14, 'GCAGAG': 2, 'GAAGGC': 24, 'GCTCAC': 17, 'GCAGAC': 20, 'GCAGAA': 12, 'GCTCAG': 10, 'AGACGT': 4, 'ATGCGT': 19, 'TTGCTG': 11, 'TTGCTC': 15, 'GCAGAT': 16, 'GCTCAT': 13, 'GTTTGC': 10, 'TTGCTT': 4, 'ATGCGG': 34, 'GAGAGG': 4, 'TAGCCG': 25, 'ATGCGC': 48, 'ATGCGA': 24, 'TGTAAG': 2, 'GGCTAG': 3, 'TGTAAC': 2, 'GGCTAC': 13, 'TGTAAA': 3, 'GGCTAA': 3, 'TTCGAG': 25, 'TTGGTA': 2, 'ACTGTC': 6, 'TTGGTC': 3, 'TTCGAC': 36, 'TTCGAA': 13, 'GTTTGG': 4, 'GACTGC': 18, 'GGCTAT': 4, 'TGTAAT': 3, 'GACTGG': 13, 'TTCGAT': 25, 'TTGGTT': 3, 'ACTGTT': 8, 'GTTTCT': 10, 'GAATGA': 5, 'ATAATT': 6, 'CCTTTT': 4, 'GTTTCG': 18, 'GTTTCC': 11, 'GTTTCA': 11, 'ATAATG': 3, 'CCTTTC': 12, 'ATAATC': 2, 'CCTTTG': 3, 'ACAGAA': 4, 'ACAGAC': 4, 'GCCCCT': 8, 'ATATCC': 4, 'CTGGAC': 12, 'CTGGAA': 23, 'CTGGAG': 9, 'ACAGAT': 8, 'TGGGGA': 5, 'CTGGAT': 19, 'CCAATG': 5, 'AAACCG': 9, 'AAACCA': 5, 'CCAATC': 7, 'AAACCC': 6, 'CCAATA': 3, 'TGTCGG': 27, 'GAGATC': 24, 'AACGAG': 11, 'GAGATA': 7, 'TGTCGC': 27, 'GAGATG': 14, 'AACGAC': 28, 'ATTTGA': 9, 'CCAATT': 4, 'ATTTGC': 10, 'GTCGAT': 54, 'ATTTGG': 3, 'AACGAT': 10, 'TGTCGT': 12, 'GAGATT': 12, 'CTACAC': 6, 'ACTTCA': 9, 'TGACAG': 3, 'ATCACC': 18, 'CATGCT': 19, 'TGACAC': 5, 'ATCACG': 30, 'TGGATA': 5, 'CATTAG': 2, 'TGGATG': 16, 'CATGCA': 18, 'TGACAT': 10, 'CATGCC': 24, 'ATCACT': 3, 'CATGCG': 32, 'AACCTG': 14, 'GTAGAA': 8, 'GTAGAC': 3, 'GTAGAG': 5, 'GATTGG': 10, 'ACAACC': 4, 'GATTGC': 18, 'GATTGA': 13, 'TAAATT': 2, 'GGGTAC': 4, 'ATGAGT': 2, 'GATTGT': 8, 'TTCAGT': 4, 'ACAACT': 2, 'AGGATT': 4, 'GTCGAA': 34, 'TAATAG': 5, 'GTCCGG': 33, 'GTCCGA': 10, 'GTCCGC': 19, 'TGCCAT': 14, 'ATGGAC': 5, 'ACTCTT': 2, 'GTCCGT': 8, 'GCTAGC': 2, 'ATTCGC': 26, 'TTCTCC': 7, 'TGAACT': 10, 'TAACGA': 5, 'ATCCAT': 9, 'TTCTCG': 23, 'TCGTAC': 12, 'TCGTAA': 8, 'TCGTAG': 11, 'GAACCT': 7, 'TGAACG': 24, 'ATCCAC': 11, 'TGAACC': 8, 'TTCTCT': 5, 'TGAACA': 14, 'GAACCC': 9, 'TACCTG': 9, 'GAACCG': 23, 'TACCTC': 5, 'TCGTAT': 8, 'ACCATC': 18, 'ATGTTC': 15, 'ACCATG': 10, 'ATGTTG': 8, 'CTGCCT': 6, 'AGCTCT': 2, 'TGTCCT': 6, 'AGTGGT': 3, 'TGATGT': 6, 'ATGTTT': 6, 'ACCATT': 7, 'CGTAAA': 3, 'AGCTCG': 31, 'AGTGGC': 5, 'AGCTCC': 6, 'AGTGGG': 3, 'TTGTGT': 2, 'CAGTAA': 2, 'CAGTAC': 4, 'CAGTAG': 13, 'GTTCCT': 7, 'TTTCAA': 9, 'CCGGCT': 38, 'GATCTC': 24, 'TGTCCA': 9, 'GATCTG': 19, 'TCCCTT': 4, 'CCGGCC': 76, 'GTTCCG': 13, 'CCGGCG': 124, 'ACTCTC': 2, 'GTTCCC': 18, 'TCCCTC': 5, 'GAGCTT': 13, 'TTAATG': 4, 'TCCCTG': 4, 'GATCTT': 18, 'ATAGAA': 3, 'AAGTGA': 6, 'AAGTGC': 6, 'TGTTCT': 11, 'AAGTGG': 3, 'TGATTG': 8, 'TGATTC': 8, 'CTAACC': 2, 'TGTTCA': 12, 'CACAAG': 6, 'TGTTCC': 12, 'AAGTGT': 4, 'CACAAC': 5, 'TGTTCG': 32, 'TCTGAA': 4, 'TCTGAC': 6, 'GAAGTC': 7, 'TCTGAG': 3, 'CGCGCC': 94, 'CGCGCA': 81, 'GGTAAA': 4, 'CGCGCG': 134, 'AGCGGG': 20, 'GTGCGT': 18, 'AGCGGC': 57, 'AGATGA': 5, 'GACATT': 8, 'CGCGCT': 81, 'GTGCGA': 31, 'GTGCGC': 68, 'ACCTCG': 24, 'GTGCGG': 34, 'GCCTCT': 3, 'TAAGCC': 6, 'CGGGAG': 13, 'CCCATG': 17, 'CGGGAA': 21, 'TAAGCG': 4, 'TAGCTG': 2, 'CCCATC': 15, 'TTGTTG': 6, 'CCTGCT': 23, 'CCGAAT': 12, 'CCCATT': 8, 'CGGGAT': 24, 'GCCTCG': 37, 'GCCTCA': 8, 'TAAGCT': 4, 'GCCTCC': 10, 'CCGAAC': 32, 'CCTGCG': 40, 'CCGAAA': 16, 'CCGAAG': 30, 'CCTGCC': 25, 'CCTGCA': 27, 'CGACAC': 39, 'CCATTC': 16, 'ATTTCC': 12, 'CCATTG': 8, 'GTTCTA': 2, 'CCATTT': 7, 'TCTACA': 4, 'TCTACG': 4, 'ACTTTC': 7, 'CGCAAC': 29, 'ACTCCA': 4, 'CGCAAA': 8, 'ATACCG': 12, 'CGCAAG': 22, 'ATACCA': 4, 'ATACCC': 2, 'ATACCT': 4, 'CGCAAT': 17, 'ATTTCT': 4, 'CTCAAG': 8, 'CTCAAA': 4, 'CTCAAC': 8, 'GTGTGC': 14, 'GTGTGA': 10, 'GTGTGG': 5, 'CTCAAT': 5, 'CTCCCG': 4, 'ATCTTT': 6, 'GTTGGG': 7, 'GTTGGA': 4, 'GTTGGC': 13, 'CCTTGG': 6, 'CCTTGA': 10, 'GGGAAA': 9, 'CCTTGC': 17, 'GTTGGT': 6, 'ATCTTG': 14, 'ATCTTC': 21, 'AGGATC': 10, 'AGGATG': 6, 'GACATG': 21, 'TTGCGT': 16, 'GACATA': 4, 'TCGGCG': 93, 'GAATAT': 3, 'TCGGCC': 42, 'TCGGCA': 54, 'TTGCGA': 15, 'TTGCGC': 43, 'TTGCGG': 24, 'GAATAG': 4, 'TCGGCT': 31, 'CATAGA': 4, 'GAATAC': 10, 'GAATAA': 6, 'ACTTTT': 4, 'GACCTT': 9, 'TGCCTC': 8, 'ACGTCG': 52, 'GAAATG': 18, 'AATGAT': 5, 'GAAATA': 4, 'GAAATC': 14, 'GAAATT': 6, 'AATGAA': 12, 'AATGAC': 4, 'CTCCCC': 7, 'CTTGGA': 8, 'CTTGGC': 13, 'GTCCTT': 4, 'AGCCCT': 11, 'GGGAAT': 10, 'TTGAAT': 8, 'GTCCTC': 7, 'TGCACG': 40, 'CTTGGT': 4, 'GTCCTG': 12, 'TGCACC': 15, 'TTGAAA': 6, 'TTGAAC': 14, 'AGCCCA': 7, 'TTGAAG': 10, 'TTAACT': 2, 'TGGTCG': 42, 'TGGTCA': 9, 'TGGTCC': 3, 'ACGATT': 12, 'GATTCA': 9, 'CGTATA': 4, 'ATAAAC': 6, 'GAGACG': 10, 'ACGATG': 34, 'CTACAG': 6, 'GAGACC': 7, 'ACGATC': 55, 'GAGACA': 7, 'ACGATA': 6, 'GGTTAC': 5, 'ATGTGT': 4, 'ACCACT': 4, 'CTTCCT': 13, 'CCAACA': 2, 'TCCGCT': 11, 'ACCACG': 21, 'CTTCCC': 12, 'ATGTGA': 3, 'CGTATG': 13, 'CTTCCG': 25, 'TCCGCC': 21, 'TCCGCA': 22, 'TCCGCG': 31, 'AACGTC': 8, 'CGTGAG': 16, 'CGTGAA': 23, 'CGTGAC': 25, 'AGTGTG': 2, 'TCTTCG': 16, 'AGTGTA': 2, 'TCTTCA': 18, 'AGTGTC': 12, 'TCTTCC': 16, 'CGTGAT': 22, 'TAAGTA': 2, 'GCTCGC': 53, 'TCTTCT': 9, 'AGTGTT': 2, 'CTTCCA': 5, 'TTGGCA': 6, 'AAAGGT': 3, 'TTGGCC': 18, 'CCGTGC': 44, 'TTGGCG': 14, 'GACTTC': 11, 'TCGAGT': 14, 'GACTTG': 8, 'ACGTCA': 14, 'AAAGGG': 3, 'AAAGGA': 6, 'TTGGCT': 6, 'AAAGGC': 9, 'GAGTAC': 9, 'GACTTT': 5, 'TTCTTT': 5, 'CTGTAA': 2, 'CAAGAA': 11, 'AGCGAG': 15, 'TTCTCA': 3, 'CAAGAG': 4, 'TTCTTG': 9, 'TTCTTC': 14, 'TTCTTA': 2, 'CAAGAT': 10, 'CCCGAT': 24, 'TACGGG': 10, 'TACGGA': 6, 'TACGGC': 17, 'CCAACT': 6, 'TACGGT': 4, 'CCCGAG': 17, 'AGGGCA': 7, 'CCCGAC': 28, 'TCGAGA': 17, 'TAGAGC': 4, 'TAGAGA': 2, 'AAGGGG': 6, 'GGCGAA': 44, 'GTGCTG': 25, 'GTGCTA': 2, 'ATCTGT': 8, 'GTGCTC': 27, 'GCTCGT': 41, 'ATCTGA': 6, 'CGAATC': 18, 'ATCTGC': 17, 'TCGAGG': 30, 'CGAATG': 22, 'ATCTGG': 18, 'CAATTA': 3, 'ATCATA': 4, 'GATAGC': 6, 'ATCATC': 21, 'GATAGA': 6, 'AAGCAA': 9, 'CAAACT': 2, 'ATCATG': 7, 'TTTACC': 2, 'CATTTC': 11, 'CATTTG': 5, 'CAAACA': 2, 'AAGCAT': 9, 'CAAACC': 4, 'CTCGGG': 17, 'ATCATT': 3, 'GATAGT': 5, 'GTTATT': 3, 'CATTTT': 11, 'TTTACG': 3, 'AAGTTT': 5, 'TACAGT': 3, 'CTCGGC': 46, 'GTATGG': 2, 'GGGGCT': 10, 'TACAGG': 3, 'AAGTTG': 6, 'TACAGC': 12, 'AAGTTC': 12, 'TACAGA': 3, 'GGGGCC': 18, 'CGGGGG': 13, 'GGGGCA': 8, 'ATATGT': 4, 'GGGGCG': 41, 'CCATGG': 13, 'TATATC': 3, 'GAGGGG': 4, 'TATATG': 2, 'AGTTCT': 3, 'GCCCAG': 22, 'CTATTC': 4, 'TGATGG': 11, 'CATATG': 6, 'TGATGC': 17, 'AGGTCT': 2, 'TGATGA': 12, 'TGTTTA': 2, 'CACATC': 11, 'TGTTTC': 11, 'CACATA': 6, 'TTAATT': 2, 'CACATG': 10, 'TTTCAT': 11, 'ATGAGC': 9, 'ATGAGG': 3, 'TTTCAC': 6, 'TGCCAG': 12, 'TTTCAG': 13, 'CACATT': 4, 'TGCCAC': 11, 'AAATTC': 6, 'GACTGA': 5, 'AAATTA': 2, 'AAATTG': 7, 'TCCACT': 3, 'CTTCGA': 36, 'AAATTT': 4, 'GGGAAC': 9, 'GGTGCG': 41, 'GCGTAT': 19, 'GGGAAG': 8, 'GGTGCC': 30, 'GGTGCA': 21, 'AGAGCG': 11, 'GCGACT': 16, 'AGCGAT': 16, 'AGAGCC': 8, 'AGAGCA': 5, 'GCGTAG': 11, 'GGTGCT': 15, 'GCGTAC': 17, 'TAATTT': 5, 'GCGTAA': 7, 'GCGACG': 105, 'GCGACA': 33, 'TATCGG': 17, 'GCGACC': 47, 'AGGTCG': 36, 'GCAGGA': 23, 'GCAGGC': 54, 'GCAGGG': 14, 'GGCGAT': 47, 'GCTCGA': 83, 'GCTCGG': 50, 'CCGTGG': 22, 'AAATAC': 4, 'GCAGGT': 27, 'TCTTGA': 9, 'ACGTCT': 7, 'TATTCC': 3, 'GGCGAG': 34, 'TATTCA': 12, 'CCGTGT': 12, 'TATTCG': 9, 'GGCGAC': 63, 'TGTAGA': 4, 'GGCTCA': 13, 'AGCATT': 2, 'GGCTCC': 12, 'ACCGGG': 19, 'GGCTCG': 43, 'TTCGGA': 13, 'TTCGGC': 41, 'AAATAG': 3, 'TTCGGG': 16, 'AGCATG': 22, 'GGCTCT': 7, 'AGCATC': 34, 'AGCATA': 3, 'TTCGGT': 20, 'CTCTCA': 3, 'GCCTTT': 7, 'GTTTAA': 2, 'GAGGTG': 14, 'AACTTG': 7, 'CAATCT': 8, 'TATCGT': 5, 'TCTTTT': 3, 'TCCAGA': 10, 'CTGGCT': 14, 'AGGCGG': 32, 'AGGCGA': 19, 'AGGCGC': 29, 'AGGAGT': 5, 'ACAGCC': 12, 'ACAGCA': 24, 'GAGGTC': 15, 'ACAGCG': 29, 'AGGAGC': 8, 'GTCGGA': 13, 'AGGAGA': 7, 'CTGGCG': 31, 'AGGAGG': 6, 'CTGGCA': 12, 'GTCGGG': 37, 'ACCGGT': 15, 'GGAAAA': 16, 'AACGCT': 12, 'AATTTT': 6, 'TGTCAA': 2, 'TGTCAC': 7, 'CCCTCT': 3, 'AACCTT': 5, 'AAACAA': 4, 'AACGCG': 42, 'AATTTA': 2, 'AATTTC': 8, 'AACGCC': 26, 'AACGCA': 18, 'AATTTG': 5, 'CCCTCA': 5, 'AAACAT': 4, 'TGTCAT': 9, 'CCCTCG': 13, 'TCCAGT': 7, 'GGCGTT': 22, 'ATTTTT': 8, 'TGACCA': 7, 'CATTCT': 13, 'TAAATC': 3, 'TGACCG': 22, 'ATGGTT': 4, 'CATTCG': 20, 'CATTCC': 10, 'CATTCA': 14, 'ACGAAA': 10, 'CGCTAT': 6, 'ACAAAT': 4, 'GATTAA': 3, 'GTAGGC': 6, 'GATTAC': 2, 'GCGGGT': 15, 'ACAAAC': 2, 'ACAAAA': 3, 'GCGGGC': 49, 'GTCGGT': 25, 'GCGGGA': 24, 'GCGGGG': 23, 'GATTAT': 3, 'GTAGGT': 9, 'CAATAC': 6, 'AAGGTT': 5, 'GATGTT': 11, 'TAATGC': 8, 'GGGATG': 12, 'GCCCTT': 13, 'CAATTG': 5, 'GCCCTC': 10, 'GATGTG': 8, 'GATACA': 5, 'GATGTA': 3, 'GCCCTG': 17, 'GATGTC': 22, 'AACCTC': 5, 'TGAAAT': 10, 'TTCTAG': 3, 'ATCCGT': 11, 'TTCTAC': 2, 'GAATGT': 8, 'TTGGAT': 3, 'TGAAAC': 9, 'TGAAAG': 5, 'TTCTAT': 5, 'ATCCGC': 40, 'ATCCGA': 18, 'ATCCGG': 41, 'TGGCTC': 16, 'TGGCTA': 2, 'TGGCTG': 16, 'GGGTGA': 4, 'GGAATA': 4, 'AGTTGT': 5, 'AGCTAT': 2, 'GTCGGC': 69, 'TGGCTT': 6, 'AGTTGG': 5, 'AGCTAA': 2, 'AGCTAC': 3, 'AGTTGC': 15, 'AGTTGA': 7, 'GCACCT': 12, 'CAGTGT': 7, 'TCAGGT': 12, 'TCAAGG': 10, 'CTGGCC': 30, 'TCAAGC': 17, 'CATGGA': 12, 'GCACCA': 20, 'CAGTGC': 23, 'GCACCC': 17, 'CAGTGA': 6, 'CAGTGG': 5, 'GCACCG': 63, 'TCAAGT': 6, 'CTGCAA': 23, 'TCAGGA': 11, 'TCAGGC': 22, 'CGAGCT': 35, 'GTTCAT': 16, 'TTCCCT': 6, 'CGAGCG': 106, 'CGAGCA': 83, 'GAGCCG': 39, 'CGAGCC': 50, 'GTTCAG': 19, 'TTCCCC': 12, 'ACAGCT': 7, 'GTTCAC': 12, 'TTCCCG': 30, 'TGAGCA': 13, 'GGACCT': 9, 'CTTACT': 2, 'TACATG': 4, 'AAGTAC': 4, 'GATCAA': 18, 'TACATC': 6, 'AAGTAG': 6, 'GCACAC': 14, 'GGACCG': 15, 'GGACCA': 6, 'TCATCA': 10, 'GGACCC': 5, 'CACACG': 17, 'CACACC': 14, 'GCACAA': 7, 'CACACA': 4, 'TCTGCC': 5, 'TCTGCA': 18, 'TCTGCG': 14, 'TGCCCC': 5, 'ATTGCC': 14, 'CCCGTC': 18, 'CCCGTA': 10, 'CGTCGA': 92, 'CCCGTG': 15, 'TTAAGC': 2, 'TTACGT': 5, 'TAGATC': 4, 'AAACAG': 4, 'TGCCCA': 14, 'TAGATG': 2, 'TCTGCT': 9, 'TTACGC': 3, 'TTACGA': 4, 'TTACGG': 4, 'CCCGTT': 15, 'AGTGAC': 9, 'AGTGAA': 4, 'AGTGAG': 2, 'ACATTT': 5, 'CGGGCG': 65, 'AAACAC': 3, 'TTTCGG': 22, 'CGGGCC': 41, 'GAAAGT': 5, 'CGGGCA': 39, 'TAAGAC': 2, 'TGTCAG': 6, 'AGTGAT': 5, 'CTTTCC': 13, 'TAAGAT': 3, 'CCTGAA': 15, 'CGGGCT': 26, 'AGTAAA': 4, 'CCTGAG': 6, 'GCCAAC': 9, 'CTTTCA': 6, 'CTCCAG': 12, 'TGTAGC': 2, 'ACCCCC': 2, 'TATACG': 3, 'CGGATG': 41, 'ATTGGC': 12, 'TCTTGT': 5, 'GTAATG': 6, 'TTTATT': 4, 'GTAATA': 5, 'ATTGGA': 5, 'GTAATC': 6, 'CGTTCT': 13, 'CCACCG': 32, 'CGGATC': 39, 'CCACCA': 19, 'CCACCC': 15, 'TTTATG': 2, 'GTAATT': 5, 'CTACTG': 2, 'ACTAGC': 2, 'ACGGTG': 28, 'CCACCT': 10, 'CGTTCG': 53, 'ACTTGT': 5, 'CGTTCA': 25, 'TCAAAC': 2, 'CGTTCC': 23, 'ACTGGG': 3, 'ACTGGA': 8, 'ACTGGC': 13, 'TAGTCC': 2, 'GTGACC': 5, 'TAGTCA': 4, 'AGGCGT': 14, 'TAGTCG': 13, 'GTGACG': 32, 'ACTGGT': 8, 'CTTTGG': 8, 'CTTTGC': 10, 'CTACGC': 8, 'GTGACT': 3, 'TAGTCT': 2, 'GTGCAC': 18, 'CGACGG': 66, 'ACGTGA': 20, 'CGACGA': 98, 'GTGCAG': 31, 'CGACGC': 103, 'CGAAGT': 16, 'CCGCAG': 19, 'CCGCAA': 16, 'ATTGTG': 6, 'CCGCAC': 40, 'ACGTGG': 24, 'CGAAGC': 50, 'CGACGT': 55, 'CGAAGA': 24, 'CGAAGG': 22, 'GCGCTC': 61, 'GTGCAT': 16, 'GCGCTA': 13, 'CCGCAT': 40, 'ATTACC': 4, 'GAAGAT': 13, 'GGATCT': 13, 'TCGGAA': 7, 'TCGGAC': 13, 'GAATCT': 12, 'TCGGAG': 10, 'GGATCG': 31, 'GAAGAG': 17, 'GGTATA': 2, 'GAAGAA': 14, 'GTTCGG': 34, 'GAAGAC': 9, 'GGATCA': 21, 'GAATCA': 6, 'GAATCC': 15, 'TCGGAT': 17, 'GAATCG': 26, 'ATGGTC': 15, 'CAGATG': 15, 'CTATCG': 8, 'TGACCC': 4, 'ACGCCA': 20, 'CAGATC': 19, 'ACGCCC': 27, 'CAGATA': 10, 'GGGTAT': 2, 'CTCGAG': 24, 'CAGATT': 7, 'TGATTA': 3, 'CTCGAC': 69, 'CTCGAA': 28, 'CCCCGG': 16, 'GCGTGG': 41, 'AATGGT': 4, 'ATGATA': 2, 'GTTACG': 4, 'ACGTGT': 4, 'AGCCAC': 14, 'AATGGA': 5, 'AATGGG': 9, 'CACTCT': 3, 'CAACTC': 12, 'CAACTA': 2, 'ACGCAA': 8, 'AGCCAG': 4, 'GGAGGG': 3, 'AAAAGT': 4, 'TTGACG': 22, 'GGAGGC': 13, 'TGGTAG': 8, 'CGCCAT': 34, 'GAGTGT': 6, 'TGGTAC': 6, 'TGGTAA': 2, 'AAAGTT': 4, 'GGAGGT': 10, 'AGCCAT': 7, 'AAAAGC': 6, 'AAAAGA': 4, 'GAGTGG': 6, 'CGCCAG': 45, 'TGGTAT': 4, 'CGCCAA': 13, 'GAGTGC': 9, 'CGCCAC': 38, 'GAGTGA': 5, 'GCCAGG': 21, 'GCCAGA': 11, 'GCCAGC': 46, 'GCCCGT': 24, 'TACCGA': 9, 'TACCGC': 11, 'CTTCAT': 18, 'GCCCGC': 56, 'GCCAGT': 19, 'GCCCGA': 41, 'GCCCGG': 58, 'CTTCAC': 13, 'CTTCAA': 10, 'CTTCAG': 13, 'TCCGAG': 10, 'TCCGAA': 16, 'TCCGAC': 8, 'AATTCC': 10, 'AATTCG': 19, 'TCCGAT': 10, 'TAGCGG': 7, 'TAGCGA': 7, 'TAGCGC': 17, 'GTCATC': 24, 'GTCATA': 8, 'GTCATG': 18, 'ATCTCT': 4, 'AGCAGG': 34, 'CCAGGT': 14, 'TTGGAA': 6, 'AGCAGC': 43, 'AGCAGA': 15, 'GGATGC': 41, 'CCAGGG': 5, 'AGCAGT': 13, 'CCAGGA': 9, 'CCAGGC': 24, 'AGCGCT': 28, 'ACGGTA': 4, 'CATCTG': 16, 'ACGGTC': 20, 'CATCTA': 4, 'GATCGA': 46, 'CATCTC': 11, 'CAAGCT': 11, 'TCCAAC': 2, 'GGGGTC': 5, 'CAAGCC': 23, 'CATCTT': 10, 'CAAGCA': 15, 'ACGGTT': 8, 'GTTCTT': 7, 'ACATGA': 14, 'CGTAAT': 11, 'ACATGC': 11, 'TGTTTG': 4, 'ACATGG': 10, 'AGGGAT': 4, 'GTACAT': 7, 'GGCCAT': 32, 'CGTAAG': 5, 'GAGTCA': 2, 'ACATGT': 5, 'CGTAAC': 3, 'GTTCTC': 9, 'CCCGCG': 49, 'CCCGCA': 23, 'CCCTTT': 5, 'TGTTGT': 2, 'GTTGTT': 9, 'ATCCTT': 7, 'TTGTCG': 22, 'TTGTCC': 6, 'TTGTCA': 2, 'ATCCTC': 7, 'GTTGTA': 3, 'ATCCTA': 4, 'GTTGTC': 15, 'ATCCTG': 16, 'AGTACG': 5, 'TTGTCT': 2, 'ACGCGC': 61, 'CCACTG': 4, 'CTGTGG': 7, 'TGGGCC': 9, 'TGGGCA': 5, 'TGGGCG': 35, 'TGACTG': 8, 'AAGCCG': 52, 'AAGCCC': 11, 'AAGCCA': 8, 'CAAAAT': 7, 'ACGCGG': 50, 'TGGGCT': 11, 'CAAAAC': 5, 'CAAAAA': 9, 'AAGCCT': 13, 'CAAAAG': 3, 'TGATTT': 6, 'TCAATG': 10, 'TCAATC': 9, 'TCAATA': 5, 'CAGTTC': 15, 'CAGTTA': 2, 'GACCCA': 6, 'GACCCC': 5, 'CTCTGT': 3, 'TAATGA': 2, 'TCAATT': 6, 'TGGCGT': 14, 'CTCTGC': 8, 'GACCCT': 2, 'CTCTGA': 3, 'CTCTGG': 6, 'CAGTTT': 2, 'GCGAAG': 42, 'TGCTGG': 23, 'GCGAAC': 43, 'GCGAAA': 21, 'GCTGGT': 20, 'GTGATT': 9, 'TGCTGT': 10, 'GCGAAT': 24, 'TAATGG': 2, 'GTGATG': 18, 'GCTGGG': 14, 'GTGATC': 13, 'GCTGGC': 36, 'GTGATA': 10, 'GCTGGA': 26, 'TGATAA': 3, 'TGTAGT': 4, 'TGATAC': 5, 'TGATAG': 7, 'CTTGTT': 6, 'GACGGT': 28, 'GCTAGA': 2, 'ATGAAT': 11, 'CTATGT': 2, 'AACGTT': 4, 'TGATAT': 3, 'GTAGTG': 7, 'GCTAGT': 2, 'ATGAAC': 16, 'GACGGG': 31, 'CTTGTG': 8, 'GACGGA': 25, 'ATGAAG': 18, 'GACGGC': 50, 'CTTGTC': 11, 'GCACTT': 7, 'CCCGCT': 25, 'CCATAG': 4, 'GGTGAA': 13, 'GGTGAC': 9, 'GCGTCT': 10, 'GACTGT': 6, 'GGTGAG': 9, 'GGAATG': 11, 'CGTCCT': 11, 'GGAATC': 16, 'GCGTCA': 27, 'GCGTCC': 33, 'GGTGAT': 16, 'GCGTCG': 101, 'CGTCCG': 42, 'GGAATT': 10, 'CGTCCC': 16, 'CGTCCA': 26, 'CCGTAT': 15, 'GCCGTG': 44, 'GAAGTA': 7, 'GAAGTG': 11, 'GCCGTA': 25, 'CCGTAC': 22, 'CCGTAA': 4, 'CCGTAG': 8, 'CAAAGT': 2, 'GCCGTT': 24, 'TTGGTG': 4, 'GAAGTT': 14, 'GGCGCG': 124, 'ATGCCC': 13, 'ATGCCA': 10, 'GGCGCC': 70, 'ATGCCG': 56, 'GGCGCA': 37, 'ACTATG': 2, 'CCATAT': 7, 'ACTATC': 3, 'TTTAAC': 4, 'GGCGCT': 41, 'ATGCCT': 8, 'CTAACG': 3, 'GTCTCC': 2, 'GGGCAT': 22, 'AAAGAC': 6, 'TTTCCG': 21, 'TTTCCA': 12, 'TTTCCC': 15, 'GTACGT': 13, 'GTTTGT': 5, 'TTTCCT': 4, 'GGGCAG': 16, 'GGGCAA': 11, 'GGGCAC': 10, 'GTACGG': 18, 'GTTTGA': 7, 'GTACGC': 18, 'GTACGA': 12, 'CCGCTC': 29, 'GCATGT': 17, 'CCGCTA': 2, 'CCGCTG': 39, 'TGAAAA': 9, 'GCGCGG': 130, 'GCGCGC': 120, 'GCGCGA': 118, 'GCATGG': 19, 'TGGATC': 15, 'GCATGC': 47, 'CCGCTT': 24, 'GCATGA': 23, 'GTCGAC': 65, 'GCGCGT': 67, 'GTCGAG': 55, 'AGACAT': 9, 'GTAGTC': 14, 'TGCGCT': 35, 'GAGCTC': 13, 'ATTGAT': 4, 'GAGCTG': 21, 'AAACGA': 12, 'AAACGC': 20, 'GTAACA': 2, 'GTAGTA': 3, 'AAACGG': 3, 'ATTGAA': 10, 'TGCGCG': 101, 'ATTGAC': 9, 'GAGGGA': 2, 'TGTCCG': 14, 'TGCGCC': 43, 'ATTGAG': 4, 'TGCGCA': 36, 'CACGCA': 28, 'AAACGT': 5, 'ATTTCG': 22, 'ATTTCA': 12, 'TACGCA': 7, 'ATCAGT': 10, 'ATCGGG': 27, 'CATAGT': 4, 'AAATCA': 7, 'ATCGGC': 64, 'ATCGGA': 13, 'TGGGTG': 4, 'TACGCC': 11, 'TGGGTC': 12, 'TGGGTA': 2, 'CATAGG': 3, 'ATCGGT': 15, 'ATCAGG': 22, 'CATAGC': 7, 'ATCAGC': 28, 'ACGGGT': 9, 'GTCTGA': 4, 'ATTCGG': 21, 'GATTCT': 13, 'CTTTTG': 5, 'CTTTTC': 7, 'CAGCAA': 15, 'GATTCC': 17, 'ACGGGG': 11, 'GATTCG': 28, 'ACGGGC': 41, 'CTTTTT': 7, 'ACCAAC': 6, 'TCACGA': 24, 'TCACGC': 33, 'TCACGG': 19, 'TCTCAT': 4, 'TCACGT': 22, 'TTCCAC': 6, 'TTCCAA': 3, 'TTCCAG': 17, 'ACCCTT': 4, 'TGAAGT': 8, 'CCACAT': 5, 'TTCCAT': 9, 'TGAAGC': 21, 'TGAAGA': 13, 'TGAAGG': 17, 'ACCCTG': 7, 'CTGACT': 5, 'CCCCTT': 3, 'CTGACG': 22, 'CTGACC': 16, 'CTGACA': 5, 'AGTTAA': 3, 'CCCCTG': 5, 'CCCCTC': 5, 'ACACAG': 2, 'ACACAA': 2, 'ACACAC': 9, 'AATGTT': 7, 'CTGCAG': 24, 'CATGGG': 14, 'CTGCAC': 28, 'CATGGC': 19, 'AATGTC': 9, 'ACACAT': 4, 'AATGTA': 2, 'AATGTG': 5, 'CATGGT': 10, 'CTGCAT': 20, 'GCACAG': 8, 'CCACAG': 11, 'CGAGAT': 36, 'GTTCGT': 24, 'CACAAT': 2, 'TTATCT': 3, 'ACATTG': 4, 'ACATTC': 5, 'GTTCGA': 31, 'CCACAC': 9, 'GTTCGC': 51, 'CGAGAC': 14, 'ATTACG': 5, 'AAGTCT': 2, 'GCTATT': 3, 'GGACAT': 9, 'GCTATA': 3, 'GCTATC': 5, 'AAGTCG': 11, 'AAGTCA': 2, 'GCTATG': 3, 'GGACAG': 9, 'GGACAC': 9, 'GGACAA': 6, 'AGGGTT': 3, 'GAGGCG': 23, 'TGTTGG': 5, 'GAGGCA': 5, 'TGTTGA': 9, 'GAGGCC': 14, 'TGTTGC': 14, 'TCCAAG': 4, 'ACTCGA': 13, 'TAAAAT': 3, 'CCCACC': 12, 'ACTCGG': 4, 'AGCGCA': 25, 'GAGGCT': 7, 'AGCGCC': 48, 'AGGGTG': 2, 'AGCGCG': 86, 'AGGGTC': 6, 'ACTCGT': 5, 'TAAAAC': 2, 'TAAAAA': 5, 'ACGTTC': 19, 'AGCTGC': 22, 'AGCTGA': 12, 'ACGTTG': 13, 'AGCTGG': 6, 'TAGGGG': 2, 'AGTGCG': 16, 'AGTGCA': 6, 'AGTGCC': 11, 'AAAACC': 6, 'TTCGTG': 18, 'TAGGGT': 2, 'AGCTGT': 11, 'ACGTTT': 11, 'AGTGCT': 8, 'TCATAA': 5, 'TCAAGA': 7, 'AGAGTG': 4, 'TAACCC': 5, 'GTTAAA': 3, 'CCTGGC': 19, 'CCTGGA': 11, 'CCTGGG': 6, 'GTCTGG': 6, 'GTCTGC': 13, 'GTTAAT': 3, 'CCTGGT': 17, 'GGAAGG': 11, 'ATGCTT': 12, 'GGAAGC': 17, 'GGAAGA': 9, 'TGTATT': 6, 'TCCTCT': 4, 'GCGTTC': 35, 'CAATGC': 16, 'GCGTTG': 24, 'CAATGG': 8, 'ATGCTG': 18, 'GGAAGT': 7, 'ATGCTC': 21, 'ATTTGT': 2, 'TCCTCG': 25, 'TCCTCA': 5, 'GCGTTT': 17, 'TCCTCC': 3, 'TGTATC': 3, 'GTGAAT': 10, 'TAACCG': 2, 'TCATAG': 2, 'TCAGGG': 8, 'CGTTAC': 4, 'TTCGTA': 6, 'CGTTAA': 2, 'TTCGTC': 32, 'ACCGCT': 16, 'AACCCA': 2, 'TTCGTT': 10, 'TCATAT': 7, 'CGTTAT': 3, 'GTGAAA': 3, 'GTGAAC': 12, 'AACCCG': 19, 'ACCGCG': 44, 'ACCGCA': 21, 'ACCGCC': 32, 'CCGCCT': 26, 'AGGCTT': 6, 'CCTTCT': 5, 'GTTGCA': 13, 'AACGAA': 8, 'GTTGCC': 33, 'GTGCCG': 57, 'GTGCCA': 10, 'GTTGCG': 37, 'GTGCCC': 18, 'CCGCCG': 87, 'CCTTCC': 12, 'AGGCTC': 12, 'CCGCCC': 37, 'TGTCGA': 45, 'CCGCCA': 28, 'AGGCTG': 19, 'GTGCCT': 8, 'TCCAAA': 3, 'GTTGCT': 4, 'GGATAT': 9, 'TCGGGT': 21, 'AAACCT': 6, 'GCAGTT': 12, 'GAAGCT': 15, 'TCGGGC': 37, 'TCGGGA': 19, 'TCGGGG': 21, 'GGATAG': 2, 'GAAGCG': 27, 'GCAGTG': 15, 'GAAGCC': 44, 'GCAGTA': 7, 'GAAGCA': 19, 'GCAGTC': 12, 'CGCCCG': 68, 'GAGAGA': 4, 'CGCCCC': 23, 'CGCCCA': 33, 'ACGCAG': 21, 'ACGCAC': 20, 'GCATTA': 6, 'CTCGCA': 12, 'CTCGCC': 42, 'CTCGCG': 51, 'ACGCAT': 23, 'AGTTTC': 4, 'GCCGGG': 47, 'GCCGGC': 134, 'CATGTT': 9, 'GCCGGA': 38, 'AGATCT': 3, 'ACGTAG': 12, 'GCCACT': 5, 'CATGTA': 6, 'CATGTC': 21, 'GCCGGT': 54, 'CATGTG': 13, 'AGTTCG': 26, 'TACCCC': 3, 'GTACTC': 2, 'GGCCTG': 29, 'GGCCTC': 22, 'TTTGTT': 3, 'AATCGG': 17, 'CTATCA': 3, 'AATCGC': 19, 'AATCGA': 11, 'TTCCCA': 7, 'GGCCTT': 14, 'TCACTA': 3, 'CAGCGA': 33, 'AATCGT': 10, 'TGGATT': 4, 'AGCCGA': 40, 'GAGCGT': 34, 'AGCCGC': 62, 'TAATTG': 2, 'AAAAAT': 11, 'AGCCGG': 38, 'GTTTTT': 4, 'TGGTGA': 9, 'GGGCTC': 15, 'TGGTGC': 19, 'GATGGC': 37, 'GGGCTG': 25, 'TGGTGG': 15, 'GATGGG': 13, 'AAAAAA': 6, 'GAGCGG': 44, 'GAGCGA': 23, 'AGCCGT': 24, 'GAGCGC': 59, 'ATCACA': 3, 'CCAAGG': 8, 'CTACAT': 3, 'TCTCAG': 2, 'GATGGT': 11, 'TGGTGT': 4, 'GGGCTT': 6, 'ATTCGT': 13, 'AGAACT': 3, 'CAAAGA': 3, 'CCTTCG': 26, 'TACCAT': 2, 'AGATAG': 9, 'ACCCGG': 13, 'ACCCGA': 14, 'ATGTCT': 4, 'ACCCGC': 21, 'ACCAGT': 11, 'TACCAC': 3, 'AGAACG': 17, 'GTAACG': 7, 'AGAACA': 4, 'TACCAG': 5, 'AGAACC': 6, 'ACCAGC': 37, 'CACTGG': 6, 'ACCAGA': 12, 'TGACAA': 7, 'ACCAGG': 7, 'CACTGC': 16, 'ATGTCG': 33, 'TCCCGG': 21, 'GTTTAC': 2, 'CTGTTG': 7, 'GTAACC': 3, 'CTGTTC': 21, 'CGGGTT': 26, 'AATTAC': 2, 'TAGGTG': 8, 'TAGGTC': 4, 'CGGGTC': 23, 'CTGTTT': 10, 'CGGGTA': 9, 'CGGGTG': 17, 'ATTGTT': 3, 'CACACT': 3, 'CATTAC': 5, 'AGCAAA': 7, 'ATATAT': 2, 'AGCAAC': 22, 'AAAGCT': 6, 'AGCAAG': 16, 'AAAGCA': 7, 'ATATAG': 3, 'AGCAAT': 3, 'AAAGCG': 15, 'ATAGCA': 5, 'ATAGCC': 9, 'TACTTG': 4, 'ATAGCG': 7, 'TCTCAC': 2, 'TGCTAA': 2, 'TACTTT': 2, 'GGGTAA': 4, 'GTTTTC': 12, 'CGAGTT': 16, 'TCCAAT': 4, 'CGTACT': 7, 'TCCCGT': 12, 'ACATAC': 7, 'ACATAA': 2, 'TTGCCT': 8, 'ACATAG': 3, 'CGTACA': 13, 'CGAGTG': 14, 'CGAGTA': 9, 'CGTACG': 28, 'AGGGGA': 3, 'AGGGGC': 8, 'TATGCA': 6, 'AGGGGG': 8, 'TCATTA': 2, 'CGACTT': 14, 'TGAATT': 8, 'TTGTAA': 4, 'TTGTAC': 3, 'GTACCT': 2, 'TTGTAG': 4, 'TGAATC': 15, 'CGACTA': 6, 'TGAATA': 3, 'GGATAC': 8, 'TGAATG': 10, 'AAGTAT': 3, 'CGACTG': 20, 'ATCGTG': 36, 'GCTTCG': 54, 'ATCGTC': 41, 'GCTTCC': 19, 'TGGGAG': 4, 'TGGGAA': 7, 'TGGGAC': 5, 'GCTTCT': 5, 'ATCGTT': 13, 'ACAACG': 19, 'TGGGAT': 4, 'CTAGCC': 3, 'GACCAT': 11, 'CTAGCG': 2, 'CGGTAG': 11, 'CGGTAC': 17, 'CGGTAA': 12, 'GACCAG': 32, 'GACCAC': 13, 'GACCAA': 5, 'TACACC': 4, 'CGGTAT': 19, 'TACACA': 4, 'TACACG': 14, 'CGTTTA': 2, 'GCGAGA': 25, 'GAGAGC': 4, 'GCGAGC': 95, 'GGCCGT': 33, 'GCGAGG': 16, 'CAGCCG': 48, 'CAGCCA': 8, 'CAGCCC': 28, 'TCCGGG': 24, 'GCGAGT': 14, 'GAACTG': 16, 'GAACTC': 9, 'GAACTA': 4, 'GGACTT': 5, 'CACCTA': 4, 'CACCTC': 15, 'CACCTG': 15, 'TGATCC': 15, 'AACACT': 2, 'TGATCA': 16, 'TGATCG': 35, 'GCATTG': 13, 'GGACTG': 10, 'CACCTT': 7, 'AACTAC': 4, 'GGACTC': 6, 'AACACG': 19, 'AACACA': 4, 'AACACC': 9, 'TGATCT': 9, 'CCAGCA': 38, 'GCATTC': 29, 'CAACAG': 10, 'GACAGT': 3, 'CAACAA': 5, 'AAAGAA': 2, 'CAACAC': 10, 'GCTGAT': 27, 'CTATAA': 2, 'GACAGG': 12, 'CAACAT': 10, 'GACAGC': 26, 'GACAGA': 6, 'GTATTA': 2, 'GTATTC': 15, 'ATATCA': 3, 'AGAGGT': 4, 'GGTGGC': 31, 'GGTGGA': 8, 'CGTCAT': 27, 'GGTGGG': 11, 'AGAGGC': 3, 'GTAAGA': 3, 'AGAGGA': 4, 'GTAAGC': 8, 'AGAGGG': 2, 'TCCCCG': 19, 'CGTCAC': 28, 'TCCCCC': 10, 'GGTGGT': 10, 'CGTCAG': 26, 'GTCGCG': 81, 'GTCGCA': 30, 'GTCGCC': 44, 'CCGTCT': 12, 'TCGGTA': 15, 'TCGGTG': 24, 'GTCGCT': 19, 'CCGTCG': 57, 'ATTTAT': 2, 'CCGTCA': 22, 'CCGTCC': 23, 'GGCTGT': 16, 'CGCGTG': 67, 'GCATTT': 10, 'CGCGTC': 70, 'CGCGTA': 23, 'GTTTTA': 2, 'ATGCAG': 24, 'ATGCAA': 11, 'ATGCAC': 12, 'CGCGTT': 34, 'GGCTGG': 29, 'GGCTGA': 20, 'GGCTGC': 41, 'ATGCAT': 15, 'ATGACG': 39, 'GGAGTT': 4, 'ATGACA': 8, 'ATGACC': 2, 'CCTGAT': 11, 'GGGCCT': 11, 'ATGACT': 4, 'GGAGTA': 2, 'GGAGTC': 4, 'GGAGTG': 4, 'GGGCCG': 41, 'GGGCCC': 10, 'GGGCCA': 10, 'CTGATC': 30, 'ACGAGT': 9, 'GCGCAA': 37, 'GCGCAC': 49, 'AAAGTC': 3, 'GCGCAG': 51, 'ACGAGG': 18, 'ACGAGC': 45, 'GACCCG': 14, 'ACGAGA': 11, 'GGCAAC': 29, 'GCGCAT': 41, 'GCTCTA': 4, 'ACATCT': 9, 'GGGTTG': 12, 'TTTGGG': 9, 'TGCGAT': 23, 'GGGTTC': 17, 'TTTGAT': 4, 'ATTCGA': 16, 'ATTGCT': 8, 'TGCGAA': 16, 'TGCGAC': 25, 'AGAAAT': 3, 'TGCGAG': 23, 'AACGGC': 33, 'TTTGAG': 7, 'AACGGA': 12, 'ATTGCG': 18, 'TTTGAC': 4, 'TTTGAA': 7, 'AAGCAG': 12, 'CCTGAC': 11, 'CTCGTA': 8, 'CTCGTC': 34, 'CCCTGG': 13, 'CCCTGA': 4, 'AAGCTT': 9, 'CCCTGC': 14, 'GATATC': 10, 'AAGCTC': 10, 'GATATA': 3, 'TGACGG': 38, 'GATATG': 14, 'AAGCTG': 15, 'TGACGC': 23, 'CATCGT': 45, 'CCAGTA': 10, 'CCAGTC': 14, 'GACACA': 5, 'CCAGTG': 10, 'TACTCG': 2, 'CATCGA': 42, 'CATCGC': 85, 'CTATTG': 4, 'CATCGG': 44, 'CAGGGG': 11, 'CAGGGA': 6, 'CAGGGC': 8, 'AATCTG': 9, 'CGGACT': 15, 'GCCATT': 8, 'ATCCAA': 2, 'TCACAC': 6, 'TCACAA': 4, 'GTCTCG': 13, 'GCCATA': 12, 'CGGACG': 32, 'TCCACC': 12, 'CGGACA': 14, 'CGGACC': 17, 'GCCATG': 29, 'CTTACC': 4, 'TCACAT': 7, 'CACGGA': 13, 'ATTAAA': 5, 'ATTAAG': 3, 'TCACTT': 2, 'TCCACG': 13, 'ATTAAT': 2, 'GAACCA': 9, 'GGTATG': 2, 'CTGAAT': 7, 'GGTATC': 13, 'AGTACA': 5, 'CGAGAG': 2, 'CAATGA': 7, 'ACGAAT': 11, 'CTGAAA': 13, 'CTGAAC': 14, 'CTGAAG': 14, 'CCCGAA': 16, 'AAGGGT': 3, 'CATTGC': 15, 'CATTGA': 7, 'CATTGG': 2, 'TCAACT': 4, 'ACACCG': 21, 'CTGCCA': 15, 'CTGCCC': 24, 'ACACCC': 4, 'ACACCA': 12, 'CTGCCG': 37, 'CTAGTG': 2, 'TCAACC': 10, 'TCAACA': 10, 'TCAACG': 19, 'CATTGT': 3, 'TATGAC': 2, 'ACACCT': 9, 'AGGTAC': 6, 'TATCAC': 2, 'CCTCGT': 21, 'TATGAA': 3, 'AGACTG': 4, 'CGAGGT': 22, 'CCTCGG': 17, 'CCTCGC': 25, 'CCTCGA': 36, 'CGAGGA': 22, 'CGAGGC': 28, 'CGAGGG': 7, 'CACCGT': 29, 'TCACTC': 3, 'GACCTG': 15, 'GGACGT': 19, 'GACCTC': 10, 'CACCGG': 38, 'ACGCTG': 23, 'CACCGA': 27, 'CACCGC': 48, 'GGACGA': 23, 'GGACGC': 22, 'TCCTGT': 4, 'GGACGG': 20, 'ACGCTA': 3, 'CACAGC': 13, 'CTTATC': 3, 'CACAGA': 3, 'CACAGG': 3, 'CTTATG': 3, 'ACTCAT': 3, 'GAGGAG': 9, 'GACGTA': 9, 'CGTATC': 15, 'GACGTC': 35, 'GAGGAC': 12, 'GAGGAA': 11, 'GACGTG': 32, 'ACTCAC': 2, 'TTAACC': 2, 'ACTCAA': 5, 'ACTCAG': 2, 'CACAGT': 2, 'AGCGAC': 28, 'TAAACA': 4, 'AGCGAA': 11, 'GAGGAT': 4, 'GACGTT': 18, 'CGTATT': 15, 'AGTTCC': 3, 'AGTTCA': 8, 'CTGTGC': 11, 'TAGCCC': 5, 'CTGTGA': 2, 'CGGGGT': 11, 'GCAAAG': 9, 'GCAAAA': 8, 'GCAAAC': 6, 'CGGGGC': 42, 'CGGGGA': 10, 'CTGTGT': 3, 'GTATGA': 4, 'GTATGC': 11, 'AGTGGA': 6, 'GCAAAT': 10, 'CGAGAA': 22, 'TAATTA': 3, 'TTCAAT': 11, 'TGCTTT': 9, 'GTCTAT': 3, 'GTTACA': 4, 'TAATTC': 4, 'TATCGA': 11, 'TATCGC': 15, 'AGGACG': 24, 'TTCAAG': 14, 'TGCTTC': 15, 'TTCAAA': 4, 'TGCTTG': 14, 'TTTATC': 3, 'TATAGA': 2, 'AGCTCA': 9, 'TATAGG': 3, 'GCTCTC': 8, 'GGAAAC': 11, 'GGGCTA': 4, 'GCTCTG': 12, 'CCACGT': 18, 'GGAAAG': 15, 'AGGACC': 5, 'GAATGG': 12, 'GGCTTT': 4, 'GAATGC': 22, 'CCACGA': 15, 'GGCGTC': 51, 'CCACGC': 30, 'GGCGTA': 11, 'GGCGTG': 36, 'CCACGG': 20, 'GCTCTT': 8, 'GGCTTA': 3, 'ACTACC': 3, 'GGCTTC': 25, 'ACTACA': 5, 'ACTACG': 2, 'GGCTTG': 13, 'CGTTGA': 15, 'AGTCAG': 4, 'CGTTGC': 32, 'TCCTAC': 3, 'AGTCAC': 2, 'CGTTGG': 11, 'TAACAG': 3, 'TCATCG': 47, 'GAATTG': 8, 'AAGCGT': 8, 'TCATCC': 16, 'AAAAAC': 7, 'CTTTCT': 7, 'AGTCAT': 4, 'CGTTGT': 11, 'GTTTTG': 9, 'TACCCT': 2, 'TCATCT': 10, 'CTTTCG': 11, 'AAGTAA': 4, 'AAAAAG': 4, 'GTTGAT': 12, 'CGACCA': 40, 'CGACCC': 17, 'CGACCG': 61, 'CCTTAT': 2, 'GTTGAC': 11, 'GTTGAA': 7, 'GTTGAG': 10, 'CCTTAC': 3, 'CTATTT': 5, 'CGACCT': 21, 'AATAGA': 2, 'AATAGC': 8, 'CAACTG': 10, 'AATATC': 5, 'CCAAGC': 8, 'GGGGTT': 4, 'GTCCCT': 2, 'GGATGT': 3, 'AACCAA': 3, 'AATAGT': 2, 'TCGCTA': 8, 'CAACTT': 3, 'GGGGTG': 11, 'GGATGA': 16, 'GGATGG': 15, 'GGGGTA': 4, 'TCTCCG': 13, 'AAACTG': 9, 'TCTCCC': 4, 'GAGTCG': 13, 'TCTCCA': 4, 'AAACTC': 5, 'ACGCGA': 43, 'GTGAAG': 17, 'CTATGC': 4, 'GCTAAG': 3, 'AGTACC': 4, 'TGCCGC': 50, 'CCCTTC': 7, 'TCTCCT': 4, 'CCCTTG': 11, 'TGCCAA': 6, 'AGTACT': 3, 'ACGCGT': 32, 'GCCGAA': 43, 'GTGGAG': 9, 'GCCGAC': 67, 'GTGGAC': 9, 'GCCGAG': 69, 'GTGGAA': 9, 'GTGGAT': 9, 'GCCGAT': 72, 'CCTATT': 4, 'TATCTG': 5, 'CACTGT': 3, 'ACCGAG': 14, 'AAATCG': 11, 'CACGCG': 54, 'TTATCG': 5, 'ACCGAC': 22, 'AAATCC': 8, 'CACGCC': 52, 'AAAGTA': 5, 'CTACGT': 5, 'CTTTGA': 3, 'CTCGTT': 14, 'CACGCT': 23, 'AAATCT': 5, 'ACCGAT': 17, 'ACTTTG': 4, 'GTAGTT': 2, 'AGATAA': 2, 'GATGAT': 14, 'GGAGCA': 14, 'GGAGCC': 6, 'TAAATG': 4, 'CCAAAT': 2, 'GGAGCG': 22, 'AAAACT': 4, 'GATGAC': 26, 'TGTCCC': 3, 'GATGAA': 22, 'GATGAG': 7, 'CCAAAA': 7, 'CCAAAC': 4, 'AAAACG': 16, 'GGAGCT': 7, 'CCAAAG': 6, 'TCGCGG': 54, 'TCGCGC': 104, 'TCGCGA': 80, 'GCCACA': 7, 'AGATCA': 9, 'GCCACC': 43, 'AGATCC': 10, 'AACGTG': 14, 'GCGCTT': 35, 'GCCACG': 34, 'AGATCG': 32, 'TGCCTA': 2, 'ATGTCA': 10, 'TCGCGT': 43, 'GTGCAA': 12, 'ACCCGT': 8, 'AGAAAG': 11, 'TACCCG': 4, 'AGAAAC': 5, 'ATGTCC': 8, 'AGAAAA': 3, 'ACGTCC': 18, 'ATGTAC': 5, 'ACTTCG': 9, 'ATGTAA': 3, 'CCTATA': 2, 'ACTGTG': 3, 'CCGGCA': 64, 'CCTATC': 3, 'ATGTAT': 4, 'GTTCCA': 10, 'CACTGA': 9, 'ATTAGC': 4, 'AGCACT': 8, 'CGGCTG': 46, 'CGGCTC': 32, 'CGGCTA': 17, 'AGCACC': 25, 'AGCACA': 11, 'AGCACG': 38, 'CGGCTT': 27, 'CGCCCT': 19, 'ATATCG': 16, 'CCAGCC': 26, 'AAAGAG': 3, 'CCAGCG': 47, 'GCGCTG': 76, 'TTATTT': 3, 'TGTGAG': 3, 'TGTGAA': 2, 'GGGAGG': 6, 'TGTGAC': 5, 'ATATCT': 3, 'CCAGCT': 15, 'AAAGAT': 4, 'TGTGAT': 7, 'TTATTG': 3, 'CATGAT': 18, 'AGACGG': 10, 'TTTTAT': 2, 'TACAAG': 4, 'AGACGC': 14, 'TACAAA': 2, 'AGACGA': 15, 'TACAAC': 5, 'CCTCTG': 5, 'AGGTGG': 14, 'CCTCTC': 3, 'AGGTGC': 12, 'CCTCTA': 3, 'AGGTGA': 12, 'CTTACG': 4, 'TCCACA': 6, 'ACATCG': 40, 'TTTTAA': 2, 'ACATCA': 7, 'ACATCC': 14, 'AGGTGT': 10, 'ATCAAA': 7, 'GCGTGA': 29, 'CCCGGC': 53, 'CCCGGA': 17, 'CCCGGG': 15, 'CTGCGC': 57, 'TGGAAT': 5, 'AATTAA': 6, 'TTGTGC': 11, 'TTGTGA': 2, 'TTGTGG': 2, 'CCCGGT': 23, 'TGGAAG': 13, 'TGGAAC': 16, 'TGGAAA': 14, 'TGAGGA': 4, 'AAGAGG': 6, 'TGAGGC': 5, 'AAGAGA': 5, 'AAGAGC': 10, 'TGAGGG': 3, 'GCTTAC': 6, 'TCTGAT': 6, 'AAGCGC': 30, 'AAGAGT': 3, 'AAGCGA': 7, 'AAGCGG': 24, 'GCTTAT': 4, 'CTGCTA': 2, 'GCGTGT': 24, 'CTGCTC': 35, 'ACTTCT': 5, 'GACCGT': 16, 'CTGCTG': 25, 'CGGTCA': 22, 'GGTCGT': 32, 'CGGTCC': 12, 'CGGTCG': 62, 'GACCGA': 27, 'GACCGC': 34, 'ACTTCC': 7, 'CTGCTT': 15, 'GACCGG': 33, 'CTAGAT': 2, 'GGTCGG': 47, 'CGGTCT': 9, 'GGTCGC': 45, 'GGTCGA': 50, 'CGTCGC': 85, 'CAGCAT': 30, 'CGTCGG': 58, 'GCGTGC': 65, 'TGCTCA': 15, 'TTCATC': 26, 'TGCTCC': 14, 'TTCATA': 7, 'TTCATG': 17, 'TGCTCG': 58, 'CAGAAT': 3, 'CAGCAG': 39, 'GCGGCT': 41, 'CAGCAC': 37, 'CGTCGT': 48, 'GGGAGT': 4, 'ACGACT': 10, 'TGCTCT': 11, 'TTCATT': 6, 'GCTTTA': 4, 'GCTGCC': 39, 'GCTGCA': 36, 'AACTCT': 2, 'GCTGCG': 56, 'TGGCCA': 19, 'GTAGCA': 3, 'AACTCA': 6, 'TGGCCT': 11, 'AACTCC': 3, 'GCTGCT': 32, 'AACTCG': 15, 'CAGTCG': 24, 'GGATCC': 15, 'AATATT': 5, 'CAACCT': 11, 'TGGCCG': 45, 'GGCACG': 58, 'GGAGGA': 6, 'GGCACA': 10, 'GACAAT': 6, 'GGCACC': 26, 'CAACCG': 20, 'ACGACC': 27, 'CAACCC': 5, 'CAATAT': 6, 'CAACCA': 8, 'GACAAA': 5, 'GGCACT': 7, 'GACAAC': 11, 'CAGAAC': 7, 'GACAAG': 17, 'TGGCCC': 15, 'GCAATC': 19, 'GCAATA': 4, 'GCAATG': 17, 'CGATGG': 28, 'TCCCAT': 6, 'CGATGC': 72, 'GTAAAT': 4, 'CGATGA': 36, 'GAATTC': 21, 'GCAATT': 11, 'GTAAAC': 2, 'CGATGT': 28, 'TCCCAC': 5, 'TCCCAG': 5, 'GGATTT': 8, 'AGCGGA': 20, 'ACGCCG': 80, 'GGATTC': 11, 'AGGTCC': 5, 'ACCTCT': 2, 'ATGGTG': 8, 'AAAGCC': 11, 'TCTGTG': 4, 'CTATCC': 2, 'TCTGTA': 3, 'AACCGG': 20, 'CTCCTT': 9, 'GGCGGA': 25, 'AACCGC': 20, 'AACCGA': 7, 'CAGTCC': 5, 'CTCCTG': 8, 'AACCGT': 7, 'CTCCTC': 10, 'GGCGGT': 34, 'GACGCA': 19, 'CCCACG': 15, 'CCCACA': 8, 'GACGCG': 69, 'TACTTC': 9, 'AGCCTT': 14, 'CCGATT': 17, 'CCCACT': 4, 'GACGCT': 20, 'AGCGGT': 15, 'CCGATA': 15, 'CCGATC': 58, 'AGCCTA': 5, 'CCGATG': 33, 'GTACCC': 2, 'GTACCA': 6, 'GTACCG': 17, 'CGCCTT': 17, 'GCGCCT': 35, 'ACCTCC': 3, 'GCATCT': 15, 'CTCCCA': 6, 'TGGTTT': 5, 'CGCCTC': 23, 'GCGCCA': 46, 'CGCCTA': 3, 'GCGCCG': 118, 'CGCCTG': 50, 'ACGAAG': 15, 'CAGAGG': 3, 'GCATCC': 31, 'GCATCA': 21, 'CAGAGC': 7, 'CGGCCA': 64, 'GTGACA': 8, 'TTTGCT': 9, 'TAGCTC': 2, 'TGCGGT': 21, 'TAAGCA': 3, 'TGCGGC': 58, 'TGCGGA': 29, 'TGCGGG': 19, 'TTTGCG': 16, 'TGAGTT': 4, 'CGGGAC': 11, 'ATCGCT': 22, 'CAGGGT': 5, 'TCTCGT': 13, 'ATCGCC': 55, 'ATCGCA': 24, 'TGAGTA': 4, 'ATCGCG': 92, 'TGAGTC': 2, 'AAGGTG': 10, 'ACGGCT': 12, 'CATCAT': 11, 'AAGGTA': 3, 'ACGGCA': 44, 'CATCAC': 17, 'ACGGCC': 34, 'CATCAA': 10, 'CATCAG': 23, 'ACGGCG': 58, 'TCACCT': 10, 'CGGAAT': 19, 'CAATTC': 8, 'ATCGAT': 25, 'TCACCG': 26, 'TCACCA': 12, 'TCACCC': 3, 'CGGAAG': 15, 'AATATA': 3, 'AAAATA': 7, 'CGGAAC': 17, 'CGGAAA': 26, 'ATCCAG': 16, 'ATGGCG': 34, 'ATGGCC': 20, 'ATGGCA': 11, 'TCGTCC': 21, 'ATGGCT': 9, 'CCAAGT': 2, 'AGAATT': 4, 'GAAACG': 17, 'GAAACA': 4, 'GAAACC': 14, 'AGATAC': 4, 'CTGAGT': 3, 'GAAACT': 8, 'AGAATG': 4, 'AGATTT': 4, 'AGAATC': 10, 'CTGAGC': 17, 'CTGAGG': 2, 'CATACC': 8, 'CATACA': 9, 'CATACG': 12, 'TCAAAT': 6, 'GTCCAT': 13, 'AGGGGT': 4, 'AATGGC': 12, 'GTCCAG': 14, 'TCAAAG': 3, 'GTCCAC': 11, 'GAATTT': 6, 'CGGCGG': 88, 'TTGATG': 10, 'ATCGAG': 29, 'CGGCGC': 164, 'TTGATC': 11, 'CGGCGA': 96, 'TTGATA': 2, 'CTATCT': 5, 'TTGATT': 5, 'CGTACC': 12, 'ATCCCC': 15, 'CGGTTA': 3, 'TATTGC': 7, 'CGGTTC': 24, 'GCTGTT': 22, 'CGGTTG': 28, 'GGTTTG': 12, 'CGAGTC': 11, 'GCTGTG': 5, 'GGTTTT': 5, 'CGGTTT': 11, 'GCTGTA': 8, 'TATGCG': 18, 'TCTCAA': 3, 'AGGTTG': 11, 'AGGTTC': 14, 'AGGTTA': 2, 'ATGAAA': 11, 'ACTCCT': 5, 'TTTTTC': 10, 'GAGGGC': 8, 'TTTTTA': 2, 'TTTTTG': 7, 'TCCATG': 10, 'TTAAAT': 3, 'AGGTTT': 4, 'TATGCC': 2, 'ATACGT': 6, 'TTAAAA': 3, 'ACTCCG': 5, 'TTAAAG': 3, 'TCCATT': 8, 'TTTTTT': 6, 'GTCACG': 26, 'CTGTAC': 6, 'GCAACT': 15, 'GTCACC': 8, 'CTGTAG': 4, 'GTCACA': 7, 'ACCTAC': 4, 'GCAACG': 38, 'GTCACT': 5, 'TAGGCG': 6, 'GCAACC': 23, 'CTGTAT': 3, 'GCAACA': 19, 'TCCCAA': 4, 'TGGTTC': 5, 'ATTCAT': 11, 'GTAAAA': 7, 'GCGATT': 20, 'TCGTGT': 14, 'TTCACT': 3, 'GTCTCT': 3, 'ATTCAG': 7, 'ATTCAA': 6, 'ATTCAC': 15, 'TTCACG': 17, 'TCGTGG': 22, 'GCGATG': 58, 'TTCACC': 20, 'GCGATA': 10, 'TCGTGC': 50, 'GCGATC': 78, 'CGATTG': 17, 'GAAGGA': 10, 'CGATTC': 37, 'CGATTA': 3, 'GGAACC': 6, 'GGAACA': 11, 'GGAACG': 29, 'CGATTT': 22, 'AAAACA': 5, 'GAAGGT': 19, 'CTCGCT': 12, 'CAATCG': 15, 'CAATCA': 3, 'CAATCC': 12, 'TCCTGA': 16, 'AGTCCA': 2, 'TCCTGC': 19, 'AGTCCC': 2, 'TCCTGG': 9, 'AGTCCG': 4, 'TAACGC': 7, 'CAGCTG': 13, 'TAACGG': 2, 'CAGCTC': 23, 'CGACTC': 11, 'CCACTC': 7, 'CAGCTT': 18, 'TAACGT': 2, 'TTGACC': 14, 'GTACTT': 7, 'CGACAT': 42, 'TTGTTC': 12, 'CCGAGG': 15, 'CCGAGA': 21, 'ACGGAA': 14, 'CCGAGC': 60, 'CCGCGT': 52, 'GTACTG': 7, 'CGACAA': 23, 'CGACAG': 33, 'CCGCGC': 101, 'CCGAGT': 13, 'CCGCGA': 64, 'CCGCGG': 36, 'TTGTTT': 2, 'GCATAT': 2, 'AACATG': 5, 'AGCCAA': 8, 'AATAAC': 3, 'AATAAA': 4, 'AATAAG': 2, 'GGATTG': 10, 'AATAAT': 2, 'CCAACC': 7, 'CTCAGT': 3, 'TTATGC': 3, 'CCAACG': 6, 'CGCCGC': 128, 'GTGTAT': 3, 'CGCCGA': 99, 'GAGTAG': 3, 'CGCCGG': 110, 'AGTAAG': 2, 'CTCAGG': 4, 'CTCAGC': 6, 'CTCAGA': 3, 'GAGTAT': 3, 'GCTTCA': 15, 'GTGTAG': 3, 'TCGAGC': 72, 'GTGTAC': 8, 'CGCCGT': 54, 'GTGGCA': 13, 'GTGGCC': 22, 'CTCGGA': 8, 'GTGGCG': 42, 'GCCGCC': 95, 'GCCGCA': 49, 'GCCGCG': 129, 'ACACTT': 3, 'CTCGGT': 14, 'AGATAT': 4, 'TCGCTC': 27, 'GTGGCT': 10, 'GTCAGC': 19, 'TGCTTA': 4, 'ACACTC': 5, 'ACACTG': 3, 'GCCGCT': 42, 'ACCGGA': 16, 'AAATAA': 4, 'ACCGGC': 58, 'TCAGCC': 16, 'AATCCT': 9, 'CGAATT': 14, 'CACGAG': 28, 'CAGGTA': 9, 'AACTTC': 3, 'CAGGTC': 21, 'CACGAC': 26, 'CACGAA': 23, 'CAGGTG': 16, 'CTTTAT': 5, 'AATCCC': 9, 'AATCCA': 4, 'AAATAT': 5, 'AATCCG': 17, 'CACGAT': 31, 'CAGGTT': 15, 'AACTTT': 4, 'TCTGTC': 9, 'GGGATA': 4, 'GGGATC': 16, 'GGGTGT': 12, 'GGAGAT': 11, 'GATGCT': 20, 'CGCAGT': 14, 'ATTGGG': 5, 'GAGCCT': 6, 'GGAGAC': 9, 'GGCGGC': 109, 'GGAGAA': 13, 'GGGTGC': 9, 'GGGATT': 5, 'AATCAA': 4, 'GGGTGG': 9, 'GAGCCA': 14, 'CGCAGG': 31, 'GATGCG': 54, 'CGCAGA': 16, 'GATGCA': 25, 'CGCAGC': 52, 'GATGCC': 47, 'CGGATT': 17, 'GGTAGT': 9, 'ACCCCT': 2, 'GCCAAT': 10, 'GGCGGG': 29, 'AGAAGT': 8, 'ACCCCA': 2, 'GGTAGA': 4, 'GCCAAA': 8, 'GGTAGC': 11, 'GCCAAG': 10, 'CGGATA': 10, 'ACCCCG': 6, 'GGTAGG': 6, 'AGAAGA': 7, 'AGAAGC': 17, 'GCAAGA': 12, 'AGAAGG': 12, 'CACTCC': 7, 'CCCCGT': 15, 'CACTCG': 11, 'TGCGTT': 15, 'GCAAGG': 16, 'TCTGTT': 2, 'AGCTTT': 6, 'TGCGTC': 23, 'TGCGTA': 8, 'CCCCGC': 25, 'CCCCGA': 13, 'AGCTTC': 19, 'GAGCCC': 16, 'AGCTTA': 2, 'AGCTTG': 14, 'AGACCA': 8, 'CCACTT': 4, 'ACTCGC': 17, 'TTAGCC': 3, 'TTAGCA': 3, 'CTAGCA': 3, 'TTAGCG': 2, 'TACCGG': 17, 'ATAGGT': 3, 'TGTGCT': 6, 'AAGGGC': 7, 'ATAAGC': 6, 'AAGGGA': 2, 'CCAGAC': 3, 'CCAGAA': 13, 'CCAGAG': 5, 'GCAAGT': 9, 'TGTGCG': 26, 'TCTAAA': 2, 'ATAGGG': 4, 'TGTGCC': 7, 'TGTGCA': 10, 'ATAGGC': 3, 'CCAGAT': 18, 'AGACAA': 3, 'AACAAG': 9, 'CGTGGT': 29, 'AGACAG': 2, 'GCTTTT': 8, 'TTTTCT': 6, 'CGCTGT': 19, 'GACGCC': 54, 'CGTGGG': 17, 'CGTGGC': 45, 'CGTGGA': 18, 'TTTTCG': 16, 'CGCTGA': 42, 'CGCTGC': 68, 'TTTTCC': 16, 'TTTTCA': 10, 'CGCTGG': 39, 'TATGGA': 3, 'TATGGC': 6, 'CGTAGG': 5, 'CGTAGA': 7, 'TATGGG': 4, 'CGTAGC': 19, 'TACCGT': 6, 'TGGACT': 6, 'CGTAGT': 11, 'TATGGT': 3, 'TGGACA': 3, 'TGGACC': 11, 'TGGACG': 15, 'CCGGTT': 25, 'GCTTGA': 21, 'GCTTGC': 30, 'TGAGAA': 6, 'TGAGAG': 4, 'GCTTGG': 10, 'CCTGTT': 7, 'CCGGTG': 36, 'CCGGTC': 28, 'CCGGTA': 20, 'CCTGTC': 11, 'CCTGTA': 3, 'CCTGTG': 11, 'GCTTGT': 11, 'TGAGAT': 5, 'ATCGTA': 7, 'GGTTGT': 11, 'CCCAAC': 4, 'GGTTGG': 9, 'GGTTGA': 9, 'GGTTGC': 26, 'TCCCGC': 22, 'TCCCGA': 17, 'CAGCGT': 37, 'TGCTAT': 2, 'CGTTTT': 9, 'ATTCTC': 13, 'AGGGAA': 4, 'ATTCTG': 11, 'TCATTT': 6, 'TGCTAC': 2, 'CAGCGC': 80, 'CAGCGG': 37, 'CCTTGT': 9, 'TCATTC': 7, 'CGTTTG': 9, 'TCATTG': 2, 'ATTCTT': 8, 'CGTTTC': 26, 'TGGCAA': 8, 'AGCCTG': 17, 'TGGCAG': 18, 'GCTGAG': 10, 'GCTGAA': 23, 'GCTGAC': 27, 'TGGCAT': 7, 'GGCCGG': 72, 'GTTCAA': 16, 'AGCCTC': 5, 'GGCCGC': 73, 'GAACTT': 8, 'GGCCGA': 55, 'GGCAAT': 12, 'CTGATT': 6, 'CCATCG': 40, 'CTAAAT': 2, 'CCATCC': 17, 'CCATCA': 23, 'GGCAAG': 26, 'CTGATA': 4, 'TGGTTG': 4, 'CTGATG': 9, 'GGCAAA': 8, 'CCATCT': 7, 'GACATC': 37, 'GACACC': 19, 'TACGAT': 7, 'GACACG': 27, 'AGGCAT': 10, 'AATTCT': 6, 'TACGAG': 5, 'TACGAC': 17, 'GACACT': 6, 'CCGTGA': 9, 'GCATAG': 9, 'GCATAA': 6, 'GCATAC': 11, 'TCGATG': 39, 'TCGATA': 15, 'TCGATC': 59, 'ACGCTT': 14, 'TCTGGG': 5, 'CAGCCT': 21, 'TCGATT': 30, 'GCGCCC': 56, 'TTTTGA': 3, 'TGAGGT': 7, 'TGCCGG': 57, 'AACCAC': 8, 'ACGAAC': 31, 'AACCAG': 9, 'TGCCGA': 57, 'TTGGAC': 9, 'TCTGGA': 18, 'AGGCAG': 12, 'TGCCGT': 41, 'AACCAT': 3, 'AACAGA': 5, 'CTACCG': 9, 'AACAGC': 21, 'CTACCC': 4, 'AACAGG': 13, 'GACGAC': 47, 'GACGAA': 32, 'GACGAG': 39, 'CCCAAA': 5, 'CTACCT': 5, 'GGGAGA': 7, 'AACAGT': 6, 'GGGAGC': 12, 'CCCAAT': 4, 'GACGAT': 59, 'GGGCGC': 35, 'GGGCGA': 43, 'GGGCGG': 45, 'TCTCTT': 2, 'GTACAG': 8, 'TCATAC': 8, 'GTACAA': 7, 'GCATCG': 89, 'TCTCTC': 5, 'TCTCTA': 3, 'TCTCTG': 2, 'GGGCGT': 28, 'CAGAAA': 9, 'ACGACA': 33, 'ACGACG': 48, 'CAGAAG': 13, 'CCTTCA': 12, 'CACTTT': 5, 'CATATT': 3, 'GTCATT': 6, 'CACTTG': 4, 'CCTAAC': 2, 'CACTTC': 7, 'CCTAAG': 2, 'GTCCCA': 3, 'GTCCCC': 3, 'AAGATT': 11, 'AACTAG': 2, 'CTCATG': 6, 'GACTCG': 11, 'CTCATC': 13, 'GACTCC': 4, 'CTCATA': 3, 'GACTCA': 4, 'AAGATA': 2, 'AAGATC': 7, 'AAGATG': 10, 'TGCGTG': 25, 'TTGAGA': 9, 'ATCGAA': 20, 'ATCGAC': 36, 'ATATTT': 5, 'ATAGAG': 2, 'ATAGTT': 5, 'TACTGT': 3, 'ATATTC': 5, 'GATCGG': 41, 'TGACCT': 4, 'TACTGC': 6, 'ATAGTC': 6, 'TACTGG': 4, 'ATAGAC': 5, 'CAGGCA': 19, 'AGGAAG': 8, 'CATCCG': 37, 'AGGAAA': 6, 'CATCCA': 17, 'AGGAAC': 11, 'CATCCC': 14, 'GATCGC': 74, 'CGGAGT': 4, 'TTATGG': 4, 'CATCCT': 10, 'AGGAAT': 7, 'CAGGCT': 18, 'ACGGAT': 14, 'CGGAGA': 17, 'CGGAGC': 17, 'CAGGCC': 34, 'CGGAGG': 16, 'ATGGAA': 10, 'TTCCTT': 4, 'ATGGAG': 2, 'CGCTTG': 31, 'CGCTTA': 2, 'CGCTTC': 34, 'ATGGAT': 9, 'TTTGCA': 7, 'CGCTTT': 15, 'GATCGT': 37, 'TTTGCC': 12, 'GAAAAG': 7, 'TAAACC': 2, 'CATACT': 4, 'GAAAAC': 17, 'ATAGAT': 4, 'GAAAAA': 8, 'CAAGCG': 23, 'GAAAAT': 9, 'CGGCAT': 61, 'ACAAGG': 15, 'ACAAGA': 6, 'ACAAGC': 11, 'ACACGT': 16, 'CTGCGT': 19, 'GCGGAG': 18, 'CATAAG': 3, 'GCGGAA': 37, 'CATAAA': 4, 'GCGGAC': 28, 'CATAAC': 3, 'ACACGC': 24, 'ACAAGT': 4, 'ACACGA': 21, 'ACACGG': 16, 'CCTCCC': 2, 'CATAAT': 5, 'GCGGAT': 37, 'GCACAT': 14, 'CTGCGG': 35, 'CTGCGA': 17, 'GTCCCG': 15, 'CGGCAA': 48, 'CGGCAC': 75, 'CGGCAG': 51, 'CCTCCT': 5, 'CAGGCG': 47, 'AGGCAC': 6, 'CCTCCA': 8, 'CCTCCG': 2} 164\n"
     ]
    }
   ],
   "source": [
    "# Assume n=6\n",
    "total = {}\n",
    "for dna in seqsvalue:\n",
    "    motif = find_motif(dna, 6)\n",
    "    for i in motif:\n",
    "        if i in dna:\n",
    "            if i not in total.keys():\n",
    "                total[i] = 0\n",
    "                total[i] = total[i]+dna.count(i)\n",
    "            else:\n",
    "                total[i] = total[i]+dna.count(i)\n",
    "# Remove seq only shows one time\n",
    "for name, value in total.items():\n",
    "    if value == 1:\n",
    "        del total[name]\n",
    "\n",
    "max_ = max(total.values())\n",
    "ttee = total.values()\n",
    "\n",
    "print total, max_\n"
   ]
  },
  {
   "cell_type": "code",
   "execution_count": 22,
   "metadata": {
    "collapsed": false
   },
   "outputs": [
    {
     "name": "stdout",
     "output_type": "stream",
     "text": [
      "CGGCGC\n"
     ]
    }
   ],
   "source": [
    "for name, value in total.items():\n",
    "    if value == max_:\n",
    "        print name\n"
   ]
  },
  {
   "cell_type": "code",
   "execution_count": null,
   "metadata": {
    "collapsed": true
   },
   "outputs": [],
   "source": []
  },
  {
   "cell_type": "code",
   "execution_count": null,
   "metadata": {
    "collapsed": true
   },
   "outputs": [],
   "source": []
  }
 ],
 "metadata": {
  "kernelspec": {
   "display_name": "Python 2",
   "language": "python",
   "name": "python2"
  },
  "language_info": {
   "codemirror_mode": {
    "name": "ipython",
    "version": 2
   },
   "file_extension": ".py",
   "mimetype": "text/x-python",
   "name": "python",
   "nbconvert_exporter": "python",
   "pygments_lexer": "ipython2",
   "version": "2.7.9"
  }
 },
 "nbformat": 4,
 "nbformat_minor": 0
}
