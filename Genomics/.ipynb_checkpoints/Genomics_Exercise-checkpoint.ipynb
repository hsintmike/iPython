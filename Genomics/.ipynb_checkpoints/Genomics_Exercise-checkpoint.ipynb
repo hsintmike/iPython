{
 "cells": [
  {
   "cell_type": "markdown",
   "metadata": {},
   "source": [
    "###Questions\n",
    "(1) How many records are in the file?  \n",
    "(2) What are the lengths of the sequences in the file?  \n",
    "(3) What is the longest sequence and what is the shortest sequence?  \n",
    "(4) Is there more than one longest or shortest sequence? What are their identifiers?  \n",
    "(5) What is the length of the longest open reading frame(ORF) in the file?  \n",
    "(6) For a given sequence identifier, what is the longest ORF contained in the sequence represented by that idenitfier?  \n",
    "(7) What is the starting position of the longest ORF in the sequence that contains it?  \n",
    "(8) Given a length n, identify all repeats of length n in all sequences in the FASTA file  \n",
    "(9) Determine how many times each repeat occurs in the file, and which is the most frequent repeat of a given length"
   ]
  },
  {
   "cell_type": "markdown",
   "metadata": {},
   "source": [
    "#### (1) How many records are in the file? "
   ]
  },
  {
   "cell_type": "markdown",
   "metadata": {},
   "source": [
    "A record in a FASTA file is defined as a single-line header, followed by lines of sequence data. The header line is distinguished from the sequence data by a greater-than (\">\") symbol in the first column. The word following the \">\" symbol is the identifier of the sequence, and the rest of the line is an optional description of the entry."
   ]
  },
  {
   "cell_type": "code",
   "execution_count": 1,
   "metadata": {
    "collapsed": true
   },
   "outputs": [],
   "source": [
    "try:\n",
    "    with open (\"dna.example.fasta\") as f:\n",
    "        data=f.read()\n",
    "        data=data.split('\\n')\n",
    "except IOError:\n",
    "    print(\"File does not exist!\")"
   ]
  },
  {
   "cell_type": "code",
   "execution_count": 2,
   "metadata": {
    "collapsed": false
   },
   "outputs": [],
   "source": [
    "seqs={}\n",
    "for line in data[:-1]:\n",
    "    line=line.rstrip()\n",
    "    #distinguish header from sequence\n",
    "    if line[0] =='>':    #or line.startswith('>')\n",
    "        words=line.split()\n",
    "        name=words[0][1:]  #We don't want to have \">\" sign\n",
    "        seqs[name]=\"\"\n",
    "    else:\n",
    "        seqs[name]= seqs[name] + line      "
   ]
  },
  {
   "cell_type": "code",
   "execution_count": 3,
   "metadata": {
    "collapsed": false
   },
   "outputs": [
    {
     "data": {
      "text/plain": [
       "25"
      ]
     },
     "execution_count": 3,
     "metadata": {},
     "output_type": "execute_result"
    }
   ],
   "source": [
    "len(seqs)"
   ]
  },
  {
   "cell_type": "markdown",
   "metadata": {
    "collapsed": true
   },
   "source": [
    "#### (2) What are the lengths of the sequences in the file?"
   ]
  },
  {
   "cell_type": "code",
   "execution_count": 4,
   "metadata": {
    "collapsed": false
   },
   "outputs": [
    {
     "name": "stdout",
     "output_type": "stream",
     "text": [
      "gi|142022655|gb|EQ086233.1|59 4745\n",
      "gi|142022655|gb|EQ086233.1|422 1801\n",
      "gi|142022655|gb|EQ086233.1|245 1325\n",
      "gi|142022655|gb|EQ086233.1|507 2124\n",
      "gi|142022655|gb|EQ086233.1|221 2863\n",
      "gi|142022655|gb|EQ086233.1|564 1663\n",
      "gi|142022655|gb|EQ086233.1|378 555\n",
      "gi|142022655|gb|EQ086233.1|229 3072\n",
      "gi|142022655|gb|EQ086233.1|294 3832\n",
      "gi|142022655|gb|EQ086233.1|160 724\n",
      "gi|142022655|gb|EQ086233.1|279 1189\n",
      "gi|142022655|gb|EQ086233.1|323 4805\n",
      "gi|142022655|gb|EQ086233.1|43 990\n",
      "gi|142022655|gb|EQ086233.1|41 3080\n",
      "gi|142022655|gb|EQ086233.1|101 2449\n",
      "gi|142022655|gb|EQ086233.1|384 3603\n",
      "gi|142022655|gb|EQ086233.1|438 3424\n",
      "gi|142022655|gb|EQ086233.1|455 691\n",
      "gi|142022655|gb|EQ086233.1|210 1451\n",
      "gi|142022655|gb|EQ086233.1|237 3276\n",
      "gi|142022655|gb|EQ086233.1|158 1608\n",
      "gi|142022655|gb|EQ086233.1|280 2478\n",
      "gi|142022655|gb|EQ086233.1|319 1810\n",
      "gi|142022655|gb|EQ086233.1|521 512\n",
      "gi|142022655|gb|EQ086233.1|350 1712\n"
     ]
    }
   ],
   "source": [
    "seqsvalue=list(seqs.values())\n",
    "seqskey=list(seqs.keys())\n",
    "for n, i in enumerate(seqsvalue):\n",
    "    print seqskey[n], len(i)"
   ]
  },
  {
   "cell_type": "markdown",
   "metadata": {},
   "source": [
    "####(3) What is the longest sequence and what is the shortest sequence?"
   ]
  },
  {
   "cell_type": "code",
   "execution_count": 5,
   "metadata": {
    "collapsed": false
   },
   "outputs": [
    {
     "name": "stdout",
     "output_type": "stream",
     "text": [
      "4805\n",
      "512\n"
     ]
    }
   ],
   "source": [
    "lengthlist=[len(i) for i in seqsvalue]\n",
    "print max(lengthlist)\n",
    "print min(lengthlist)"
   ]
  },
  {
   "cell_type": "markdown",
   "metadata": {},
   "source": [
    "####(4) Is there more than one longest or shortest sequence? What are their identifiers? "
   ]
  },
  {
   "cell_type": "code",
   "execution_count": 6,
   "metadata": {
    "collapsed": false
   },
   "outputs": [
    {
     "name": "stdout",
     "output_type": "stream",
     "text": [
      "1\n",
      "1\n"
     ]
    }
   ],
   "source": [
    "print lengthlist.count(4805)\n",
    "print lengthlist.count(512)"
   ]
  },
  {
   "cell_type": "code",
   "execution_count": 7,
   "metadata": {
    "collapsed": false
   },
   "outputs": [
    {
     "name": "stdout",
     "output_type": "stream",
     "text": [
      "gi|142022655|gb|EQ086233.1|323\n",
      "gi|142022655|gb|EQ086233.1|521\n"
     ]
    }
   ],
   "source": [
    "for n, i in enumerate(seqsvalue):\n",
    "    if len(i)==4805:\n",
    "        print seqskey[n]\n",
    "    elif len(i) == 512:\n",
    "        print seqskey[n]\n",
    "    else:\n",
    "        continue"
   ]
  },
  {
   "cell_type": "markdown",
   "metadata": {},
   "source": [
    "####(5) What is the length of the longest open reading frame(ORF) in the file? \n",
    "In molecular biology, a reading frame is a way of dividing the DNA sequence of nucleotides into a set of consecutive, non-overlapping triplets (or codons). Depending on where we start, there are six possible reading frames: three in the forward (5' to 3') direction and three in the reverse (3' to 5'). For instance, the three possible forward reading frames for the sequence AGGTGACACCGCAAGCCTTATATTAGC are: \n",
    "\n",
    "\n",
    "AGG TGA CAC CGC AAG CCT TAT ATT AGC\n",
    "\n",
    "A GGT GAC ACC GCA AGC CTT ATA TTA GC\n",
    "\n",
    "AG GTG ACA CCG CAA GCC TTA TAT TAG C \n",
    "\n",
    "\n",
    "These are called reading frames 1, 2, and 3 respectively"
   ]
  },
  {
   "cell_type": "markdown",
   "metadata": {},
   "source": [
    "An open reading frame (ORF) is the part of a reading frame that has the potential to encode a protein. It starts with a start codon (ATG), and ends with a stop codon (TAA, TAG or TGA). For instance, ATGAAATAG is an ORF of length 9."
   ]
  },
  {
   "cell_type": "code",
   "execution_count": 8,
   "metadata": {
    "collapsed": true
   },
   "outputs": [],
   "source": [
    "def is_ORF(dna,frame):\n",
    "    start_codon_found=False\n",
    "    stop_codon_found=False\n",
    "    start_codon=['ATG']\n",
    "    stop_codon=['TAA','TAG','TGA']\n",
    "    \n",
    "    #Assume only consider forward strand\n",
    "    start=[]\n",
    "    end=[]\n",
    "    for i in range(frame-1,len(dna),3):\n",
    "        codon=dna[i:i+3].upper()\n",
    "        if codon in start_codon:\n",
    "            start_codon_found=True\n",
    "            start.append(i)\n",
    "        elif codon in stop_codon:\n",
    "            stop_codon_found=True\n",
    "            end.append(i)\n",
    "        else:\n",
    "            pass\n",
    "\n",
    "    #Find all possible start and end position and length of ORF\n",
    "    total=start+end\n",
    "    newline=sorted(total)\n",
    "    possi_position=[]\n",
    "    \n",
    "    for n,i in enumerate(newline):\n",
    "        for x in newline[n:]:\n",
    "            if i in start and x in end:\n",
    "                possi_position.append([i,x,(abs(i-x)+3)])\n",
    "                break\n",
    "    \n",
    "    #Assign 0 to empty list. No start and stop codon. \n",
    "    if possi_position==[]:\n",
    "        possi_position.append([0,0,0])\n",
    "\n",
    "    \n",
    "    return (start_codon_found and stop_codon_found), possi_position"
   ]
  },
  {
   "cell_type": "code",
   "execution_count": 9,
   "metadata": {
    "collapsed": false
   },
   "outputs": [
    {
     "name": "stdout",
     "output_type": "stream",
     "text": [
      "(True, [[0, 6, 9]])\n"
     ]
    }
   ],
   "source": [
    "print is_ORF('ATGAAATAG',1)"
   ]
  },
  {
   "cell_type": "code",
   "execution_count": 10,
   "metadata": {
    "collapsed": false
   },
   "outputs": [],
   "source": [
    "def max_min_len(lst):\n",
    "    \"\"\" This function will return [start, stop, maxlength], [start, stop, minlength], \n",
    "        maxlength, minlength\n",
    "    \"\"\"\n",
    "    alllength=[]\n",
    "    for i in lst:\n",
    "        alllength.append(i[2])\n",
    "    max_=max(alllength)\n",
    "    min_=min(alllength)\n",
    "    \n",
    "    allmax=[]\n",
    "    allmin=[]\n",
    "    for n, i in enumerate(lst):\n",
    "        if i[2] == max_:\n",
    "            allmax.append(lst[n])\n",
    "        if i[2] == min_:\n",
    "            allmin.append(lst[n])\n",
    "    \n",
    "    return  allmax, allmin, max_, min_"
   ]
  },
  {
   "cell_type": "code",
   "execution_count": 45,
   "metadata": {
    "collapsed": false
   },
   "outputs": [
    {
     "name": "stdout",
     "output_type": "stream",
     "text": [
      "For sequence, gi|142022655|gb|EQ086233.1|59\n",
      "The longest ORF has 1107, nt.\n",
      "For sequence, gi|142022655|gb|EQ086233.1|422\n",
      "The longest ORF has 639, nt.\n",
      "For sequence, gi|142022655|gb|EQ086233.1|245\n",
      "The longest ORF has 636, nt.\n",
      "For sequence, gi|142022655|gb|EQ086233.1|507\n",
      "The longest ORF has 741, nt.\n",
      "For sequence, gi|142022655|gb|EQ086233.1|221\n",
      "The longest ORF has 594, nt.\n",
      "For sequence, gi|142022655|gb|EQ086233.1|564\n",
      "The longest ORF has 507, nt.\n",
      "For sequence, gi|142022655|gb|EQ086233.1|378\n",
      "The longest ORF has 534, nt.\n",
      "For sequence, gi|142022655|gb|EQ086233.1|229\n",
      "The longest ORF has 1311, nt.\n",
      "For sequence, gi|142022655|gb|EQ086233.1|294\n",
      "The longest ORF has 1608, nt.\n",
      "For sequence, gi|142022655|gb|EQ086233.1|160\n",
      "The longest ORF has 363, nt.\n",
      "For sequence, gi|142022655|gb|EQ086233.1|279\n",
      "The longest ORF has 153, nt.\n",
      "For sequence, gi|142022655|gb|EQ086233.1|323\n",
      "The longest ORF has 1686, nt.\n",
      "For sequence, gi|142022655|gb|EQ086233.1|43\n",
      "The longest ORF has 213, nt.\n",
      "For sequence, gi|142022655|gb|EQ086233.1|41\n",
      "The longest ORF has 918, nt.\n",
      "For sequence, gi|142022655|gb|EQ086233.1|101\n",
      "The longest ORF has 639, nt.\n",
      "For sequence, gi|142022655|gb|EQ086233.1|384\n",
      "The longest ORF has 720, nt.\n",
      "For sequence, gi|142022655|gb|EQ086233.1|438\n",
      "The longest ORF has 477, nt.\n",
      "For sequence, gi|142022655|gb|EQ086233.1|455\n",
      "The longest ORF has 552, nt.\n",
      "For sequence, gi|142022655|gb|EQ086233.1|210\n",
      "The longest ORF has 564, nt.\n",
      "For sequence, gi|142022655|gb|EQ086233.1|237\n",
      "The longest ORF has 219, nt.\n",
      "For sequence, gi|142022655|gb|EQ086233.1|158\n",
      "The longest ORF has 1218, nt.\n",
      "For sequence, gi|142022655|gb|EQ086233.1|280\n",
      "The longest ORF has 291, nt.\n",
      "For sequence, gi|142022655|gb|EQ086233.1|319\n",
      "The longest ORF has 537, nt.\n",
      "For sequence, gi|142022655|gb|EQ086233.1|521\n",
      "The longest ORF has 159, nt.\n",
      "For sequence, gi|142022655|gb|EQ086233.1|350\n",
      "The longest ORF has 678, nt.\n"
     ]
    }
   ],
   "source": [
    "#Longest ORF in each sequences\n",
    "\n",
    "\n",
    "n=-1\n",
    "for dna in seqsvalue:\n",
    "    n+=1\n",
    "    longest=[]\n",
    "    for i in range(1,4):\n",
    "        lst=is_ORF(dna,i)[1]\n",
    "        longest.append(max_min_len(lst)[2])\n",
    "    print ('For sequence, %s' %((seqskey[n])))\n",
    "    print ('The longest ORF has %s, nt.' % (max(longest)))  \n",
    "\n"
   ]
  },
  {
   "cell_type": "code",
   "execution_count": 22,
   "metadata": {
    "collapsed": false
   },
   "outputs": [
    {
     "name": "stdout",
     "output_type": "stream",
     "text": [
      "1686\n"
     ]
    }
   ],
   "source": [
    "#Find longest ORF length of all sequences in festa file\n",
    "find_longest=[]\n",
    "for dna in seqsvalue:\n",
    "    for i in range(1,4):\n",
    "        lst=is_ORF(dna,i)[1]\n",
    "        find_longest.append(max_min_len(lst)[2])\n",
    "print max(find_longest)"
   ]
  },
  {
   "cell_type": "markdown",
   "metadata": {},
   "source": [
    "####(6) For a given sequence identifier, what is the longest ORF contained in the sequence represented by that identifier?                            \n",
    "####(7) What is the starting position of the longest ORF in the sequence that contains it? "
   ]
  },
  {
   "cell_type": "code",
   "execution_count": 23,
   "metadata": {
    "collapsed": false
   },
   "outputs": [
    {
     "name": "stdout",
     "output_type": "stream",
     "text": [
      "[159, [[125, 281, 159]]]\n"
     ]
    }
   ],
   "source": [
    "key='gi|142022655|gb|EQ086233.1|521'\n",
    "dna=seqs[key]\n",
    "\n",
    "find_longest=[]\n",
    "for i in range(1,4):\n",
    "    lst=is_ORF(dna,i)[1]\n",
    "    find_longest.append([max_min_len(lst)[2],max_min_len(lst)[0]])\n",
    "    \n",
    "print max(find_longest)"
   ]
  },
  {
   "cell_type": "markdown",
   "metadata": {},
   "source": [
    "start at codon (125/3)+1 =42 ; end at codon (281/3)+1 = 94"
   ]
  },
  {
   "cell_type": "markdown",
   "metadata": {},
   "source": [
    "#### (8) Given a length n, identify all repeats of length n in all sequences in the FASTA file  \n",
    "A repeat is a substring of a DNA sequence that occurs in multiple copies (more than one) somewhere in the sequence. Although repeats can occur on both the forward and reverse strands of the DNA sequence, we will only consider repeats on the forward strand here. Also we will allow repeats to overlap themselves. For example, the sequence ACACA contains two copies of the sequence ACA - once at position 1 (index 0 in Python), and once at position 3. "
   ]
  },
  {
   "cell_type": "code",
   "execution_count": 25,
   "metadata": {
    "collapsed": true
   },
   "outputs": [],
   "source": [
    "import re"
   ]
  },
  {
   "cell_type": "code",
   "execution_count": 26,
   "metadata": {
    "collapsed": true
   },
   "outputs": [],
   "source": [
    "def calculate_repeat(dna,frame):\n",
    "    repeat=[]\n",
    "    from itertools import product\n",
    "    perms= [''.join(p) for p in product('ATCG',repeat=3)]\n",
    "    overlap=['ATATA','TATAT','ACACA','CACAC','AGAGA','GAGAG','TCTCT','CTCTC','TGTGT','GTGTG','CGCGC','GCGCG']\n",
    "    \n",
    "    for i in perms:\n",
    "        runs=re.finditer(r\"(%s){2,100}\"% (i),dna[frame-1:]) \n",
    "        for match in runs:\n",
    "            repeat.append(match.group())\n",
    "    for i in overlap:\n",
    "        runs=re.finditer(r\"(%s){1,100}\"% (i),dna[frame-1:]) \n",
    "        for match in runs:\n",
    "            repeat.append(match.group())\n",
    "    return repeat\n",
    "    \n",
    "    "
   ]
  },
  {
   "cell_type": "code",
   "execution_count": 41,
   "metadata": {
    "collapsed": false
   },
   "outputs": [
    {
     "name": "stdout",
     "output_type": "stream",
     "text": [
      "['ACGACG', 'AGCAGC', 'AGCAGC', 'AGCAGC', 'TTCTTC', 'TCATCA', 'TCTTCT', 'TGCTGC', 'CAGCAG', 'CTTCTT', 'CTGCTG', 'CCGCCG', 'CGACGA', 'CGTCGT', 'CGTCGT', 'CGCCGCCGC', 'CGCCGC', 'GTTGTT', 'GTCGTC', 'GCCGCC', 'GCGGCG', 'CACAC', 'CTCTC', 'GCGCG', 'GCGCG']\n",
      "['ACGACG', 'AGCAGC', 'AGCAGC', 'AGCAGC', 'TTCTTC', 'TCATCA', 'TCTTCT', 'TGCTGC', 'CAGCAG', 'CTTCTT', 'CTGCTG', 'CCGCCG', 'CGACGA', 'CGTCGT', 'CGTCGT', 'CGCCGCCGC', 'CGCCGC', 'GTTGTT', 'GTCGTC', 'GCCGCC', 'GCGGCG', 'CACAC', 'CTCTC', 'GCGCG', 'GCGCG']\n",
      "['ACGACG', 'AGCAGC', 'AGCAGC', 'AGCAGC', 'TTCTTC', 'TCATCA', 'TCTTCT', 'TGCTGC', 'CAGCAG', 'CTTCTT', 'CTGCTG', 'CCGCCG', 'CGACGA', 'CGTCGT', 'CGTCGT', 'CGCCGCCGC', 'CGCCGC', 'GTCGTC', 'GCCGCC', 'GCGGCG', 'CACAC', 'CTCTC', 'GCGCG', 'GCGCG']\n"
     ]
    }
   ],
   "source": [
    "key='gi|142022655|gb|EQ086233.1|521'\n",
    "dna=seqs[key]     #Can adjust with given length of seqsuence [a:b]\n",
    "for i in range(1,4):\n",
    "    print calculate_repeat(dna,i)  "
   ]
  },
  {
   "cell_type": "markdown",
   "metadata": {},
   "source": [
    "#### (9) Determine how many times each repeat occurs in the file, and which is the most frequent repeat of a given length"
   ]
  },
  {
   "cell_type": "code",
   "execution_count": 29,
   "metadata": {
    "collapsed": true
   },
   "outputs": [],
   "source": [
    "def repeat_times(lst):\n",
    "    ep={}\n",
    "    for i in lst:\n",
    "        if len(i) % 3 ==0:\n",
    "            ep[i[0:3]]=len(i)/3\n",
    "        if len(i) %5 ==0:\n",
    "            ep[i[0:5]]=len(i)/5\n",
    "    return ep\n",
    "        "
   ]
  },
  {
   "cell_type": "code",
   "execution_count": 30,
   "metadata": {
    "collapsed": false
   },
   "outputs": [
    {
     "name": "stdout",
     "output_type": "stream",
     "text": [
      "{'CTT': 2, 'GCC': 2, 'GTC': 2, 'ACG': 2, 'GCGCG': 1, 'GCG': 2, 'CGA': 2, 'TCT': 2, 'CGC': 2, 'AGC': 2, 'TGC': 2, 'CTG': 2, 'GTT': 2, 'CACAC': 1, 'TTC': 2, 'CCG': 2, 'CAG': 2, 'CGT': 2, 'CTCTC': 1, 'TCA': 2}\n"
     ]
    }
   ],
   "source": [
    "key='gi|142022655|gb|EQ086233.1|521'\n",
    "dna=seqs[key]\n",
    "lst=[calculate_repeat(dna,i) for i in range(1,4)]\n",
    "\n",
    "ep1=repeat_times(lst[0])   #print start from frame 1\n",
    "#ep2=repeat_times(lst[1])  #print start from frame 2\n",
    "#ep3=repeat_times(lst[2])  #print start from frame 3\n",
    "\n",
    "print ep1"
   ]
  },
  {
   "cell_type": "markdown",
   "metadata": {},
   "source": [
    "####All sequence repeats"
   ]
  },
  {
   "cell_type": "code",
   "execution_count": 40,
   "metadata": {
    "collapsed": false
   },
   "outputs": [
    {
     "name": "stdout",
     "output_type": "stream",
     "text": [
      "gi|142022655|gb|EQ086233.1|59\n",
      "{'AAG': 2, 'ACG': 2, 'ATC': 2, 'CCT': 2, 'GTGTG': 1, 'AGC': 2, 'AGA': 2, 'CAT': 2, 'CTG': 2, 'AAA': 2, 'CCG': 2, 'CCA': 2, 'GCGCG': 1, 'CGA': 2, 'CAG': 2, 'CGC': 2, 'CGG': 2, 'TGC': 2, 'CGCGC': 1, 'TGA': 2, 'GGC': 2, 'GAG': 2, 'TCG': 2, 'GAC': 2, 'CGT': 2, 'GAA': 2, 'GCA': 2, 'GCC': 2, 'GTC': 2, 'CACAC': 1, 'GCG': 2, 'GTG': 2, 'GCT': 2, 'TCC': 2} \n",
      "\n",
      "gi|142022655|gb|EQ086233.1|422\n",
      "{'ACC': 2, 'ATG': 2, 'ACG': 2, 'AGC': 2, 'AGA': 2, 'CAT': 2, 'CAC': 2, 'CCG': 2, 'CAG': 2, 'GGT': 2, 'GCGCG': 1, 'CGA': 2, 'CCA': 2, 'TCT': 2, 'GAT': 2, 'CGG': 2, 'TGC': 2, 'CGCGC': 1, 'TGA': 2, 'TGG': 2, 'GGC': 2, 'TTC': 2, 'TCG': 2, 'TTG': 2, 'CGT': 2, 'GAA': 2, 'GCA': 2, 'GCC': 2, 'GTC': 2, 'CACAC': 1, 'GCG': 3, 'GTG': 2, 'ATATA': 1, 'GTT': 2, 'GCT': 2, 'GAC': 2, 'CGC': 2, 'CTCTC': 1} \n",
      "\n",
      "gi|142022655|gb|EQ086233.1|245\n",
      "{'GCA': 2, 'GGT': 2, 'GCC': 2, 'ACG': 2, 'ATC': 2, 'GCG': 2, 'GTG': 2, 'AGG': 2, 'TGTGT': 1, 'CGC': 2, 'GCGCG': 1, 'AGC': 2, 'CGG': 2, 'TTT': 2, 'CGA': 2, 'CGCGC': 1, 'GGA': 2, 'GGC': 2, 'CCG': 2, 'CAG': 2, 'GTGTG': 1} \n",
      "\n",
      "gi|142022655|gb|EQ086233.1|507\n",
      "{'CTT': 2, 'ATG': 2, 'AAG': 2, 'ACG': 2, 'ATC': 2, 'AGG': 2, 'AGC': 3, 'CTC': 2, 'CCG': 2, 'CAG': 3, 'GCGCG': 1, 'CGA': 2, 'CGC': 2, 'GAT': 2, 'CGCGC': 1, 'CGG': 2, 'GGG': 2, 'TGA': 2, 'GGA': 2, 'TGG': 2, 'GGC': 2, 'GAG': 2, 'TCG': 2, 'GAC': 2, 'TCA': 2, 'GCA': 2, 'GCC': 2, 'ACACA': 1, 'CACAC': 1, 'GCG': 2, 'TTC': 2} \n",
      "\n",
      "gi|142022655|gb|EQ086233.1|221\n",
      "{'ACC': 2, 'ATG': 2, 'AAG': 2, 'ACG': 2, 'AAC': 2, 'CCT': 2, 'GTGTG': 1, 'CTT': 2, 'CAT': 2, 'CTC': 2, 'AAA': 2, 'CCG': 2, 'CCA': 2, 'CCC': 2, 'AGAGA': 1, 'GCGCG': 1, 'CGA': 2, 'CGC': 2, 'CGG': 2, 'TTT': 2, 'TGC': 2, 'CGCGC': 1, 'TGG': 2, 'GGC': 3, 'TTC': 2, 'TCG': 2, 'GAA': 2, 'TCA': 2, 'GCC': 2, 'GTC': 2, 'ACACA': 1, 'CACAC': 1, 'GCG': 2, 'GTG': 2, 'ATATA': 1, 'GTT': 2, 'TCTCT': 1, 'CTCTC': 1} \n",
      "\n",
      "gi|142022655|gb|EQ086233.1|564\n",
      "{'ACA': 2, 'AAC': 2, 'AGC': 2, 'CTG': 2, 'CAC': 2, 'CAA': 2, 'CCA': 2, 'CCG': 2, 'GGT': 2, 'GCGCG': 1, 'CGA': 2, 'CGC': 2, 'CGG': 2, 'CGCGC': 1, 'GGA': 2, 'TGG': 2, 'GGC': 2, 'TCG': 2, 'GAC': 2, 'CGT': 2, 'GAA': 2, 'GCA': 2, 'GCC': 2, 'GCG': 2, 'GTG': 2, 'GCT': 2} \n",
      "\n",
      "gi|142022655|gb|EQ086233.1|378\n",
      "{'GCC': 3, 'ACG': 2, 'GCGCG': 1, 'GCG': 2, 'AGG': 2, 'GAC': 2, 'CGC': 3, 'AGC': 2, 'CGA': 2, 'TGC': 2, 'CGCGC': 1, 'CTG': 2, 'GGC': 2, 'CCG': 2, 'CAG': 2} \n",
      "\n",
      "gi|142022655|gb|EQ086233.1|229\n",
      "{'AAG': 2, 'ACG': 2, 'CCT': 2, 'GTGTG': 1, 'ACA': 2, 'AGA': 2, 'CTG': 2, 'CTC': 2, 'CAC': 2, 'CCG': 2, 'CCA': 2, 'GGT': 2, 'GCGCG': 1, 'CGC': 2, 'CGCGC': 1, 'CGG': 2, 'TGC': 2, 'GGG': 2, 'TGA': 2, 'TGG': 2, 'GGC': 2, 'GAG': 2, 'TCG': 2, 'CGT': 2, 'GCA': 2, 'GCC': 2, 'GTC': 2, 'ACACA': 1, 'CACAC': 1, 'GCG': 2, 'GTG': 2, 'TTC': 2, 'GCT': 2, 'TCT': 2, 'CTCTC': 1} \n",
      "\n",
      "gi|142022655|gb|EQ086233.1|294\n",
      "{'CTT': 2, 'ACG': 2, 'ATC': 2, 'GTGTG': 1, 'AGC': 2, 'CTG': 2, 'CAC': 2, 'CCG': 2, 'AGT': 2, 'CCA': 2, 'GCGCG': 1, 'CGA': 2, 'CAG': 2, 'TCT': 2, 'CGG': 2, 'TGC': 2, 'CGCGC': 1, 'TGG': 2, 'GGC': 2, 'TTC': 2, 'TCG': 2, 'GAC': 2, 'CGT': 2, 'GCA': 2, 'GCC': 2, 'GTC': 3, 'ACACA': 1, 'CACAC': 1, 'GCG': 2, 'GAGAG': 1, 'GCT': 3, 'CGC': 2, 'CTCTC': 1} \n",
      "\n",
      "gi|142022655|gb|EQ086233.1|160\n",
      "{'AAG': 2, 'GCGCG': 1, 'GCG': 2, 'AGG': 2, 'CGC': 2, 'AGA': 2, 'CGA': 2, 'CGCGC': 1, 'GGA': 2, 'CGG': 2, 'GGC': 2, 'GAG': 2, 'CGT': 2} \n",
      "\n",
      "gi|142022655|gb|EQ086233.1|279\n",
      "{'AAG': 2, 'AGA': 2, 'CCG': 2, 'GCGCG': 1, 'CGA': 2, 'CGC': 2, 'GGG': 2, 'CGG': 2, 'TGC': 2, 'CGCGC': 1, 'TGA': 2, 'GGC': 2, 'TCG': 2, 'GAC': 2, 'CGT': 2, 'GAA': 2, 'GCA': 2, 'GCC': 2, 'GTC': 2, 'GCG': 2, 'GTT': 2, 'TTG': 2} \n",
      "\n",
      "gi|142022655|gb|EQ086233.1|323\n",
      "{'ACC': 2, 'ACG': 2, 'ATC': 2, 'CCT': 2, 'GTGTG': 1, 'AGC': 2, 'AGA': 2, 'CAT': 2, 'CTG': 2, 'CTC': 2, 'CAC': 2, 'CCG': 2, 'CAG': 2, 'GGT': 2, 'TGT': 2, 'CGA': 3, 'CGC': 2, 'CGG': 2, 'TGC': 2, 'CGCGC': 1, 'TGG': 2, 'GGC': 2, 'TCG': 2, 'GAC': 2, 'CGT': 2, 'GCA': 2, 'GCC': 2, 'GTC': 2, 'ACACA': 1, 'CACAC': 1, 'GCG': 2, 'GTT': 2, 'GCT': 2, 'TCTCT': 1, 'GCGCG': 1, 'TGTGT': 1, 'CTCTC': 1} \n",
      "\n",
      "gi|142022655|gb|EQ086233.1|43\n",
      "{'ATG': 2, 'ACG': 2, 'ATC': 2, 'AGG': 2, 'GTGTG': 1, 'CAT': 2, 'CTG': 2, 'CCG': 2, 'AGAGA': 1, 'GCGCG': 1, 'CGA': 2, 'CGC': 3, 'GAT': 2, 'CGG': 2, 'CGCGC': 1, 'TGA': 2, 'GGC': 2, 'GAG': 2, 'TCG': 2, 'GAC': 2, 'GCA': 2, 'GCC': 2, 'GTC': 2, 'ACACA': 1, 'GCG': 2, 'ATATA': 1, 'TTC': 2, 'GAGAG': 1, 'GCT': 2, 'TCTCT': 1, 'CTCTC': 1} \n",
      "\n",
      "gi|142022655|gb|EQ086233.1|41\n",
      "{'AAG': 2, 'ACG': 2, 'ATC': 2, 'GTGTG': 1, 'AGC': 2, 'CAT': 2, 'CTG': 2, 'CTC': 2, 'CCG': 2, 'CAG': 2, 'GGT': 2, 'GCGCG': 1, 'CGA': 2, 'TCT': 2, 'GAT': 2, 'CGG': 2, 'TGC': 2, 'CGCGC': 1, 'GGC': 2, 'GAG': 2, 'TCG': 2, 'GAC': 2, 'CGT': 2, 'GAA': 2, 'GCA': 2, 'GCC': 2, 'GTC': 2, 'ACACA': 1, 'CACAC': 1, 'GCG': 2, 'GTG': 2, 'GAGAG': 1, 'GTT': 2, 'GCT': 2, 'TCTCT': 1, 'TATAT': 1, 'TGTGT': 1, 'CGC': 2, 'CTCTC': 1} \n",
      "\n",
      "gi|142022655|gb|EQ086233.1|101\n",
      "{'CTT': 2, 'ATG': 2, 'ACA': 2, 'ACG': 2, 'ATC': 2, 'AAC': 2, 'GTGTG': 1, 'AGC': 2, 'AGA': 2, 'CCG': 2, 'AGT': 2, 'CAG': 2, 'GGT': 2, 'GCGCG': 1, 'CGA': 2, 'CGC': 2, 'GAT': 2, 'CGCGC': 1, 'CGG': 2, 'GGG': 2, 'TAG': 2, 'TGG': 2, 'GGC': 2, 'TCG': 2, 'GAC': 2, 'GCA': 2, 'GTA': 2, 'GCC': 2, 'GTC': 2, 'CACAC': 1, 'GCG': 2, 'GTG': 2, 'TCTCT': 1, 'TGA': 2, 'TGTGT': 1} \n",
      "\n",
      "gi|142022655|gb|EQ086233.1|384\n",
      "{'ACC': 2, 'ATG': 2, 'ACG': 2, 'AGC': 2, 'CTG': 2, 'CTC': 2, 'CCG': 2, 'CAG': 2, 'AGAGA': 1, 'GCGCG': 1, 'CGA': 2, 'CGC': 2, 'GAT': 2, 'CGG': 2, 'CGCGC': 1, 'TGA': 2, 'GGC': 2, 'TTC': 2, 'TCG': 2, 'GAC': 2, 'CGT': 2, 'GCA': 2, 'GTC': 2, 'ACACA': 1, 'CACAC': 1, 'GCG': 2, 'GAGAG': 1, 'GCT': 2, 'TCTCT': 1, 'TCC': 2, 'CTCTC': 1} \n",
      "\n",
      "gi|142022655|gb|EQ086233.1|438\n",
      "{'ACC': 2, 'ACA': 2, 'AAA': 2, 'AGG': 2, 'GTGTG': 1, 'AGC': 2, 'AAT': 2, 'CAC': 2, 'CCG': 2, 'CCA': 2, 'AGAGA': 1, 'GCGCG': 1, 'CGA': 2, 'CAG': 2, 'CGC': 2, 'GAT': 2, 'CGG': 2, 'TGC': 2, 'CGCGC': 1, 'GGC': 2, 'TTC': 2, 'TCG': 2, 'GAC': 2, 'CGT': 2, 'GAA': 2, 'TCA': 2, 'GCA': 2, 'GCC': 2, 'GTC': 2, 'ACACA': 1, 'CACAC': 1, 'GCG': 2, 'GTG': 2, 'ATATA': 1, 'GAGAG': 1, 'GCT': 2, 'TCTCT': 1, 'TATAT': 1, 'TGTGT': 1, 'CTCTC': 1} \n",
      "\n",
      "gi|142022655|gb|EQ086233.1|455\n",
      "{'GCC': 2, 'ACG': 2, 'ATC': 2, 'GCG': 2, 'CGA': 2, 'GTGTG': 1, 'GCGCG': 1, 'CGCGC': 1, 'TGC': 2, 'GAGAG': 1, 'AGAGA': 1, 'TCG': 2, 'CCG': 2, 'TCA': 2} \n",
      "\n",
      "gi|142022655|gb|EQ086233.1|210\n",
      "{'GCC': 2, 'GTC': 2, 'CACAC': 1, 'ATC': 2, 'AAC': 2, 'CGA': 2, 'CGC': 2, 'GCGCG': 1, 'CGG': 2, 'GCG': 2, 'TGC': 2, 'CGCGC': 1, 'GCT': 2, 'GGC': 2, 'TCG': 2, 'CCG': 2, 'GAC': 2, 'CGT': 2, 'GTGTG': 1, 'TCA': 2} \n",
      "\n",
      "gi|142022655|gb|EQ086233.1|237\n",
      "{'CTT': 2, 'ATG': 2, 'AAG': 2, 'ACG': 2, 'CCT': 2, 'GTGTG': 1, 'CAT': 2, 'CTG': 2, 'CTC': 2, 'CAC': 2, 'CAA': 2, 'CCA': 2, 'GGT': 2, 'AGAGA': 1, 'GCGCG': 1, 'CGA': 2, 'CAG': 2, 'TCT': 2, 'GAT': 2, 'CGG': 2, 'TTT': 2, 'TGC': 2, 'CGCGC': 1, 'TGA': 2, 'GGA': 2, 'TGG': 2, 'GGC': 2, 'TTC': 2, 'TCG': 2, 'GAC': 2, 'CGT': 2, 'GAA': 2, 'GCA': 2, 'GTA': 2, 'CACAC': 1, 'GCG': 2, 'GTG': 2, 'ATATA': 1, 'GAGAG': 1, 'GTT': 2, 'GCT': 2, 'TCTCT': 1, 'TATAT': 1, 'TCC': 2, 'TGTGT': 1, 'CGC': 2, 'CTCTC': 1} \n",
      "\n",
      "gi|142022655|gb|EQ086233.1|158\n",
      "{'AAG': 2, 'AAA': 2, 'ATC': 2, 'GTGTG': 1, 'CAT': 2, 'GGT': 2, 'AGAGA': 1, 'GCGCG': 1, 'CGA': 2, 'CGC': 2, 'TGC': 2, 'CGCGC': 1, 'TGG': 2, 'GGC': 2, 'TTC': 2, 'TCG': 2, 'CGT': 2, 'GAA': 2, 'GTC': 2, 'ACACA': 1, 'CACAC': 1, 'GCG': 2, 'GTG': 2, 'GCT': 2, 'TATAT': 1, 'CTCTC': 1} \n",
      "\n",
      "gi|142022655|gb|EQ086233.1|280\n",
      "{'ATG': 2, 'AAA': 2, 'ATC': 2, 'GTGTG': 1, 'CAT': 2, 'AAT': 2, 'CTG': 2, 'CAC': 2, 'CCG': 2, 'CAG': 2, 'TGT': 2, 'CGA': 2, 'CCA': 2, 'CGC': 2, 'GAT': 2, 'CGCGC': 1, 'CGG': 2, 'TTT': 2, 'TGC': 2, 'GGG': 2, 'GGC': 2, 'TCG': 2, 'GAC': 2, 'CGT': 2, 'TCA': 2, 'GCA': 2, 'GCC': 2, 'GCG': 2, 'ATATA': 1, 'GTT': 2, 'GCT': 2, 'TCTCT': 1, 'GCGCG': 1, 'TTG': 2, 'TATAT': 1} \n",
      "\n",
      "gi|142022655|gb|EQ086233.1|319\n",
      "{'ACC': 2, 'ACG': 2, 'ATC': 2, 'AAC': 2, 'GTGTG': 1, 'CAT': 2, 'CAC': 2, 'CAA': 2, 'CCG': 2, 'GCGCG': 1, 'CGA': 3, 'CGC': 2, 'CGG': 2, 'CGCGC': 1, 'GGC': 2, 'TCG': 2, 'GAC': 2, 'CGT': 2, 'TCA': 2, 'GCA': 2, 'GCC': 2, 'GTC': 2, 'GCG': 2, 'GTG': 2, 'GCT': 2, 'TCTCT': 1, 'CTCTC': 1} \n",
      "\n",
      "gi|142022655|gb|EQ086233.1|521\n",
      "{'CTT': 2, 'GCC': 2, 'GTC': 2, 'ACG': 2, 'GCGCG': 1, 'GCG': 2, 'CGA': 2, 'TCT': 2, 'CGC': 2, 'AGC': 2, 'TGC': 2, 'CTG': 2, 'GTT': 2, 'CACAC': 1, 'TTC': 2, 'CCG': 2, 'CAG': 2, 'CGT': 2, 'CTCTC': 1, 'TCA': 2} \n",
      "\n",
      "gi|142022655|gb|EQ086233.1|350\n",
      "{'ACC': 2, 'ACG': 2, 'AAC': 2, 'GTGTG': 1, 'CTC': 2, 'CAC': 2, 'CAA': 2, 'CAG': 2, 'CCG': 2, 'AGAGA': 1, 'GCGCG': 1, 'CGA': 2, 'CGC': 2, 'CGG': 2, 'TGC': 2, 'CGCGC': 1, 'GGC': 2, 'GAG': 2, 'TCG': 2, 'GAC': 2, 'CGT': 2, 'GCC': 2, 'GTC': 2, 'ACACA': 1, 'GCG': 2, 'TGTGT': 1} \n",
      "\n"
     ]
    }
   ],
   "source": [
    "n=-1\n",
    "for dna in seqsvalue:\n",
    "    n+=1\n",
    "    print ('%s' % (seqskey[n]))\n",
    "    lst=calculate_repeat(dna,1) #print start from frame 1\n",
    "    ep=repeat_times(lst)\n",
    "    print ep, str('\\n')"
   ]
  },
  {
   "cell_type": "code",
   "execution_count": null,
   "metadata": {
    "collapsed": true
   },
   "outputs": [],
   "source": []
  },
  {
   "cell_type": "code",
   "execution_count": null,
   "metadata": {
    "collapsed": true
   },
   "outputs": [],
   "source": []
  },
  {
   "cell_type": "code",
   "execution_count": null,
   "metadata": {
    "collapsed": true
   },
   "outputs": [],
   "source": []
  }
 ],
 "metadata": {
  "kernelspec": {
   "display_name": "Python 2",
   "language": "python",
   "name": "python2"
  },
  "language_info": {
   "codemirror_mode": {
    "name": "ipython",
    "version": 2
   },
   "file_extension": ".py",
   "mimetype": "text/x-python",
   "name": "python",
   "nbconvert_exporter": "python",
   "pygments_lexer": "ipython2",
   "version": "2.7.9"
  }
 },
 "nbformat": 4,
 "nbformat_minor": 0
}
