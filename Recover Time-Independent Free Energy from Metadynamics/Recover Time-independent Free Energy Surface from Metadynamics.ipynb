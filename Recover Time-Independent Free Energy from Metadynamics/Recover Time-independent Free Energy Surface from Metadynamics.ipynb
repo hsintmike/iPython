{
 "cells": [
  {
   "cell_type": "markdown",
   "metadata": {},
   "source": [
    "##Re_Code Python version of new method to obtain real free engergy surface \n",
    "####Reference http://pubs.acs.org/doi/pdfplus/10.1021/jp504920s"
   ]
  },
  {
   "cell_type": "code",
   "execution_count": 3,
   "metadata": {
    "collapsed": true
   },
   "outputs": [],
   "source": [
    "import numpy as np\n",
    "from math import ceil, log, exp\n",
    "import matplotlib.pyplot as plt\n",
    "import scipy as scipy\n",
    "from matplotlib.patches import Rectangle"
   ]
  },
  {
   "cell_type": "markdown",
   "metadata": {},
   "source": [
    "###Input Parameters setting (Only have to change this part)"
   ]
  },
  {
   "cell_type": "code",
   "execution_count": 4,
   "metadata": {
    "collapsed": true
   },
   "outputs": [],
   "source": [
    "numdat = 11  # number of fes files\n",
    "kT = 2.49  # Temp=293.15\n",
    "gamma = 9  # biasfactor\n",
    "col_fe = 2  # column of free energy in fes file\n",
    "numCV = 2  # number of CV\n",
    "numcolv = 25003  # number of time in COLVAR file | wc colvnew\n",
    "col_CV = 1  # first column of CV strat from 0\n",
    "col_bias = 4  # column of metabias in COLVAR file strat from 0\n",
    "\n",
    "# CV max min and ngrid\n",
    "min_ss_core = [-np.pi, -np.pi]\n",
    "max_ss_core = [np.pi, np.pi]\n",
    "ngrid_ss_core = [89, 89]\n"
   ]
  },
  {
   "cell_type": "markdown",
   "metadata": {},
   "source": [
    "###Calculate Time-dependent c(t) function"
   ]
  },
  {
   "cell_type": "code",
   "execution_count": 5,
   "metadata": {
    "collapsed": true
   },
   "outputs": [],
   "source": [
    "ebetac = []\n",
    "for i in range(numdat):\n",
    "    fname = 'fes_%d.dat' % (i)\n",
    "    data = np.loadtxt(fname)\n",
    "    s1, s2 = 0., 0.\n",
    "    for p in data:\n",
    "        exponent = -p[col_fe]/kT\n",
    "        s1 += exp(exponent)\n",
    "        s2 += exp(exponent/gamma)\n",
    "    ebetac += s1 / s2,\n",
    "\n",
    "coft = [kT*log(x) for x in ebetac]\n"
   ]
  },
  {
   "cell_type": "markdown",
   "metadata": {},
   "source": [
    "###Free Energy surface setup"
   ]
  },
  {
   "cell_type": "code",
   "execution_count": 6,
   "metadata": {
    "collapsed": true
   },
   "outputs": [],
   "source": [
    "# Set up the grid surface\n",
    "\n",
    "s_grid = [[]] * numCV\n",
    "\n",
    "for i in range(numCV):\n",
    "    ds = (max_ss_core[i] - min_ss_core[i])/(ngrid_ss_core[i]-1)\n",
    "    s_grid[i] = [min_ss_core[i] + n*ds for n in range(ngrid_ss_core[i])]\n",
    "\n",
    "colvar = np.loadtxt('colvnew')\n",
    "\n",
    "step = numcolv/numdat\n",
    "\n",
    "colvlst = []\n",
    "for i in range(step, numcolv, step):\n",
    "    colvlst.append(i)\n",
    "\n",
    "if colvlst[-1] != numcolv:\n",
    "    colvlst.append(numcolv)\n",
    "\n",
    "datlst = []\n",
    "for i in range(1, numdat+1):\n",
    "    datlst.append(i)\n",
    "\n",
    "if len(datlst) != len(colvlst):\n",
    "    datlst.append(datlst[-1])\n"
   ]
  },
  {
   "cell_type": "markdown",
   "metadata": {},
   "source": [
    "###Go through the trajectory"
   ]
  },
  {
   "cell_type": "code",
   "execution_count": 7,
   "metadata": {
    "collapsed": true
   },
   "outputs": [],
   "source": [
    "for nx, i in enumerate(colvlst):\n",
    "    # initialize square array\n",
    "    fes = np.zeros(ngrid_ss_core)\n",
    "    denom = 0.\n",
    "    u = 0\n",
    "\n",
    "    for row in colvar[:i]:\n",
    "        u += 1\n",
    "        # build the array of grid indeces locs corresponding\n",
    "        # to the point clossest to current point\n",
    "        locs = [[]] * numCV\n",
    "        for j in range(numCV):\n",
    "            val = row[j+col_CV]\n",
    "            diff = np.array([abs(gval - val) for gval in s_grid[j]])\n",
    "            locs[j] = [diff.argmin()]\n",
    "        indx = int(ceil(float(u)/float(i)*float(datlst[nx])))-1\n",
    "\n",
    "        ebias = exp(float(row[col_bias])/kT)/ebetac[indx]\n",
    "        fes[locs] += ebias\n",
    "    denom += ebias\n",
    "\n",
    "    np.seterr(all='ignore')\n",
    "    fes /= denom\n",
    "    fes = -kT*np.log(fes)\n",
    "\n",
    "    fes -= np.min(fes)\n",
    "\n",
    "    with open('out_fes_xy_%s' % (nx), 'w') as f:\n",
    "        if numCV == 3:\n",
    "            for nz, z in enumerate(s_grid[2]):\n",
    "                for ny, y in enumerate(s_grid[1]):\n",
    "                    for nx, x in enumerate(s_grid[0]):\n",
    "                        f.write('%20.12f %20.12f %20.12f %20.12f\\n' %\n",
    "                                (x, y, z, fes[nx][ny][nz]))\n",
    "                    f.write('\\n')\n",
    "        elif numCV == 2:\n",
    "            for ny, y in enumerate(s_grid[1]):\n",
    "                for nx, x in enumerate(s_grid[0]):\n",
    "                    f.write('%20.12f %20.12f %20.12f\\n' % (x, y, fes[nx][ny]))\n",
    "                f.write('\\n')\n",
    "        elif numCV == 1:\n",
    "            for nx, x in enumerate(s_grid[0]):\n",
    "                f.write('%20.12f %20.12f\\n' % (x, fes[nx]))\n",
    "        f.close()\n"
   ]
  },
  {
   "cell_type": "markdown",
   "metadata": {},
   "source": [
    "###The Free energy surface contourplot"
   ]
  },
  {
   "cell_type": "code",
   "execution_count": 8,
   "metadata": {
    "collapsed": false
   },
   "outputs": [
    {
     "data": {
      "image/png": "[encoded data removed]",
      "text/plain": [
       "<matplotlib.figure.Figure at 0x1043d5d10>"
      ]
     },
     "metadata": {},
     "output_type": "display_data"
    }
   ],
   "source": [
    "fesdata = np.genfromtxt('fes_10.dat')\n",
    "%matplotlib inline\n",
    "fesdata = scipy.delete(fesdata, [3, 4], 1)\n",
    "dim = int(np.sqrt(np.size(fesdata)/3))\n",
    "X = np.reshape(fesdata[:, 0], [dim, dim], order='F')\n",
    "Y = np.reshape(fesdata[:, 1], [dim, dim], order='F')\n",
    "Z = np.reshape((fesdata[:, 2]-np.min(fesdata[:, 2]))/4.184,\n",
    "               [dim, dim], order=\"F\")\n",
    "\n",
    "spacer = 1\n",
    "lines = 20\n",
    "levels = np.linspace(0, lines*spacer, num=(lines+1), endpoint=True)\n",
    "\n",
    "\n",
    "fig = plt.figure(figsize=(10, 8))\n",
    "axes = fig.add_subplot(111)\n",
    "plt.xlabel('$\\Phi$', fontsize=20)\n",
    "plt.ylabel('$\\Psi$', fontsize=20)\n",
    "\n",
    "plt.contourf(X, Y, Z, levels, cmap=plt.cm.bone)\n",
    "plt.colorbar()\n",
    "\n",
    "\n",
    "# here is where you set the boxes to define convergence regions\n",
    "C1 = [-1.4, 1]   # center of box 1\n",
    "C2 = [1.0, -0.7]\n",
    "edge1 = 1.0  # edge of box1\n",
    "edge2 = 1.0\n",
    "currentAxis = plt.gca()\n",
    "currentAxis.add_patch(Rectangle((C1[0]-edge1/2, C1[1]-edge1/2), edge1, edge1,\n",
    "                      facecolor='none', edgecolor='yellow', linewidth='3'))\n",
    "currentAxis.add_patch(Rectangle((C2[0]-edge2/2, C2[1]-edge2/2), edge2, edge2,\n",
    "                      facecolor='none', edgecolor='yellow', linewidth='3'))\n",
    "\n",
    "plt.show()\n"
   ]
  },
  {
   "cell_type": "markdown",
   "metadata": {},
   "source": [
    "###Convergence test in two energy basins"
   ]
  },
  {
   "cell_type": "code",
   "execution_count": 9,
   "metadata": {
    "collapsed": true
   },
   "outputs": [],
   "source": [
    "T = 293.15\n",
    "kt = T*0.008314\n",
    "\n",
    "# Define Basin 1\n",
    "x1 = [-1.7, -1.1]\n",
    "y1 = [0.5, 1]\n",
    "\n",
    "# Define Basin 2\n",
    "x2 = [0.8, 1.4]\n",
    "y2 = [-1, -0.4]\n"
   ]
  },
  {
   "cell_type": "code",
   "execution_count": 10,
   "metadata": {
    "collapsed": false
   },
   "outputs": [],
   "source": [
    "avg1 = []\n",
    "avg2 = []\n",
    "for i in range(0, numdat):\n",
    "    data = np.loadtxt('out_fes_xy_%s' % (i))\n",
    "\n",
    "    CV1 = [row[0] for row in data]\n",
    "    CV2 = [row[1] for row in data]\n",
    "    F = [row[2] for row in data]\n",
    "\n",
    "    basin1 = []\n",
    "    for i in range(len(CV1)):\n",
    "        if CV1[i] > x1[0] and CV1[i] < x1[1] and CV2[i] > y1[0] and CV2[i] < y1[1]:\n",
    "            p1 = exp(float(-F[i])/kt)\n",
    "            basin1.append(p1)\n",
    "\n",
    "    basin2 = []\n",
    "    for i in range(len(CV1)):\n",
    "        if CV1[i] > x2[0] and CV1[i] < x2[1] and CV2[i] > y2[0] and CV2[i] < y2[1]:\n",
    "            p2 = exp(float(-F[i])/kt)\n",
    "            basin2.append(p2)\n",
    "\n",
    "    np.seterr(all='ignore')\n",
    "    total1 = sum(basin1)\n",
    "    fes1 = (-kt*np.log(total1))/4.18\n",
    "\n",
    "    total2 = sum(basin2)\n",
    "    fes2 = (-kt*np.log(total2))/4.18\n",
    "\n",
    "    avg1.append(fes1)\n",
    "    avg2.append(fes2)\n"
   ]
  },
  {
   "cell_type": "code",
   "execution_count": 12,
   "metadata": {
    "collapsed": false
   },
   "outputs": [
    {
     "data": {
      "image/png": "[encoded data removed]",
      "text/plain": [
       "<matplotlib.figure.Figure at 0x106859bd0>"
      ]
     },
     "metadata": {},
     "output_type": "display_data"
    }
   ],
   "source": [
    "# plot free-energy as function as time\n",
    "\n",
    "fig = plt.figure(figsize=(10, 8))\n",
    "axes = fig.add_subplot(111)\n",
    "\n",
    "time = np.linspace(0, 10, 11)\n",
    "plt.axis([0, 10, -5, 3])\n",
    "axes.plot(time, avg1, 'g', label='basin1')\n",
    "axes.plot(time, avg2, 'b', label='basin2')\n",
    "plt.xlabel(\"Metadynamics tims(ns)\", fontsize=12)\n",
    "plt.ylabel(\"Free energy (kcal/mol)\", fontsize=12)\n",
    "plt.legend()\n",
    "plt.show()\n"
   ]
  },
  {
   "cell_type": "code",
   "execution_count": 13,
   "metadata": {
    "collapsed": false
   },
   "outputs": [],
   "source": [
    "%%bash\n",
    "rm -rf out_fes_xy_*"
   ]
  },
  {
   "cell_type": "code",
   "execution_count": null,
   "metadata": {
    "collapsed": true
   },
   "outputs": [],
   "source": []
  }
 ],
 "metadata": {
  "kernelspec": {
   "display_name": "Python 2",
   "language": "python",
   "name": "python2"
  },
  "language_info": {
   "codemirror_mode": {
    "name": "ipython",
    "version": 2
   },
   "file_extension": ".py",
   "mimetype": "text/x-python",
   "name": "python",
   "nbconvert_exporter": "python",
   "pygments_lexer": "ipython2",
   "version": "2.7.8"
  }
 },
 "nbformat": 4,
 "nbformat_minor": 0
}
